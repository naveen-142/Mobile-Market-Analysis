{
 "cells": [
  {
   "cell_type": "markdown",
   "id": "44585d2b",
   "metadata": {},
   "source": [
    "## What We Aim To Do\n",
    "In this project, our goal is to:\n",
    "\n",
    "- **Scrape data** From Flipkart's mobile phone listings using Selenium\n",
    "\n",
    "- Extract details such as:\n",
    "\n",
    "       - Mobile name, prices, discount, rating\n",
    "\n",
    "       - Storage, display, camera, battery, and processor specs\n",
    "\n",
    "- Store the collected data in a structured format\n",
    "\n",
    "- **Analyze & visualize** the data using tools like **Pandas** and **Matplotlib**\n",
    "\n",
    "- This project demonstrates a full **data pipeline:** from **web scraping** to **insight generation.**"
   ]
  },
  {
   "cell_type": "markdown",
   "id": "dabbfe82",
   "metadata": {},
   "source": [
    "## Importing Required Libraries\n",
    "We begin by importing necessary Python modules for scraping and analysis:"
   ]
  },
  {
   "cell_type": "code",
   "execution_count": 1,
   "id": "b4ade92c",
   "metadata": {},
   "outputs": [],
   "source": [
    "import numpy as np\n",
    "import pandas as pd\n",
    "from matplotlib import pyplot as plt\n",
    "from selenium import webdriver\n",
    "from selenium.webdriver.common.by import By\n",
    "from selenium.webdriver.support.ui import WebDriverWait\n",
    "from selenium.webdriver.support import expected_conditions as EC\n",
    "import time"
   ]
  },
  {
   "cell_type": "markdown",
   "id": "1cb61bc1",
   "metadata": {},
   "source": [
    "## Launching Selenium Chrome Driver\n",
    "Create a new Selenium browser window using Chrome."
   ]
  },
  {
   "cell_type": "code",
   "execution_count": 2,
   "id": "977bffa7",
   "metadata": {},
   "outputs": [],
   "source": [
    "driver=webdriver.Chrome()"
   ]
  },
  {
   "cell_type": "markdown",
   "id": "3bf3a714",
   "metadata": {},
   "source": [
    "## Opening Flipkart Website\n",
    "Navigate to Flipkart’s homepage. This is the starting point for scraping mobile data."
   ]
  },
  {
   "cell_type": "code",
   "execution_count": 3,
   "id": "ba568faf",
   "metadata": {},
   "outputs": [],
   "source": [
    "driver.get('https://www.flipkart.com/')"
   ]
  },
  {
   "cell_type": "markdown",
   "id": "7dc81678",
   "metadata": {},
   "source": [
    "## Understanding How to Extract Data\n",
    "To collect product data, we identify HTML elements using:\n",
    "\n",
    "- .class_name\n",
    "\n",
    "- .xpath\n",
    "\n",
    "- .tag_name\n",
    "\n",
    "For example, the .title class is used to fetch the product title."
   ]
  },
  {
   "cell_type": "markdown",
   "id": "27fc8359",
   "metadata": {},
   "source": [
    "## Navigating to the Mobiles Section\n",
    "Here, you can manually or programmatically go to the Mobiles section (if not already on it). We'll scrape mobile phone product cards from this section."
   ]
  },
  {
   "cell_type": "code",
   "execution_count": 4,
   "id": "3e1380e1",
   "metadata": {},
   "outputs": [
    {
     "data": {
      "text/plain": [
       "'Mobiles & Tablets'"
      ]
     },
     "execution_count": 4,
     "metadata": {},
     "output_type": "execute_result"
    }
   ],
   "source": [
    "driver.find_element(By.XPATH,'//*[@id=\"container\"]/div/div[1]/div/div/div/div/div/div/div/div/div[2]/div[1]/div/div[1]/div/div/div/div/div[1]/a[2]').text"
   ]
  },
  {
   "cell_type": "code",
   "execution_count": 5,
   "id": "ffdb7353",
   "metadata": {},
   "outputs": [],
   "source": [
    "driver.find_element(By.XPATH,'//*[@id=\"container\"]/div/div[1]/div/div/div/div/div/div/div/div/div[2]/div[1]/div/div[1]/div/div/div/div/div[1]/a[2]').click()"
   ]
  },
  {
   "cell_type": "code",
   "execution_count": 11,
   "id": "69455fd1",
   "metadata": {},
   "outputs": [
    {
     "data": {
      "text/plain": [
       "''"
      ]
     },
     "execution_count": 11,
     "metadata": {},
     "output_type": "execute_result"
    }
   ],
   "source": [
    "driver.find_element(By.CLASS_NAME,'xcFiqU').find_element(By.CLASS_NAME,'YzZtjs').text"
   ]
  },
  {
   "cell_type": "code",
   "execution_count": 12,
   "id": "085bf0f3",
   "metadata": {},
   "outputs": [],
   "source": [
    "driver.find_element(By.CLASS_NAME,'xcFiqU').find_element(By.CLASS_NAME,'YzZtjs').click()"
   ]
  },
  {
   "cell_type": "code",
   "execution_count": null,
   "id": "b87e9f28",
   "metadata": {},
   "outputs": [],
   "source": []
  },
  {
   "cell_type": "code",
   "execution_count": 13,
   "id": "47c1ea5d",
   "metadata": {},
   "outputs": [
    {
     "data": {
      "text/plain": [
       "'Mobiles'"
      ]
     },
     "execution_count": 13,
     "metadata": {},
     "output_type": "execute_result"
    }
   ],
   "source": [
    "driver.find_element(By.CLASS_NAME,'Iu4qXa').find_element(By.CLASS_NAME,'hEjLuS ').text"
   ]
  },
  {
   "cell_type": "code",
   "execution_count": 14,
   "id": "d592be47",
   "metadata": {},
   "outputs": [],
   "source": [
    "driver.find_element(By.CLASS_NAME,'Iu4qXa').find_element(By.CLASS_NAME,'hEjLuS ').click()"
   ]
  },
  {
   "cell_type": "code",
   "execution_count": 15,
   "id": "8114b2e1",
   "metadata": {},
   "outputs": [
    {
     "data": {
      "text/plain": [
       "24"
      ]
     },
     "execution_count": 15,
     "metadata": {},
     "output_type": "execute_result"
    }
   ],
   "source": [
    "len(driver.find_elements(By.CLASS_NAME,'yKfJKb '))"
   ]
  },
  {
   "cell_type": "markdown",
   "id": "3fd066b2",
   "metadata": {},
   "source": [
    "## Collecting Each Product URL\n",
    "We can extract product containers using:"
   ]
  },
  {
   "cell_type": "code",
   "execution_count": 17,
   "id": "f52d0377",
   "metadata": {},
   "outputs": [
    {
     "data": {
      "text/plain": [
       "[<selenium.webdriver.remote.webelement.WebElement (session=\"7d9e537e0faeaa5627e237e866e9bda2\", element=\"f.E3228B38B6C10A53EE7CE13A5EF1E09F.d.71B520257A87AB7F7FBA1A61D30BBDC6.e.9264\")>,\n",
       " <selenium.webdriver.remote.webelement.WebElement (session=\"7d9e537e0faeaa5627e237e866e9bda2\", element=\"f.E3228B38B6C10A53EE7CE13A5EF1E09F.d.71B520257A87AB7F7FBA1A61D30BBDC6.e.9311\")>,\n",
       " <selenium.webdriver.remote.webelement.WebElement (session=\"7d9e537e0faeaa5627e237e866e9bda2\", element=\"f.E3228B38B6C10A53EE7CE13A5EF1E09F.d.71B520257A87AB7F7FBA1A61D30BBDC6.e.9372\")>,\n",
       " <selenium.webdriver.remote.webelement.WebElement (session=\"7d9e537e0faeaa5627e237e866e9bda2\", element=\"f.E3228B38B6C10A53EE7CE13A5EF1E09F.d.71B520257A87AB7F7FBA1A61D30BBDC6.e.9433\")>,\n",
       " <selenium.webdriver.remote.webelement.WebElement (session=\"7d9e537e0faeaa5627e237e866e9bda2\", element=\"f.E3228B38B6C10A53EE7CE13A5EF1E09F.d.71B520257A87AB7F7FBA1A61D30BBDC6.e.9494\")>,\n",
       " <selenium.webdriver.remote.webelement.WebElement (session=\"7d9e537e0faeaa5627e237e866e9bda2\", element=\"f.E3228B38B6C10A53EE7CE13A5EF1E09F.d.71B520257A87AB7F7FBA1A61D30BBDC6.e.9554\")>,\n",
       " <selenium.webdriver.remote.webelement.WebElement (session=\"7d9e537e0faeaa5627e237e866e9bda2\", element=\"f.E3228B38B6C10A53EE7CE13A5EF1E09F.d.71B520257A87AB7F7FBA1A61D30BBDC6.e.9615\")>,\n",
       " <selenium.webdriver.remote.webelement.WebElement (session=\"7d9e537e0faeaa5627e237e866e9bda2\", element=\"f.E3228B38B6C10A53EE7CE13A5EF1E09F.d.71B520257A87AB7F7FBA1A61D30BBDC6.e.9676\")>,\n",
       " <selenium.webdriver.remote.webelement.WebElement (session=\"7d9e537e0faeaa5627e237e866e9bda2\", element=\"f.E3228B38B6C10A53EE7CE13A5EF1E09F.d.71B520257A87AB7F7FBA1A61D30BBDC6.e.9737\")>,\n",
       " <selenium.webdriver.remote.webelement.WebElement (session=\"7d9e537e0faeaa5627e237e866e9bda2\", element=\"f.E3228B38B6C10A53EE7CE13A5EF1E09F.d.71B520257A87AB7F7FBA1A61D30BBDC6.e.9798\")>,\n",
       " <selenium.webdriver.remote.webelement.WebElement (session=\"7d9e537e0faeaa5627e237e866e9bda2\", element=\"f.E3228B38B6C10A53EE7CE13A5EF1E09F.d.71B520257A87AB7F7FBA1A61D30BBDC6.e.9863\")>,\n",
       " <selenium.webdriver.remote.webelement.WebElement (session=\"7d9e537e0faeaa5627e237e866e9bda2\", element=\"f.E3228B38B6C10A53EE7CE13A5EF1E09F.d.71B520257A87AB7F7FBA1A61D30BBDC6.e.9928\")>,\n",
       " <selenium.webdriver.remote.webelement.WebElement (session=\"7d9e537e0faeaa5627e237e866e9bda2\", element=\"f.E3228B38B6C10A53EE7CE13A5EF1E09F.d.71B520257A87AB7F7FBA1A61D30BBDC6.e.9989\")>,\n",
       " <selenium.webdriver.remote.webelement.WebElement (session=\"7d9e537e0faeaa5627e237e866e9bda2\", element=\"f.E3228B38B6C10A53EE7CE13A5EF1E09F.d.71B520257A87AB7F7FBA1A61D30BBDC6.e.10050\")>,\n",
       " <selenium.webdriver.remote.webelement.WebElement (session=\"7d9e537e0faeaa5627e237e866e9bda2\", element=\"f.E3228B38B6C10A53EE7CE13A5EF1E09F.d.71B520257A87AB7F7FBA1A61D30BBDC6.e.10111\")>,\n",
       " <selenium.webdriver.remote.webelement.WebElement (session=\"7d9e537e0faeaa5627e237e866e9bda2\", element=\"f.E3228B38B6C10A53EE7CE13A5EF1E09F.d.71B520257A87AB7F7FBA1A61D30BBDC6.e.10170\")>,\n",
       " <selenium.webdriver.remote.webelement.WebElement (session=\"7d9e537e0faeaa5627e237e866e9bda2\", element=\"f.E3228B38B6C10A53EE7CE13A5EF1E09F.d.71B520257A87AB7F7FBA1A61D30BBDC6.e.10233\")>,\n",
       " <selenium.webdriver.remote.webelement.WebElement (session=\"7d9e537e0faeaa5627e237e866e9bda2\", element=\"f.E3228B38B6C10A53EE7CE13A5EF1E09F.d.71B520257A87AB7F7FBA1A61D30BBDC6.e.10298\")>,\n",
       " <selenium.webdriver.remote.webelement.WebElement (session=\"7d9e537e0faeaa5627e237e866e9bda2\", element=\"f.E3228B38B6C10A53EE7CE13A5EF1E09F.d.71B520257A87AB7F7FBA1A61D30BBDC6.e.10360\")>,\n",
       " <selenium.webdriver.remote.webelement.WebElement (session=\"7d9e537e0faeaa5627e237e866e9bda2\", element=\"f.E3228B38B6C10A53EE7CE13A5EF1E09F.d.71B520257A87AB7F7FBA1A61D30BBDC6.e.10421\")>,\n",
       " <selenium.webdriver.remote.webelement.WebElement (session=\"7d9e537e0faeaa5627e237e866e9bda2\", element=\"f.E3228B38B6C10A53EE7CE13A5EF1E09F.d.71B520257A87AB7F7FBA1A61D30BBDC6.e.10486\")>,\n",
       " <selenium.webdriver.remote.webelement.WebElement (session=\"7d9e537e0faeaa5627e237e866e9bda2\", element=\"f.E3228B38B6C10A53EE7CE13A5EF1E09F.d.71B520257A87AB7F7FBA1A61D30BBDC6.e.10551\")>,\n",
       " <selenium.webdriver.remote.webelement.WebElement (session=\"7d9e537e0faeaa5627e237e866e9bda2\", element=\"f.E3228B38B6C10A53EE7CE13A5EF1E09F.d.71B520257A87AB7F7FBA1A61D30BBDC6.e.10606\")>,\n",
       " <selenium.webdriver.remote.webelement.WebElement (session=\"7d9e537e0faeaa5627e237e866e9bda2\", element=\"f.E3228B38B6C10A53EE7CE13A5EF1E09F.d.71B520257A87AB7F7FBA1A61D30BBDC6.e.10667\")>]"
      ]
     },
     "execution_count": 17,
     "metadata": {},
     "output_type": "execute_result"
    }
   ],
   "source": [
    "driver.find_elements(By.CLASS_NAME,'yKfJKb ')"
   ]
  },
  {
   "cell_type": "markdown",
   "id": "3a21b467",
   "metadata": {},
   "source": [
    "## Going to the Next Page\n",
    "To load more products, click on the Next button.\n",
    "\n",
    "**NOTE**:You can loop through multiple pages if needed."
   ]
  },
  {
   "cell_type": "code",
   "execution_count": 18,
   "id": "10dc15b9",
   "metadata": {},
   "outputs": [
    {
     "data": {
      "text/plain": [
       "'NEXT'"
      ]
     },
     "execution_count": 18,
     "metadata": {},
     "output_type": "execute_result"
    }
   ],
   "source": [
    "driver.find_element(By.CLASS_NAME,'_9QVEpD').text"
   ]
  },
  {
   "cell_type": "code",
   "execution_count": 19,
   "id": "97fd2276",
   "metadata": {},
   "outputs": [
    {
     "data": {
      "text/plain": [
       "24"
      ]
     },
     "execution_count": 19,
     "metadata": {},
     "output_type": "execute_result"
    }
   ],
   "source": [
    "len(driver.find_elements(By.CLASS_NAME,'_75nlfW'))"
   ]
  },
  {
   "cell_type": "markdown",
   "id": "d13f0af7",
   "metadata": {},
   "source": [
    " ## Extracting Product Information"
   ]
  },
  {
   "cell_type": "markdown",
   "id": "007bb2b6",
   "metadata": {},
   "source": [
    "                                                     Name"
   ]
  },
  {
   "cell_type": "code",
   "execution_count": 20,
   "id": "c2faf1e2",
   "metadata": {},
   "outputs": [
    {
     "data": {
      "text/plain": [
       "'realme P3x 5G (Lunar Silver, 128 GB)'"
      ]
     },
     "execution_count": 20,
     "metadata": {},
     "output_type": "execute_result"
    }
   ],
   "source": [
    "driver.find_element(By.CLASS_NAME,'KzDlHZ').text"
   ]
  },
  {
   "cell_type": "code",
   "execution_count": 21,
   "id": "bea9b9a0",
   "metadata": {},
   "outputs": [
    {
     "data": {
      "text/plain": [
       "'realme P3x 5G (Lunar Silver, 128 GB)'"
      ]
     },
     "execution_count": 21,
     "metadata": {},
     "output_type": "execute_result"
    }
   ],
   "source": [
    "driver.find_element(By.CLASS_NAME,'yKfJKb').find_element(By.CLASS_NAME,'KzDlHZ').text"
   ]
  },
  {
   "cell_type": "markdown",
   "id": "48488a5e",
   "metadata": {},
   "source": [
    "                                                  Original_price"
   ]
  },
  {
   "cell_type": "code",
   "execution_count": 22,
   "id": "35ce8ff9",
   "metadata": {},
   "outputs": [
    {
     "data": {
      "text/plain": [
       "'₹16,999'"
      ]
     },
     "execution_count": 22,
     "metadata": {},
     "output_type": "execute_result"
    }
   ],
   "source": [
    "driver.find_element(By.CLASS_NAME,'hl05eU').find_element(By.CLASS_NAME,'yRaY8j').text"
   ]
  },
  {
   "cell_type": "markdown",
   "id": "b2ef0515",
   "metadata": {},
   "source": [
    "                                                   Deal_price"
   ]
  },
  {
   "cell_type": "code",
   "execution_count": 23,
   "id": "e9fadd7e",
   "metadata": {},
   "outputs": [
    {
     "data": {
      "text/plain": [
       "'₹12,999'"
      ]
     },
     "execution_count": 23,
     "metadata": {},
     "output_type": "execute_result"
    }
   ],
   "source": [
    "driver.find_element(By.CLASS_NAME,'hl05eU').find_element(By.CLASS_NAME,'Nx9bqj').text"
   ]
  },
  {
   "cell_type": "markdown",
   "id": "dc045e78",
   "metadata": {},
   "source": [
    "                                                    Discount"
   ]
  },
  {
   "cell_type": "code",
   "execution_count": 24,
   "id": "7fa3e38d",
   "metadata": {},
   "outputs": [
    {
     "data": {
      "text/plain": [
       "'23% off'"
      ]
     },
     "execution_count": 24,
     "metadata": {},
     "output_type": "execute_result"
    }
   ],
   "source": [
    "driver.find_element(By.CLASS_NAME,'hl05eU').find_element(By.CLASS_NAME,'UkUFwK').text"
   ]
  },
  {
   "cell_type": "markdown",
   "id": "4bc2896d",
   "metadata": {},
   "source": [
    "                                                     Rating"
   ]
  },
  {
   "cell_type": "code",
   "execution_count": 25,
   "id": "63913e36",
   "metadata": {},
   "outputs": [
    {
     "data": {
      "text/plain": [
       "'4.5'"
      ]
     },
     "execution_count": 25,
     "metadata": {},
     "output_type": "execute_result"
    }
   ],
   "source": [
    "driver.find_element(By.CLASS_NAME,'XQDdHH').text"
   ]
  },
  {
   "cell_type": "markdown",
   "id": "a7124e3a",
   "metadata": {},
   "source": [
    "                                                     Features"
   ]
  },
  {
   "cell_type": "code",
   "execution_count": 26,
   "id": "4aefb90d",
   "metadata": {},
   "outputs": [
    {
     "data": {
      "text/plain": [
       "'6 GB RAM | 128 GB ROM'"
      ]
     },
     "execution_count": 26,
     "metadata": {},
     "output_type": "execute_result"
    }
   ],
   "source": [
    "driver.find_element(By.CLASS_NAME,'_6NESgJ').find_element(By.CLASS_NAME,'G4BRas').find_elements(By.TAG_NAME,'li')[0].text"
   ]
  },
  {
   "cell_type": "code",
   "execution_count": 27,
   "id": "c9728038",
   "metadata": {},
   "outputs": [
    {
     "data": {
      "text/plain": [
       "'17.07 cm (6.72 inch) Full HD Display'"
      ]
     },
     "execution_count": 27,
     "metadata": {},
     "output_type": "execute_result"
    }
   ],
   "source": [
    "driver.find_element(By.CLASS_NAME,'_6NESgJ').find_element(By.CLASS_NAME,'G4BRas').find_elements(By.TAG_NAME,'li')[1].text"
   ]
  },
  {
   "cell_type": "code",
   "execution_count": 28,
   "id": "a0b5db8f",
   "metadata": {},
   "outputs": [
    {
     "data": {
      "text/plain": [
       "'50MP Rear Camera | 8MP Front Camera'"
      ]
     },
     "execution_count": 28,
     "metadata": {},
     "output_type": "execute_result"
    }
   ],
   "source": [
    "driver.find_element(By.CLASS_NAME,'_6NESgJ').find_element(By.CLASS_NAME,'G4BRas').find_elements(By.TAG_NAME,'li')[2].text"
   ]
  },
  {
   "cell_type": "code",
   "execution_count": 29,
   "id": "5bbbf078",
   "metadata": {},
   "outputs": [
    {
     "data": {
      "text/plain": [
       "'6000 mAh Battery'"
      ]
     },
     "execution_count": 29,
     "metadata": {},
     "output_type": "execute_result"
    }
   ],
   "source": [
    "driver.find_element(By.CLASS_NAME,'_6NESgJ').find_element(By.CLASS_NAME,'G4BRas').find_elements(By.TAG_NAME,'li')[3].text"
   ]
  },
  {
   "cell_type": "code",
   "execution_count": 30,
   "id": "4c5614e5",
   "metadata": {},
   "outputs": [
    {
     "data": {
      "text/plain": [
       "'Dimensity 6400 Processor'"
      ]
     },
     "execution_count": 30,
     "metadata": {},
     "output_type": "execute_result"
    }
   ],
   "source": [
    "driver.find_element(By.CLASS_NAME,'_6NESgJ').find_element(By.CLASS_NAME,'G4BRas').find_elements(By.TAG_NAME,'li')[4].text"
   ]
  },
  {
   "cell_type": "code",
   "execution_count": 31,
   "id": "c92434de",
   "metadata": {},
   "outputs": [
    {
     "data": {
      "text/plain": [
       "'1 Year Manufacturer Warranty for Device and 6 Months Manufacturer Warranty for Inbox Accessories'"
      ]
     },
     "execution_count": 31,
     "metadata": {},
     "output_type": "execute_result"
    }
   ],
   "source": [
    "driver.find_element(By.CLASS_NAME,'_6NESgJ').find_element(By.CLASS_NAME,'G4BRas').find_elements(By.TAG_NAME,'li')[5].text"
   ]
  },
  {
   "cell_type": "markdown",
   "id": "1f46c686",
   "metadata": {},
   "source": [
    "### Getting Each feature data"
   ]
  },
  {
   "cell_type": "code",
   "execution_count": 32,
   "id": "ac805a90",
   "metadata": {},
   "outputs": [],
   "source": [
    "# from selenium.webdriver.support.ui import WebDriverWait\n",
    "# from selenium.webdriver.support import expected_conditions as EC\n",
    "\n",
    "# features = []\n",
    "\n",
    "# for url in urls:\n",
    "#     driver.get(url)\n",
    "\n",
    "#     try:\n",
    "#         wait = WebDriverWait(driver, 10)  # wait up to 10 seconds\n",
    "#         specs_ul = wait.until(EC.presence_of_element_located((By.CLASS_NAME, '_6NESgJ')))\n",
    "#         specs = specs_ul.find_elements(By.TAG_NAME, 'li')\n",
    "\n",
    "#         data = {}\n",
    "#         if len(specs) >= 6:\n",
    "#             data[\"Storage\"] = specs[0].text\n",
    "#             data[\"Display\"] = specs[1].text\n",
    "#             data[\"Camera\"] = specs[2].text\n",
    "#             data[\"Battery\"] = specs[3].text\n",
    "#             data[\"Processor\"] = specs[4].text\n",
    "#             data[\"Warranty\"] = specs[5].text\n",
    "#         else:\n",
    "#             print(f\"Only {len(specs)} specs found for {url}\")\n",
    "\n",
    "#         features.append(data)\n",
    "\n",
    "#     except Exception as e:\n",
    "#         print(f\"Error extracting from {url}: {e}\")\n",
    "#         features.append(None)\n"
   ]
  },
  {
   "cell_type": "code",
   "execution_count": null,
   "id": "99f5aafb",
   "metadata": {},
   "outputs": [],
   "source": []
  },
  {
   "cell_type": "markdown",
   "id": "31638274",
   "metadata": {},
   "source": [
    "## Collecting URLs of Each Product"
   ]
  },
  {
   "cell_type": "code",
   "execution_count": 33,
   "id": "f07a80b2",
   "metadata": {},
   "outputs": [
    {
     "name": "stdout",
     "output_type": "stream",
     "text": [
      "Collected Ads Urls: 24\n",
      "Next Page Loaded....\n",
      "\n",
      "Collected Ads Urls: 48\n",
      "Next Page Loaded....\n",
      "\n",
      "Collected Ads Urls: 72\n",
      "Next Page Loaded....\n",
      "\n",
      "Collected Ads Urls: 96\n",
      "Next Page Loaded....\n",
      "\n",
      "Collected Ads Urls: 120\n",
      "Next Page Loaded....\n",
      "\n"
     ]
    }
   ],
   "source": [
    "urls = []\n",
    "\n",
    "for i in range(5):\n",
    "    elems = driver.find_elements(By.CLASS_NAME,'_75nlfW')\n",
    "    for ele in elems:\n",
    "        url = ele.find_element(By.TAG_NAME, 'a').get_property('href')\n",
    "        if url not in urls:\n",
    "            urls.append(ele.find_element(By.TAG_NAME, 'a').get_property('href'))\n",
    "    print(\"Collected Ads Urls:\", len(urls))\n",
    "    \n",
    "    driver.find_element(By.CLASS_NAME, '_9QVEpD').click()\n",
    "    \n",
    "    driver.execute_script(\"window.scrollTo(0, document.body.scrollHeight-3000);\")\n",
    "    time.sleep(15)\n",
    "    \n",
    "    print(\"Next Page Loaded....\")\n",
    "    print()\n",
    "    "
   ]
  },
  {
   "cell_type": "code",
   "execution_count": 34,
   "id": "6410ed44",
   "metadata": {},
   "outputs": [
    {
     "data": {
      "text/plain": [
       "['https://www.flipkart.com/realme-p3x-5g-lunar-silver-128-gb/p/itmab5a4b09b6ccc?pid=MOBH8VGVHUHDG6FG&lid=LSTMOBH8VGVHUHDG6FGI9LMXH&marketplace=FLIPKART&store=tyy%2F4io&srno=b_1_1&otracker=browse&fm=organic&iid=en_mvNtmJTMg-AU4APU3J0D8Oxs0CN7hlk1Y8IXHJYJaz4q2bzyN-mT683AtsPhb-j2GVbKzrtAQC1opCkmeGiAgg%3D%3D&ppt=browse&ppn=browse&ssid=vd2xejctds0000001746095864554',\n",
       " 'https://www.flipkart.com/cmf-nothing-phone-2-pro-light-green-128-gb/p/itm46a119f176627?pid=MOBHAUHADASAEX2G&lid=LSTMOBHAUHADASAEX2GYKJS5R&marketplace=FLIPKART&store=tyy%2F4io&srno=b_1_2&otracker=browse&fm=organic&iid=en_mvNtmJTMg-AU4APU3J0D8Oxs0CN7hlk1Y8IXHJYJaz6sp_sWwm0zhhD9eBgYkkWkxOugx3FxtDJVgmrdXU3QWfUFjCTyOHoHZs-Z5_PS_w0%3D&ppt=browse&ppn=browse&ssid=vd2xejctds0000001746095864554',\n",
       " 'https://www.flipkart.com/infinix-note-50s-5g-burgundy-red-128-gb/p/itmfbc62747a37e7?pid=MOBHBYYEG5Q5XVNC&lid=LSTMOBHBYYEG5Q5XVNCQNRRXW&marketplace=FLIPKART&store=tyy%2F4io&srno=b_1_3&otracker=browse&fm=organic&iid=e1eaede9-142a-4960-8ce4-24943321877c.MOBHBYYEG5Q5XVNC.SEARCH&ppt=browse&ppn=browse&ssid=vd2xejctds0000001746095864554',\n",
       " 'https://www.flipkart.com/realme-c63-5g-charger-box-starry-gold-128-gb/p/itm10b8f5cccfadd?pid=MOBH3DZQ9G3WGQYY&lid=LSTMOBH3DZQ9G3WGQYYMHSNLX&marketplace=FLIPKART&store=tyy%2F4io&srno=b_1_4&otracker=browse&fm=organic&iid=e1eaede9-142a-4960-8ce4-24943321877c.MOBH3DZQ9G3WGQYY.SEARCH&ppt=browse&ppn=browse&ssid=vd2xejctds0000001746095864554',\n",
       " 'https://www.flipkart.com/realme-c63-5g-charger-box-forest-green-128-gb/p/itm10b8f5cccfadd?pid=MOBH3DZQ4JE2GVAR&lid=LSTMOBH3DZQ4JE2GVAR5U45PL&marketplace=FLIPKART&store=tyy%2F4io&srno=b_1_5&otracker=browse&fm=organic&iid=e1eaede9-142a-4960-8ce4-24943321877c.MOBH3DZQ4JE2GVAR.SEARCH&ppt=browse&ppn=browse&ssid=vd2xejctds0000001746095864554',\n",
       " 'https://www.flipkart.com/google-pixel-9a-porcelain-256-gb/p/itmfe749ceddac9a?pid=MOBH9YME35EYPV4K&lid=LSTMOBH9YME35EYPV4K5K7UZW&marketplace=FLIPKART&store=tyy%2F4io&srno=b_1_6&otracker=browse&fm=organic&iid=en_mvNtmJTMg-AU4APU3J0D8Oxs0CN7hlk1Y8IXHJYJaz5_DUW1FpPLhJmZOhO9C-UgD5mpU_b81_rW0yIovj7iVjRKtQQVWB8eNWYNLe7VuyQ%3D&ppt=browse&ppn=browse&ssid=vd2xejctds0000001746095864554',\n",
       " 'https://www.flipkart.com/poco-c71-locked-airtel-prepaid-cool-blue-64-gb/p/itmdec407554268b?pid=MOBHAFVJBSV3VH9N&lid=LSTMOBHAFVJBSV3VH9NPL87HP&marketplace=FLIPKART&store=tyy%2F4io&srno=b_1_7&otracker=browse&fm=organic&iid=e1eaede9-142a-4960-8ce4-24943321877c.MOBHAFVJBSV3VH9N.SEARCH&ppt=browse&ppn=browse&ssid=vd2xejctds0000001746095864554',\n",
       " 'https://www.flipkart.com/realme-p2-pro-5g-parrot-green-128-gb/p/itm53d39fff9f20c?pid=MOBH45GSFFNCGSGR&lid=LSTMOBH45GSFFNCGSGRZYQX51&marketplace=FLIPKART&store=tyy%2F4io&srno=b_1_8&otracker=browse&fm=organic&iid=e1eaede9-142a-4960-8ce4-24943321877c.MOBH45GSFFNCGSGR.SEARCH&ppt=browse&ppn=browse&ssid=vd2xejctds0000001746095864554',\n",
       " 'https://www.flipkart.com/infinix-note-50s-5g-titanium-grey-128-gb/p/itmfbc62747a37e7?pid=MOBHBYYE9PPMXGBH&lid=LSTMOBHBYYE9PPMXGBHASDX5S&marketplace=FLIPKART&store=tyy%2F4io&srno=b_1_9&otracker=browse&fm=organic&iid=e1eaede9-142a-4960-8ce4-24943321877c.MOBHBYYE9PPMXGBH.SEARCH&ppt=browse&ppn=browse&ssid=vd2xejctds0000001746095864554',\n",
       " 'https://www.flipkart.com/vivo-t4-5g-phantom-grey-256-gb/p/itmc2634fd4daeb9?pid=MOBHATXZGEAN2FWT&lid=LSTMOBHATXZGEAN2FWTXTUH1P&marketplace=FLIPKART&store=tyy%2F4io&srno=b_1_10&otracker=browse&fm=organic&iid=e1eaede9-142a-4960-8ce4-24943321877c.MOBHATXZGEAN2FWT.SEARCH&ppt=browse&ppn=browse&ssid=vd2xejctds0000001746095864554',\n",
       " 'https://www.flipkart.com/samsung-galaxy-a35-5g-awesome-iceblue-128-gb/p/itm9684d2fe9201e?pid=MOBGYT2HEYWFCG8Q&lid=LSTMOBGYT2HEYWFCG8QD16QYA&marketplace=FLIPKART&store=tyy%2F4io&srno=b_1_11&otracker=browse&fm=organic&iid=en_mvNtmJTMg-AU4APU3J0D8Oxs0CN7hlk1Y8IXHJYJaz4icnjxfMez0zTywXi0X5rRPat2adAfNoXCGoSR_C3PT-vN4Mn-dv-pi277bRzMbnY%3D&ppt=browse&ppn=browse&ssid=vd2xejctds0000001746095864554',\n",
       " 'https://www.flipkart.com/samsung-galaxy-s24-5g-amber-yellow-128-gb/p/itmc7715e16403d1?pid=MOBHYJ6QMSGJG28G&lid=LSTMOBHYJ6QMSGJG28GKEE5UE&marketplace=FLIPKART&store=tyy%2F4io&srno=b_1_12&otracker=browse&fm=organic&iid=en_mvNtmJTMg-AU4APU3J0D8Oxs0CN7hlk1Y8IXHJYJaz64ruvVY56k_4AIQIRmt13Mmo6iCvPG78wm0E0YWYvfYGaRs4JL222ZRV-dN99QnxU%3D&ppt=browse&ppn=browse&ssid=vd2xejctds0000001746095864554',\n",
       " 'https://www.flipkart.com/motorola-edge-50-fusion-marshmallow-blue-128-gb/p/itmf88eea5799a27?pid=MOBGXTYZEZSZQE7W&lid=LSTMOBGXTYZEZSZQE7WIBXLBI&marketplace=FLIPKART&store=tyy%2F4io&srno=b_1_13&otracker=browse&fm=organic&iid=e1eaede9-142a-4960-8ce4-24943321877c.MOBGXTYZEZSZQE7W.SEARCH&ppt=browse&ppn=browse&ssid=vd2xejctds0000001746095864554',\n",
       " 'https://www.flipkart.com/poco-c71-desert-gold-64-gb/p/itme3dc58af6a04b?pid=MOBHAFVJZ5CHWMH8&lid=LSTMOBHAFVJZ5CHWMH8MZ5M5D&marketplace=FLIPKART&store=tyy%2F4io&srno=b_1_14&otracker=browse&fm=organic&iid=e1eaede9-142a-4960-8ce4-24943321877c.MOBHAFVJZ5CHWMH8.SEARCH&ppt=browse&ppn=browse&ssid=vd2xejctds0000001746095864554',\n",
       " 'https://www.flipkart.com/infinix-note-50s-5g-burgundy-red-256-gb/p/itmfbc62747a37e7?pid=MOBHBYYEP8ADSFDX&lid=LSTMOBHBYYEP8ADSFDXBNJCJ2&marketplace=FLIPKART&store=tyy%2F4io&srno=b_1_15&otracker=browse&fm=organic&iid=e1eaede9-142a-4960-8ce4-24943321877c.MOBHBYYEP8ADSFDX.SEARCH&ppt=browse&ppn=browse&ssid=vd2xejctds0000001746095864554',\n",
       " 'https://www.flipkart.com/motorola-g85-5g-olive-green-128-gb/p/itm897540eb01ff1?pid=MOBHY9PQMNCMDVCD&lid=LSTMOBHY9PQMNCMDVCDE7RNMM&marketplace=FLIPKART&store=tyy%2F4io&srno=b_1_16&otracker=browse&fm=organic&iid=e1eaede9-142a-4960-8ce4-24943321877c.MOBHY9PQMNCMDVCD.SEARCH&ppt=browse&ppn=browse&ssid=vd2xejctds0000001746095864554',\n",
       " 'https://www.flipkart.com/tecno-spark-go-1-startrail-black-64-gb/p/itma978101d8bf15?pid=MOBH9HYGHKVFVGWS&lid=LSTMOBH9HYGHKVFVGWSLIYFBI&marketplace=FLIPKART&store=tyy%2F4io&srno=b_1_17&otracker=browse&fm=organic&iid=en_mvNtmJTMg-AU4APU3J0D8Oxs0CN7hlk1Y8IXHJYJaz7Lm6gMgS0mhKGW2NFmjrHPHegd1yGD1jSHdpq_O4lS_K8iqbiwhGf4dwbXVx7ZSks%3D&ppt=browse&ppn=browse&ssid=vd2xejctds0000001746095864554',\n",
       " 'https://www.flipkart.com/samsung-galaxy-f06-5g-lit-violet-128-gb/p/itm140da3412b73b?pid=MOBH9AS4FA5RUHSY&lid=LSTMOBH9AS4FA5RUHSYIYVIFO&marketplace=FLIPKART&store=tyy%2F4io&srno=b_1_18&otracker=browse&fm=organic&iid=en_mvNtmJTMg-AU4APU3J0D8Oxs0CN7hlk1Y8IXHJYJaz7BZIkzfcPBv6dxzm68hbnv3un_2xlOWMi5CFCU14jiyvKSJvID5C-RdFfAlzwDiqI%3D&ppt=browse&ppn=browse&ssid=vd2xejctds0000001746095864554',\n",
       " 'https://www.flipkart.com/vivo-t4x-5g-pronto-purple-128-gb/p/itm017656bdd097b?pid=MOBH9JUSZFBNVDXM&lid=LSTMOBH9JUSZFBNVDXMINCOPW&marketplace=FLIPKART&store=tyy%2F4io&spotlightTagId=default_BestsellerId_tyy%2F4io&srno=b_1_19&otracker=browse&fm=organic&iid=e1eaede9-142a-4960-8ce4-24943321877c.MOBH9JUSZFBNVDXM.SEARCH&ppt=browse&ppn=browse&ssid=vd2xejctds0000001746095864554',\n",
       " 'https://www.flipkart.com/infinix-note-50s-5g-titanium-grey-256-gb/p/itmfbc62747a37e7?pid=MOBHBYYEJKP3FZ4Y&lid=LSTMOBHBYYEJKP3FZ4YXLANKV&marketplace=FLIPKART&store=tyy%2F4io&srno=b_1_20&otracker=browse&fm=organic&iid=e1eaede9-142a-4960-8ce4-24943321877c.MOBHBYYEJKP3FZ4Y.SEARCH&ppt=browse&ppn=browse&ssid=vd2xejctds0000001746095864554',\n",
       " 'https://www.flipkart.com/realme-p3-5g-comet-grey-128-gb/p/itm69060f73d27e8?pid=MOBHAYN5TKGSTKJD&lid=LSTMOBHAYN5TKGSTKJD1JQKAL&marketplace=FLIPKART&store=tyy%2F4io&srno=b_1_21&otracker=browse&fm=organic&iid=en_mvNtmJTMg-AU4APU3J0D8Oxs0CN7hlk1Y8IXHJYJaz4X-xEm57-8Odbp4wUUSeTK5UCw5xyx9zTCFmgG1NAntPcUmN_6PwCReg_VTM4VLxo%3D&ppt=browse&ppn=browse&ssid=vd2xejctds0000001746095864554',\n",
       " 'https://www.flipkart.com/nothing-phone-3a-black-128-gb/p/itm49557c5a65f9c?pid=MOBH8G3P6UXPEFSZ&lid=LSTMOBH8G3P6UXPEFSZTYXBHZ&marketplace=FLIPKART&store=tyy%2F4io&srno=b_1_22&otracker=browse&fm=organic&iid=en_mvNtmJTMg-AU4APU3J0D8Oxs0CN7hlk1Y8IXHJYJaz7oMW9dAg9D9U3eYnUDWaPSQuNepZInFSHDicJJ_85iisDbPjpExlWhmpgUQnOg2ao%3D&ppt=browse&ppn=browse&ssid=vd2xejctds0000001746095864554',\n",
       " 'https://www.flipkart.com/oneplus-nord-ce4-lite-5g-super-silver-128-gb/p/itm8fd5fdf300955?pid=MOBH25ZDPHNF38XJ&lid=LSTMOBH25ZDPHNF38XJVHNZIX&marketplace=FLIPKART&store=tyy%2F4io&srno=b_1_23&otracker=browse&fm=organic&iid=e1eaede9-142a-4960-8ce4-24943321877c.MOBH25ZDPHNF38XJ.SEARCH&ppt=browse&ppn=browse&ssid=vd2xejctds0000001746095864554',\n",
       " 'https://www.flipkart.com/poco-c75-5g-aqua-bliss-64-gb/p/itm10b3f6f1bc616?pid=MOBH7443MMBCWPPG&lid=LSTMOBH7443MMBCWPPGVOR2LC&marketplace=FLIPKART&store=tyy%2F4io&srno=b_1_24&otracker=browse&fm=organic&iid=e1eaede9-142a-4960-8ce4-24943321877c.MOBH7443MMBCWPPG.SEARCH&ppt=browse&ppn=browse&ssid=vd2xejctds0000001746095864554',\n",
       " 'https://www.flipkart.com/realme-p3-pro-5g-galaxy-purple-128-gb/p/itme2d563c696f88?pid=MOBH8VGVTFQGZ3UV&lid=LSTMOBH8VGVTFQGZ3UV3MFI3Z&marketplace=FLIPKART&store=tyy%2F4io&srno=b_2_25&otracker=browse&fm=organic&iid=en_A7zrFHP3LtYAW5_Uv3IBF2Vwbzv6P835hLYwPgy2Bk8WPiS0xmlHIVUXnSm5bm_OszP8KzwspYeiPx7SKDLlDvUFjCTyOHoHZs-Z5_PS_w0%3D&ppt=browse&ppn=browse&ssid=vd2xejctds0000001746095864554',\n",
       " 'https://www.flipkart.com/realme-c61-safari-green-128-gb/p/itmd6ddbcefce040?pid=MOBHFRKRAVXUKDGX&lid=LSTMOBHFRKRAVXUKDGX3LF6Z6&marketplace=FLIPKART&store=tyy%2F4io&srno=b_2_26&otracker=browse&fm=organic&iid=c87a0f2b-69ef-4832-a3ef-cbaed7b2da1b.MOBHFRKRAVXUKDGX.SEARCH&ppt=browse&ppn=browse&ssid=vd2xejctds0000001746095864554',\n",
       " 'https://www.flipkart.com/samsung-galaxy-a35-5g-awesome-iceblue-256-gb/p/itmd3af671af1e42?pid=MOBGYT2HYAAHS3ZR&lid=LSTMOBGYT2HYAAHS3ZRSKZG28&marketplace=FLIPKART&store=tyy%2F4io&srno=b_2_27&otracker=browse&fm=organic&iid=en_A7zrFHP3LtYAW5_Uv3IBF2Vwbzv6P835hLYwPgy2Bk-AkQgJqJGMwDkqOLmfiUYkv-DqU0OpJuofbWebG_T9nPUFjCTyOHoHZs-Z5_PS_w0%3D&ppt=browse&ppn=browse&ssid=vd2xejctds0000001746095864554',\n",
       " 'https://www.flipkart.com/tecno-pova-6-neo-5g-aurora-cloud-128-gb/p/itmd24accb9a72ed?pid=MOBH9HYGA26UGXU6&lid=LSTMOBH9HYGA26UGXU6N8EJMP&marketplace=FLIPKART&store=tyy%2F4io&srno=b_2_28&otracker=browse&fm=organic&iid=en_A7zrFHP3LtYAW5_Uv3IBF2Vwbzv6P835hLYwPgy2Bk-pv9AR10fN6z7-Emqsau8ffMFyzdRA-h6iD-rs5bq7YfUFjCTyOHoHZs-Z5_PS_w0%3D&ppt=browse&ppn=browse&ssid=vd2xejctds0000001746095864554',\n",
       " 'https://www.flipkart.com/realme-c61-safari-green-64-gb/p/itmd6ddbcefce040?pid=MOBHFRKRF6ZHBFTW&lid=LSTMOBHFRKRF6ZHBFTW09ES8B&marketplace=FLIPKART&store=tyy%2F4io&srno=b_2_29&otracker=browse&fm=organic&iid=c87a0f2b-69ef-4832-a3ef-cbaed7b2da1b.MOBHFRKRF6ZHBFTW.SEARCH&ppt=browse&ppn=browse&ssid=vd2xejctds0000001746095864554',\n",
       " 'https://www.flipkart.com/vivo-t4-5g-emerald-blaze-128-gb/p/itmc2634fd4daeb9?pid=MOBHATXZYSHYH6ZP&lid=LSTMOBHATXZYSHYH6ZPMNIAH0&marketplace=FLIPKART&store=tyy%2F4io&srno=b_2_30&otracker=browse&fm=organic&iid=c87a0f2b-69ef-4832-a3ef-cbaed7b2da1b.MOBHATXZYSHYH6ZP.SEARCH&ppt=browse&ppn=browse&ssid=vd2xejctds0000001746095864554',\n",
       " 'https://www.flipkart.com/samsung-galaxy-s24-fe-5g-blue-128-gb/p/itme960199e26f23?pid=MOBH4ZG3Z5NCBW2H&lid=LSTMOBH4ZG3Z5NCBW2HWQMO2K&marketplace=FLIPKART&store=tyy%2F4io&srno=b_2_31&otracker=browse&fm=organic&iid=en_A7zrFHP3LtYAW5_Uv3IBF2Vwbzv6P835hLYwPgy2Bk-jmqMmuWXtlgeH83sRx_6Z-nnMRZG61Fzn95V3XcIEbvUFjCTyOHoHZs-Z5_PS_w0%3D&ppt=browse&ppn=browse&ssid=vd2xejctds0000001746095864554',\n",
       " 'https://www.flipkart.com/iair-s10-dual-sim-keypad-phone/p/itmb5b12df64d0da?pid=MOBGVR99BCRJWMFH&lid=LSTMOBGVR99BCRJWMFH6WNWKU&marketplace=FLIPKART&store=tyy%2F4io&srno=b_2_32&otracker=browse&fm=organic&iid=en_A7zrFHP3LtYAW5_Uv3IBF2Vwbzv6P835hLYwPgy2Bk9tBufVbNNupOh44AAoAIDUAHnop0cqy5App0g5sPDyiA%3D%3D&ppt=browse&ppn=browse&ssid=vd2xejctds0000001746095864554',\n",
       " 'https://www.flipkart.com/vivo-t4x-5g-pronto-purple-128-gb/p/itm017656bdd097b?pid=MOBH9JUSZHCX3JRG&lid=LSTMOBH9JUSZHCX3JRGEPZVNT&marketplace=FLIPKART&store=tyy%2F4io&srno=b_2_33&otracker=browse&fm=organic&iid=c87a0f2b-69ef-4832-a3ef-cbaed7b2da1b.MOBH9JUSZHCX3JRG.SEARCH&ppt=browse&ppn=browse&ssid=vd2xejctds0000001746095864554',\n",
       " 'https://www.flipkart.com/realme-c61-marble-black-128-gb/p/itmd6ddbcefce040?pid=MOBHFRKRQMD36FZ5&lid=LSTMOBHFRKRQMD36FZ5ZLCIIC&marketplace=FLIPKART&store=tyy%2F4io&srno=b_2_34&otracker=browse&fm=organic&iid=c87a0f2b-69ef-4832-a3ef-cbaed7b2da1b.MOBHFRKRQMD36FZ5.SEARCH&ppt=browse&ppn=browse&ssid=vd2xejctds0000001746095864554',\n",
       " 'https://www.flipkart.com/samsung-galaxy-f06-5g-lit-violet-64-gb/p/itm1390a80a68073?pid=MOBHBF5JG3BPANSG&lid=LSTMOBHBF5JG3BPANSGWYWEPP&marketplace=FLIPKART&store=tyy%2F4io&srno=b_2_35&otracker=browse&fm=organic&iid=en_A7zrFHP3LtYAW5_Uv3IBF2Vwbzv6P835hLYwPgy2Bk_bv6HSUUC2dzDs3cp2DF5RsnfrTQw8g-RbYYLRr1bYv_UFjCTyOHoHZs-Z5_PS_w0%3D&ppt=browse&ppn=browse&ssid=vd2xejctds0000001746095864554',\n",
       " 'https://www.flipkart.com/motorola-g45-5g-brilliant-green-128-gb/p/itm4f3bbebe58a57?pid=MOBH3YKQQN3S9TQQ&lid=LSTMOBH3YKQQN3S9TQQIXCQDO&marketplace=FLIPKART&store=tyy%2F4io&srno=b_2_36&otracker=browse&fm=organic&iid=c87a0f2b-69ef-4832-a3ef-cbaed7b2da1b.MOBH3YKQQN3S9TQQ.SEARCH&ppt=browse&ppn=browse&ssid=vd2xejctds0000001746095864554',\n",
       " 'https://www.flipkart.com/iair-d10-mini-dual-sim-keypad-phone-1800-mah-battery-big-1-7-inch-display/p/itmcb5118b7e7411?pid=MOBG7CMF9PXXBKQH&lid=LSTMOBG7CMF9PXXBKQHLHTNA6&marketplace=FLIPKART&store=tyy%2F4io&srno=b_2_37&otracker=browse&fm=organic&iid=en_A7zrFHP3LtYAW5_Uv3IBF2Vwbzv6P835hLYwPgy2Bk8FedtgnW7sR5kilUN0HuK97RUvysBFIqnVqRE0ZT_x_Q%3D%3D&ppt=browse&ppn=browse&ssid=vd2xejctds0000001746095864554',\n",
       " 'https://www.flipkart.com/samsung-galaxy-a56-5g-awesome-olive-128-gb/p/itm81265b7c9602c?pid=MOBH9RNG5SA9ADHS&lid=LSTMOBH9RNG5SA9ADHSXUMC58&marketplace=FLIPKART&store=tyy%2F4io&srno=b_2_38&otracker=browse&fm=organic&iid=en_A7zrFHP3LtYAW5_Uv3IBF2Vwbzv6P835hLYwPgy2Bk8ztR5VWgXyMpsg_sMUnwOTTGN3hoj2FgavZCgXvRQcgfUFjCTyOHoHZs-Z5_PS_w0%3D&ppt=browse&ppn=browse&ssid=vd2xejctds0000001746095864554',\n",
       " 'https://www.flipkart.com/infinix-note-50s-5g-marine-drift-blue-128-gb/p/itmfbc62747a37e7?pid=MOBHBYYEMPC8GGKK&lid=LSTMOBHBYYEMPC8GGKKX7PNZI&marketplace=FLIPKART&store=tyy%2F4io&srno=b_2_39&otracker=browse&fm=organic&iid=c87a0f2b-69ef-4832-a3ef-cbaed7b2da1b.MOBHBYYEMPC8GGKK.SEARCH&ppt=browse&ppn=browse&ssid=vd2xejctds0000001746095864554',\n",
       " 'https://www.flipkart.com/realme-p2-pro-5g-parrot-green-256-gb/p/itm53d39fff9f20c?pid=MOBH45GSSTNWUJZB&lid=LSTMOBH45GSSTNWUJZBXNTI43&marketplace=FLIPKART&store=tyy%2F4io&srno=b_2_40&otracker=browse&fm=organic&iid=c87a0f2b-69ef-4832-a3ef-cbaed7b2da1b.MOBH45GSSTNWUJZB.SEARCH&ppt=browse&ppn=browse&ssid=vd2xejctds0000001746095864554',\n",
       " 'https://www.flipkart.com/google-pixel-9a-obsidian-256-gb/p/itmf9d1fcfa566cf?pid=MOBH9YMEQUGCHPHN&lid=LSTMOBH9YMEQUGCHPHNSFHZNA&marketplace=FLIPKART&store=tyy%2F4io&srno=b_2_41&otracker=browse&fm=organic&iid=en_A7zrFHP3LtYAW5_Uv3IBF2Vwbzv6P835hLYwPgy2Bk_3agrskNzDCVUxYvvR4fCYNTHBjEL-jAM49DF_Oo8UrOI7uWi7bi3WLqk6JF-UYDE%3D&ppt=browse&ppn=browse&ssid=vd2xejctds0000001746095864554',\n",
       " 'https://www.flipkart.com/samsung-galaxy-s25-5g-silver-shadow-256-gb/p/itm70d1f331ebbac?pid=MOBH8K8UH9XHPVGQ&lid=LSTMOBH8K8UH9XHPVGQEUE4JY&marketplace=FLIPKART&store=tyy%2F4io&srno=b_2_42&otracker=browse&fm=organic&iid=en_A7zrFHP3LtYAW5_Uv3IBF2Vwbzv6P835hLYwPgy2Bk__xikQ81bIfR26-tdSJwBKKXJX-ciOP5_EFmweEXtR-aV8WX5krIChubBlraAu4CQ%3D&ppt=browse&ppn=browse&ssid=vd2xejctds0000001746095864554',\n",
       " 'https://www.flipkart.com/vivo-t4x-5g-marine-blue-128-gb/p/itm017656bdd097b?pid=MOBH9JUSZWZ5ZZAM&lid=LSTMOBH9JUSZWZ5ZZAMFXTB3Z&marketplace=FLIPKART&store=tyy%2F4io&srno=b_2_43&otracker=browse&fm=organic&iid=c87a0f2b-69ef-4832-a3ef-cbaed7b2da1b.MOBH9JUSZWZ5ZZAM.SEARCH&ppt=browse&ppn=browse&ssid=vd2xejctds0000001746095864554',\n",
       " 'https://www.flipkart.com/motorola-g05-plum-red-64-gb/p/itm87af8109384d4?pid=MOBH5F3QKFHEGBFS&lid=LSTMOBH5F3QKFHEGBFSYF5LHW&marketplace=FLIPKART&store=tyy%2F4io&srno=b_2_44&otracker=browse&fm=organic&iid=c87a0f2b-69ef-4832-a3ef-cbaed7b2da1b.MOBH5F3QKFHEGBFS.SEARCH&ppt=browse&ppn=browse&ssid=vd2xejctds0000001746095864554',\n",
       " 'https://www.flipkart.com/samsung-galaxy-f06-5g-bahama-blue-128-gb/p/itm58189fada62cb?pid=MOBH9AS47XHFRMJY&lid=LSTMOBH9AS47XHFRMJYWI8CRI&marketplace=FLIPKART&store=tyy%2F4io&srno=b_2_45&otracker=browse&fm=organic&iid=en_A7zrFHP3LtYAW5_Uv3IBF2Vwbzv6P835hLYwPgy2Bk9jnrPfqfClwBM7_OI7REPZLUyEOUBsEn2K8_RJeo6MTw891ypMzu4_aryI8_sihJ8%3D&ppt=browse&ppn=browse&ssid=vd2xejctds0000001746095864554',\n",
       " 'https://www.flipkart.com/motorola-edge-60-stylus-pantone-gibraltar-sea-256-gb/p/itm9e562c122f9ee?pid=MOBH9AEUQKVZZYNH&lid=LSTMOBH9AEUQKVZZYNHEJ305D&marketplace=FLIPKART&store=tyy%2F4io&srno=b_2_46&otracker=browse&fm=organic&iid=c87a0f2b-69ef-4832-a3ef-cbaed7b2da1b.MOBH9AEUQKVZZYNH.SEARCH&ppt=browse&ppn=browse&ssid=vd2xejctds0000001746095864554',\n",
       " 'https://www.flipkart.com/samsung-galaxy-a35-5g-awesome-lilac-256-gb/p/itm8f49f29e842cc?pid=MOBGYT2HRXWTHACK&lid=LSTMOBGYT2HRXWTHACKH62UKV&marketplace=FLIPKART&store=tyy%2F4io&srno=b_2_47&otracker=browse&fm=organic&iid=en_A7zrFHP3LtYAW5_Uv3IBF2Vwbzv6P835hLYwPgy2Bk-WFWa_4_MRYYJF-sEU0UfqbMxiga5uQkuA8b-1UWQTJxhTy0lUJ14SzoMSv_CzLF0%3D&ppt=browse&ppn=browse&ssid=vd2xejctds0000001746095864554',\n",
       " 'https://www.flipkart.com/samsung-galaxy-f16-5g-glam-green-128-gb/p/itm05d1354ab28a9?pid=MOBH9ASGHHWYPHRF&lid=LSTMOBH9ASGHHWYPHRFHONIBZ&marketplace=FLIPKART&store=tyy%2F4io&srno=b_2_48&otracker=browse&fm=organic&iid=en_A7zrFHP3LtYAW5_Uv3IBF2Vwbzv6P835hLYwPgy2Bk9u3kFWcsC7Nle_3D2U3lPcm39HxhUQIee578mSwrSMwn3Gaq_wzx4HJysDmGalzMk%3D&ppt=browse&ppn=browse&ssid=vd2xejctds0000001746095864554',\n",
       " 'https://www.flipkart.com/realme-p3x-5g-lunar-silver-128-gb/p/itmab5a4b09b6ccc?pid=MOBH8VGVHUHDG6FG&lid=LSTMOBH8VGVHUHDG6FGI9LMXH&marketplace=FLIPKART&store=tyy%2F4io&srno=b_1_1&otracker=browse&fm=organic&iid=en_QQC5aRIg0wxcYTyfQDp3s-LEY-27Rpijt_9zYozYJCLC7uPVDYm1CHxK2I8kw7NVl0Z0AsSqSeaAu3g1I9QjW_UFjCTyOHoHZs-Z5_PS_w0%3D&ppt=browse&ppn=browse&ssid=vd2xejctds0000001746095864554',\n",
       " 'https://www.flipkart.com/cmf-nothing-phone-2-pro-light-green-128-gb/p/itm46a119f176627?pid=MOBHAUHADASAEX2G&lid=LSTMOBHAUHADASAEX2GYKJS5R&marketplace=FLIPKART&store=tyy%2F4io&srno=b_1_2&otracker=browse&fm=organic&iid=en_QQC5aRIg0wxcYTyfQDp3s-LEY-27Rpijt_9zYozYJCJQcFT_izRxU5R8IovglpaExOugx3FxtDJVgmrdXU3QWfUFjCTyOHoHZs-Z5_PS_w0%3D&ppt=browse&ppn=browse&ssid=vd2xejctds0000001746095864554',\n",
       " 'https://www.flipkart.com/infinix-note-50s-5g-burgundy-red-128-gb/p/itmfbc62747a37e7?pid=MOBHBYYEG5Q5XVNC&lid=LSTMOBHBYYEG5Q5XVNCQNRRXW&marketplace=FLIPKART&store=tyy%2F4io&srno=b_1_3&otracker=browse&fm=organic&iid=4174d1ba-9439-4d8c-9fb1-fbd34bc3f7a1.MOBHBYYEG5Q5XVNC.SEARCH&ppt=browse&ppn=browse&ssid=vd2xejctds0000001746095864554',\n",
       " 'https://www.flipkart.com/realme-c63-5g-charger-box-starry-gold-128-gb/p/itm10b8f5cccfadd?pid=MOBH3DZQ9G3WGQYY&lid=LSTMOBH3DZQ9G3WGQYYMHSNLX&marketplace=FLIPKART&store=tyy%2F4io&srno=b_1_4&otracker=browse&fm=organic&iid=4174d1ba-9439-4d8c-9fb1-fbd34bc3f7a1.MOBH3DZQ9G3WGQYY.SEARCH&ppt=browse&ppn=browse&ssid=vd2xejctds0000001746095864554',\n",
       " 'https://www.flipkart.com/realme-c63-5g-charger-box-forest-green-128-gb/p/itm10b8f5cccfadd?pid=MOBH3DZQ4JE2GVAR&lid=LSTMOBH3DZQ4JE2GVAR5U45PL&marketplace=FLIPKART&store=tyy%2F4io&srno=b_1_5&otracker=browse&fm=organic&iid=4174d1ba-9439-4d8c-9fb1-fbd34bc3f7a1.MOBH3DZQ4JE2GVAR.SEARCH&ppt=browse&ppn=browse&ssid=vd2xejctds0000001746095864554',\n",
       " 'https://www.flipkart.com/google-pixel-9a-porcelain-256-gb/p/itmfe749ceddac9a?pid=MOBH9YME35EYPV4K&lid=LSTMOBH9YME35EYPV4K5K7UZW&marketplace=FLIPKART&store=tyy%2F4io&srno=b_1_6&otracker=browse&fm=organic&iid=en_QQC5aRIg0wxcYTyfQDp3s-LEY-27Rpijt_9zYozYJCJmpBvhjtS7pm4sOcrq6-5BiOdSu1a5GWrGjahdcjK5F0Ksf8s6I2Oz2HOgbXTo_9U%3D&ppt=browse&ppn=browse&ssid=vd2xejctds0000001746095864554',\n",
       " 'https://www.flipkart.com/poco-c71-locked-airtel-prepaid-cool-blue-64-gb/p/itmdec407554268b?pid=MOBHAFVJBSV3VH9N&lid=LSTMOBHAFVJBSV3VH9NPL87HP&marketplace=FLIPKART&store=tyy%2F4io&srno=b_1_7&otracker=browse&fm=organic&iid=4174d1ba-9439-4d8c-9fb1-fbd34bc3f7a1.MOBHAFVJBSV3VH9N.SEARCH&ppt=browse&ppn=browse&ssid=vd2xejctds0000001746095864554',\n",
       " 'https://www.flipkart.com/realme-p2-pro-5g-parrot-green-128-gb/p/itm53d39fff9f20c?pid=MOBH45GSFFNCGSGR&lid=LSTMOBH45GSFFNCGSGRZYQX51&marketplace=FLIPKART&store=tyy%2F4io&srno=b_1_8&otracker=browse&fm=organic&iid=4174d1ba-9439-4d8c-9fb1-fbd34bc3f7a1.MOBH45GSFFNCGSGR.SEARCH&ppt=browse&ppn=browse&ssid=vd2xejctds0000001746095864554',\n",
       " 'https://www.flipkart.com/infinix-note-50s-5g-titanium-grey-128-gb/p/itmfbc62747a37e7?pid=MOBHBYYE9PPMXGBH&lid=LSTMOBHBYYE9PPMXGBHASDX5S&marketplace=FLIPKART&store=tyy%2F4io&srno=b_1_9&otracker=browse&fm=organic&iid=4174d1ba-9439-4d8c-9fb1-fbd34bc3f7a1.MOBHBYYE9PPMXGBH.SEARCH&ppt=browse&ppn=browse&ssid=vd2xejctds0000001746095864554',\n",
       " 'https://www.flipkart.com/vivo-t4-5g-phantom-grey-256-gb/p/itmc2634fd4daeb9?pid=MOBHATXZGEAN2FWT&lid=LSTMOBHATXZGEAN2FWTXTUH1P&marketplace=FLIPKART&store=tyy%2F4io&srno=b_1_10&otracker=browse&fm=organic&iid=4174d1ba-9439-4d8c-9fb1-fbd34bc3f7a1.MOBHATXZGEAN2FWT.SEARCH&ppt=browse&ppn=browse&ssid=vd2xejctds0000001746095864554',\n",
       " 'https://www.flipkart.com/samsung-galaxy-a35-5g-awesome-iceblue-128-gb/p/itm9684d2fe9201e?pid=MOBGYT2HEYWFCG8Q&lid=LSTMOBGYT2HEYWFCG8QD16QYA&marketplace=FLIPKART&store=tyy%2F4io&srno=b_1_11&otracker=browse&fm=organic&iid=en_QQC5aRIg0wxcYTyfQDp3s-LEY-27Rpijt_9zYozYJCLM0FYfVXdWgdUy71eJKeyeWBpuwexnrPdq7VA0oniBXPUFjCTyOHoHZs-Z5_PS_w0%3D&ppt=browse&ppn=browse&ssid=vd2xejctds0000001746095864554',\n",
       " 'https://www.flipkart.com/samsung-galaxy-s24-5g-amber-yellow-128-gb/p/itmc7715e16403d1?pid=MOBHYJ6QMSGJG28G&lid=LSTMOBHYJ6QMSGJG28GKEE5UE&marketplace=FLIPKART&store=tyy%2F4io&srno=b_1_12&otracker=browse&fm=organic&iid=en_QQC5aRIg0wxcYTyfQDp3s-LEY-27Rpijt_9zYozYJCKxIYM85tvn5bWfW4mdF-4h5U7osO7KXaVI6sYjRGCtZfUFjCTyOHoHZs-Z5_PS_w0%3D&ppt=browse&ppn=browse&ssid=vd2xejctds0000001746095864554',\n",
       " 'https://www.flipkart.com/motorola-edge-50-fusion-marshmallow-blue-128-gb/p/itmf88eea5799a27?pid=MOBGXTYZEZSZQE7W&lid=LSTMOBGXTYZEZSZQE7WIBXLBI&marketplace=FLIPKART&store=tyy%2F4io&srno=b_1_13&otracker=browse&fm=organic&iid=4174d1ba-9439-4d8c-9fb1-fbd34bc3f7a1.MOBGXTYZEZSZQE7W.SEARCH&ppt=browse&ppn=browse&ssid=vd2xejctds0000001746095864554',\n",
       " 'https://www.flipkart.com/poco-c71-desert-gold-64-gb/p/itme3dc58af6a04b?pid=MOBHAFVJZ5CHWMH8&lid=LSTMOBHAFVJZ5CHWMH8MZ5M5D&marketplace=FLIPKART&store=tyy%2F4io&srno=b_1_14&otracker=browse&fm=organic&iid=4174d1ba-9439-4d8c-9fb1-fbd34bc3f7a1.MOBHAFVJZ5CHWMH8.SEARCH&ppt=browse&ppn=browse&ssid=vd2xejctds0000001746095864554',\n",
       " 'https://www.flipkart.com/infinix-note-50s-5g-burgundy-red-256-gb/p/itmfbc62747a37e7?pid=MOBHBYYEP8ADSFDX&lid=LSTMOBHBYYEP8ADSFDXBNJCJ2&marketplace=FLIPKART&store=tyy%2F4io&srno=b_1_15&otracker=browse&fm=organic&iid=4174d1ba-9439-4d8c-9fb1-fbd34bc3f7a1.MOBHBYYEP8ADSFDX.SEARCH&ppt=browse&ppn=browse&ssid=vd2xejctds0000001746095864554',\n",
       " 'https://www.flipkart.com/motorola-g85-5g-olive-green-128-gb/p/itm897540eb01ff1?pid=MOBHY9PQMNCMDVCD&lid=LSTMOBHY9PQMNCMDVCDE7RNMM&marketplace=FLIPKART&store=tyy%2F4io&srno=b_1_16&otracker=browse&fm=organic&iid=4174d1ba-9439-4d8c-9fb1-fbd34bc3f7a1.MOBHY9PQMNCMDVCD.SEARCH&ppt=browse&ppn=browse&ssid=vd2xejctds0000001746095864554',\n",
       " 'https://www.flipkart.com/tecno-spark-go-1-startrail-black-64-gb/p/itma978101d8bf15?pid=MOBH9HYGHKVFVGWS&lid=LSTMOBH9HYGHKVFVGWSLIYFBI&marketplace=FLIPKART&store=tyy%2F4io&srno=b_1_17&otracker=browse&fm=organic&iid=en_QQC5aRIg0wxcYTyfQDp3s-LEY-27Rpijt_9zYozYJCIjK4RpQn6Jf6AHaHgmvAOvTB7bQUlvJZiqMI00YHE5F_UFjCTyOHoHZs-Z5_PS_w0%3D&ppt=browse&ppn=browse&ssid=vd2xejctds0000001746095864554',\n",
       " 'https://www.flipkart.com/samsung-galaxy-f06-5g-lit-violet-128-gb/p/itm140da3412b73b?pid=MOBH9AS4FA5RUHSY&lid=LSTMOBH9AS4FA5RUHSYIYVIFO&marketplace=FLIPKART&store=tyy%2F4io&srno=b_1_18&otracker=browse&fm=organic&iid=en_QQC5aRIg0wxcYTyfQDp3s-LEY-27Rpijt_9zYozYJCJ8twOGAC0KuFCVljwbe1EPp3UbuGAmbItMc7BpJNQqzPUFjCTyOHoHZs-Z5_PS_w0%3D&ppt=browse&ppn=browse&ssid=vd2xejctds0000001746095864554',\n",
       " 'https://www.flipkart.com/vivo-t4x-5g-pronto-purple-128-gb/p/itm017656bdd097b?pid=MOBH9JUSZFBNVDXM&lid=LSTMOBH9JUSZFBNVDXMINCOPW&marketplace=FLIPKART&store=tyy%2F4io&spotlightTagId=default_BestsellerId_tyy%2F4io&srno=b_1_19&otracker=browse&fm=organic&iid=4174d1ba-9439-4d8c-9fb1-fbd34bc3f7a1.MOBH9JUSZFBNVDXM.SEARCH&ppt=browse&ppn=browse&ssid=vd2xejctds0000001746095864554',\n",
       " 'https://www.flipkart.com/infinix-note-50s-5g-titanium-grey-256-gb/p/itmfbc62747a37e7?pid=MOBHBYYEJKP3FZ4Y&lid=LSTMOBHBYYEJKP3FZ4YXLANKV&marketplace=FLIPKART&store=tyy%2F4io&srno=b_1_20&otracker=browse&fm=organic&iid=4174d1ba-9439-4d8c-9fb1-fbd34bc3f7a1.MOBHBYYEJKP3FZ4Y.SEARCH&ppt=browse&ppn=browse&ssid=vd2xejctds0000001746095864554',\n",
       " 'https://www.flipkart.com/realme-p3-5g-comet-grey-128-gb/p/itm69060f73d27e8?pid=MOBHAYN5TKGSTKJD&lid=LSTMOBHAYN5TKGSTKJD1JQKAL&marketplace=FLIPKART&store=tyy%2F4io&srno=b_1_21&otracker=browse&fm=organic&iid=en_QQC5aRIg0wxcYTyfQDp3s-LEY-27Rpijt_9zYozYJCJzCvVokeO3Mwq2v-fS4AMizm-kL5vqQZYkXYUBjOgdaw%3D%3D&ppt=browse&ppn=browse&ssid=vd2xejctds0000001746095864554',\n",
       " 'https://www.flipkart.com/nothing-phone-3a-black-128-gb/p/itm49557c5a65f9c?pid=MOBH8G3P6UXPEFSZ&lid=LSTMOBH8G3P6UXPEFSZTYXBHZ&marketplace=FLIPKART&store=tyy%2F4io&srno=b_1_22&otracker=browse&fm=organic&iid=en_QQC5aRIg0wxcYTyfQDp3s-LEY-27Rpijt_9zYozYJCIO0JyVlXF5YxKTXnbWA824lWJRpXLrG-MzcnEo7jvjhvUFjCTyOHoHZs-Z5_PS_w0%3D&ppt=browse&ppn=browse&ssid=vd2xejctds0000001746095864554',\n",
       " 'https://www.flipkart.com/oneplus-nord-ce4-lite-5g-super-silver-128-gb/p/itm8fd5fdf300955?pid=MOBH25ZDPHNF38XJ&lid=LSTMOBH25ZDPHNF38XJVHNZIX&marketplace=FLIPKART&store=tyy%2F4io&srno=b_1_23&otracker=browse&fm=organic&iid=4174d1ba-9439-4d8c-9fb1-fbd34bc3f7a1.MOBH25ZDPHNF38XJ.SEARCH&ppt=browse&ppn=browse&ssid=vd2xejctds0000001746095864554',\n",
       " 'https://www.flipkart.com/poco-c75-5g-aqua-bliss-64-gb/p/itm10b3f6f1bc616?pid=MOBH7443MMBCWPPG&lid=LSTMOBH7443MMBCWPPGVOR2LC&marketplace=FLIPKART&store=tyy%2F4io&srno=b_1_24&otracker=browse&fm=organic&iid=4174d1ba-9439-4d8c-9fb1-fbd34bc3f7a1.MOBH7443MMBCWPPG.SEARCH&ppt=browse&ppn=browse&ssid=vd2xejctds0000001746095864554',\n",
       " 'https://www.flipkart.com/tecno-pova-6-neo-5g-aurora-cloud-128-gb/p/itmd24accb9a72ed?pid=MOBH9HYGA26UGXU6&lid=LSTMOBH9HYGA26UGXU6N8EJMP&marketplace=FLIPKART&store=tyy%2F4io&srno=b_2_25&otracker=browse&fm=organic&iid=en_heCZSbKuWiMYUzkH1nbk1R7x2s8-6CqGzIH1sk1XeAVkFqwewoF3pPFwwV3zHd6j1b4BWZU-yotPAP-HapY6h_UFjCTyOHoHZs-Z5_PS_w0%3D&ppt=browse&ppn=browse&ssid=vd2xejctds0000001746095864554',\n",
       " 'https://www.flipkart.com/realme-c61-safari-green-128-gb/p/itmd6ddbcefce040?pid=MOBHFRKRAVXUKDGX&lid=LSTMOBHFRKRAVXUKDGX3LF6Z6&marketplace=FLIPKART&store=tyy%2F4io&srno=b_2_26&otracker=browse&fm=organic&iid=79d669ca-258c-4473-ab85-3def3899cf50.MOBHFRKRAVXUKDGX.SEARCH&ppt=browse&ppn=browse&ssid=vd2xejctds0000001746095864554',\n",
       " 'https://www.flipkart.com/realme-p3-pro-5g-galaxy-purple-128-gb/p/itme2d563c696f88?pid=MOBH8VGVTFQGZ3UV&lid=LSTMOBH8VGVTFQGZ3UV3MFI3Z&marketplace=FLIPKART&store=tyy%2F4io&srno=b_2_27&otracker=browse&fm=organic&iid=en_heCZSbKuWiMYUzkH1nbk1R7x2s8-6CqGzIH1sk1XeAUbHyhXZOIHnZDji6rSV1NH3rS43L0vrfwvYBDyOrDnBfUFjCTyOHoHZs-Z5_PS_w0%3D&ppt=browse&ppn=browse&ssid=vd2xejctds0000001746095864554',\n",
       " 'https://www.flipkart.com/samsung-galaxy-a35-5g-awesome-iceblue-256-gb/p/itmd3af671af1e42?pid=MOBGYT2HYAAHS3ZR&lid=LSTMOBGYT2HYAAHS3ZRSKZG28&marketplace=FLIPKART&store=tyy%2F4io&srno=b_2_28&otracker=browse&fm=organic&iid=en_heCZSbKuWiMYUzkH1nbk1R7x2s8-6CqGzIH1sk1XeAVjZdLgO808JpiVeA9F5QMpA2glJ0ej_azD2_uBPWISf_UFjCTyOHoHZs-Z5_PS_w0%3D&ppt=browse&ppn=browse&ssid=vd2xejctds0000001746095864554',\n",
       " 'https://www.flipkart.com/realme-c61-safari-green-64-gb/p/itmd6ddbcefce040?pid=MOBHFRKRF6ZHBFTW&lid=LSTMOBHFRKRF6ZHBFTW09ES8B&marketplace=FLIPKART&store=tyy%2F4io&srno=b_2_29&otracker=browse&fm=organic&iid=79d669ca-258c-4473-ab85-3def3899cf50.MOBHFRKRF6ZHBFTW.SEARCH&ppt=browse&ppn=browse&ssid=vd2xejctds0000001746095864554',\n",
       " 'https://www.flipkart.com/vivo-t4-5g-emerald-blaze-128-gb/p/itmc2634fd4daeb9?pid=MOBHATXZYSHYH6ZP&lid=LSTMOBHATXZYSHYH6ZPMNIAH0&marketplace=FLIPKART&store=tyy%2F4io&srno=b_2_30&otracker=browse&fm=organic&iid=79d669ca-258c-4473-ab85-3def3899cf50.MOBHATXZYSHYH6ZP.SEARCH&ppt=browse&ppn=browse&ssid=vd2xejctds0000001746095864554',\n",
       " 'https://www.flipkart.com/samsung-galaxy-s24-fe-5g-blue-128-gb/p/itme960199e26f23?pid=MOBH4ZG3Z5NCBW2H&lid=LSTMOBH4ZG3Z5NCBW2HWQMO2K&marketplace=FLIPKART&store=tyy%2F4io&srno=b_2_31&otracker=browse&fm=organic&iid=en_heCZSbKuWiMYUzkH1nbk1R7x2s8-6CqGzIH1sk1XeAWeCfr9pprKT7ZCKIvEpFIs-nnMRZG61Fzn95V3XcIEbvUFjCTyOHoHZs-Z5_PS_w0%3D&ppt=browse&ppn=browse&ssid=vd2xejctds0000001746095864554',\n",
       " 'https://www.flipkart.com/samsung-galaxy-f06-5g-lit-violet-64-gb/p/itm1390a80a68073?pid=MOBHBF5JG3BPANSG&lid=LSTMOBHBF5JG3BPANSGWYWEPP&marketplace=FLIPKART&store=tyy%2F4io&srno=b_2_32&otracker=browse&fm=organic&iid=en_heCZSbKuWiMYUzkH1nbk1R7x2s8-6CqGzIH1sk1XeAU49qlvohBWbq2UZdGhpBr4QABhoo2_1vOcy8s3ENiu0vUFjCTyOHoHZs-Z5_PS_w0%3D&ppt=browse&ppn=browse&ssid=vd2xejctds0000001746095864554',\n",
       " 'https://www.flipkart.com/vivo-t4x-5g-pronto-purple-128-gb/p/itm017656bdd097b?pid=MOBH9JUSZHCX3JRG&lid=LSTMOBH9JUSZHCX3JRGEPZVNT&marketplace=FLIPKART&store=tyy%2F4io&srno=b_2_33&otracker=browse&fm=organic&iid=79d669ca-258c-4473-ab85-3def3899cf50.MOBH9JUSZHCX3JRG.SEARCH&ppt=browse&ppn=browse&ssid=vd2xejctds0000001746095864554',\n",
       " 'https://www.flipkart.com/realme-c61-marble-black-128-gb/p/itmd6ddbcefce040?pid=MOBHFRKRQMD36FZ5&lid=LSTMOBHFRKRQMD36FZ5ZLCIIC&marketplace=FLIPKART&store=tyy%2F4io&srno=b_2_34&otracker=browse&fm=organic&iid=79d669ca-258c-4473-ab85-3def3899cf50.MOBHFRKRQMD36FZ5.SEARCH&ppt=browse&ppn=browse&ssid=vd2xejctds0000001746095864554',\n",
       " 'https://www.flipkart.com/iair-d10-mini-dual-sim-keypad-phone-1800-mah-battery-big-1-7-inch-display/p/itmcb5118b7e7411?pid=MOBG7CMF9PXXBKQH&lid=LSTMOBG7CMF9PXXBKQHLHTNA6&marketplace=FLIPKART&store=tyy%2F4io&srno=b_2_35&otracker=browse&fm=organic&iid=en_heCZSbKuWiMYUzkH1nbk1R7x2s8-6CqGzIH1sk1XeAVplicl5WK7IEqCBf9KyWu9OnlDNR_dn2zR4637_T8CVw%3D%3D&ppt=browse&ppn=browse&ssid=vd2xejctds0000001746095864554',\n",
       " 'https://www.flipkart.com/motorola-g45-5g-brilliant-green-128-gb/p/itm4f3bbebe58a57?pid=MOBH3YKQQN3S9TQQ&lid=LSTMOBH3YKQQN3S9TQQIXCQDO&marketplace=FLIPKART&store=tyy%2F4io&srno=b_2_36&otracker=browse&fm=organic&iid=79d669ca-258c-4473-ab85-3def3899cf50.MOBH3YKQQN3S9TQQ.SEARCH&ppt=browse&ppn=browse&ssid=vd2xejctds0000001746095864554',\n",
       " 'https://www.flipkart.com/samsung-galaxy-a56-5g-awesome-olive-128-gb/p/itm81265b7c9602c?pid=MOBH9RNG5SA9ADHS&lid=LSTMOBH9RNG5SA9ADHSXUMC58&marketplace=FLIPKART&store=tyy%2F4io&srno=b_2_37&otracker=browse&fm=organic&iid=en_heCZSbKuWiMYUzkH1nbk1R7x2s8-6CqGzIH1sk1XeAVHF2M3pOQxJUqQjwAfutYdHVRQYRk2K4NIXzoQ8k2hoPUFjCTyOHoHZs-Z5_PS_w0%3D&ppt=browse&ppn=browse&ssid=vd2xejctds0000001746095864554',\n",
       " 'https://www.flipkart.com/google-pixel-9a-obsidian-256-gb/p/itmf9d1fcfa566cf?pid=MOBH9YMEQUGCHPHN&lid=LSTMOBH9YMEQUGCHPHNSFHZNA&marketplace=FLIPKART&store=tyy%2F4io&srno=b_2_38&otracker=browse&fm=organic&iid=en_heCZSbKuWiMYUzkH1nbk1R7x2s8-6CqGzIH1sk1XeAX_rvTw2OrJFFHll5ZLtD1MNTHBjEL-jAM49DF_Oo8UrPcUmN_6PwCReg_VTM4VLxo%3D&ppt=browse&ppn=browse&ssid=vd2xejctds0000001746095864554',\n",
       " 'https://www.flipkart.com/infinix-note-50s-5g-marine-drift-blue-128-gb/p/itmfbc62747a37e7?pid=MOBHBYYEMPC8GGKK&lid=LSTMOBHBYYEMPC8GGKKX7PNZI&marketplace=FLIPKART&store=tyy%2F4io&srno=b_2_39&otracker=browse&fm=organic&iid=79d669ca-258c-4473-ab85-3def3899cf50.MOBHBYYEMPC8GGKK.SEARCH&ppt=browse&ppn=browse&ssid=vd2xejctds0000001746095864554',\n",
       " 'https://www.flipkart.com/realme-p2-pro-5g-parrot-green-256-gb/p/itm53d39fff9f20c?pid=MOBH45GSSTNWUJZB&lid=LSTMOBH45GSSTNWUJZBXNTI43&marketplace=FLIPKART&store=tyy%2F4io&srno=b_2_40&otracker=browse&fm=organic&iid=79d669ca-258c-4473-ab85-3def3899cf50.MOBH45GSSTNWUJZB.SEARCH&ppt=browse&ppn=browse&ssid=vd2xejctds0000001746095864554',\n",
       " 'https://www.flipkart.com/samsung-galaxy-f06-5g-bahama-blue-128-gb/p/itm58189fada62cb?pid=MOBH9AS47XHFRMJY&lid=LSTMOBH9AS47XHFRMJYWI8CRI&marketplace=FLIPKART&store=tyy%2F4io&srno=b_2_41&otracker=browse&fm=organic&iid=en_heCZSbKuWiMYUzkH1nbk1R7x2s8-6CqGzIH1sk1XeAUFoSB8hrIfXEs23-RhbZqy6pU37oLr_hdZ9S3llE_fyvUFjCTyOHoHZs-Z5_PS_w0%3D&ppt=browse&ppn=browse&ssid=vd2xejctds0000001746095864554',\n",
       " 'https://www.flipkart.com/samsung-galaxy-a35-5g-awesome-lilac-256-gb/p/itm8f49f29e842cc?pid=MOBGYT2HRXWTHACK&lid=LSTMOBGYT2HRXWTHACKH62UKV&marketplace=FLIPKART&store=tyy%2F4io&srno=b_2_42&otracker=browse&fm=organic&iid=en_heCZSbKuWiMYUzkH1nbk1R7x2s8-6CqGzIH1sk1XeAUPebjizLLPnaZs4NUSacRKbMxiga5uQkuA8b-1UWQTJ6V8WX5krIChubBlraAu4CQ%3D&ppt=browse&ppn=browse&ssid=vd2xejctds0000001746095864554',\n",
       " 'https://www.flipkart.com/vivo-t4x-5g-marine-blue-128-gb/p/itm017656bdd097b?pid=MOBH9JUSZWZ5ZZAM&lid=LSTMOBH9JUSZWZ5ZZAMFXTB3Z&marketplace=FLIPKART&store=tyy%2F4io&srno=b_2_43&otracker=browse&fm=organic&iid=79d669ca-258c-4473-ab85-3def3899cf50.MOBH9JUSZWZ5ZZAM.SEARCH&ppt=browse&ppn=browse&ssid=vd2xejctds0000001746095864554',\n",
       " 'https://www.flipkart.com/motorola-g05-plum-red-64-gb/p/itm87af8109384d4?pid=MOBH5F3QKFHEGBFS&lid=LSTMOBH5F3QKFHEGBFSYF5LHW&marketplace=FLIPKART&store=tyy%2F4io&srno=b_2_44&otracker=browse&fm=organic&iid=79d669ca-258c-4473-ab85-3def3899cf50.MOBH5F3QKFHEGBFS.SEARCH&ppt=browse&ppn=browse&ssid=vd2xejctds0000001746095864554',\n",
       " 'https://www.flipkart.com/samsung-galaxy-s25-5g-silver-shadow-256-gb/p/itm70d1f331ebbac?pid=MOBH8K8UH9XHPVGQ&lid=LSTMOBH8K8UH9XHPVGQEUE4JY&marketplace=FLIPKART&store=tyy%2F4io&srno=b_2_45&otracker=browse&fm=organic&iid=en_heCZSbKuWiMYUzkH1nbk1R7x2s8-6CqGzIH1sk1XeAUivqxUK1FNuVFT7_EYZM9lKXJX-ciOP5_EFmweEXtR-Q891ypMzu4_aryI8_sihJ8%3D&ppt=browse&ppn=browse&ssid=vd2xejctds0000001746095864554',\n",
       " 'https://www.flipkart.com/motorola-edge-60-stylus-pantone-gibraltar-sea-256-gb/p/itm9e562c122f9ee?pid=MOBH9AEUQKVZZYNH&lid=LSTMOBH9AEUQKVZZYNHEJ305D&marketplace=FLIPKART&store=tyy%2F4io&srno=b_2_46&otracker=browse&fm=organic&iid=79d669ca-258c-4473-ab85-3def3899cf50.MOBH9AEUQKVZZYNH.SEARCH&ppt=browse&ppn=browse&ssid=vd2xejctds0000001746095864554',\n",
       " 'https://www.flipkart.com/samsung-galaxy-f16-5g-glam-green-128-gb/p/itm05d1354ab28a9?pid=MOBH9ASGHHWYPHRF&lid=LSTMOBH9ASGHHWYPHRFHONIBZ&marketplace=FLIPKART&store=tyy%2F4io&srno=b_2_47&otracker=browse&fm=organic&iid=en_heCZSbKuWiMYUzkH1nbk1R7x2s8-6CqGzIH1sk1XeAUQU-RwVylOmn-I7EIY_0Q2m39HxhUQIee578mSwrSMwhhTy0lUJ14SzoMSv_CzLF0%3D&ppt=browse&ppn=browse&ssid=vd2xejctds0000001746095864554',\n",
       " 'https://www.flipkart.com/samsung-galaxy-a35-5g-awesome-lilac-128-gb/p/itm5a31476ca6a35?pid=MOBGYT2HDZYASSZG&lid=LSTMOBGYT2HDZYASSZGOUJTDB&marketplace=FLIPKART&store=tyy%2F4io&srno=b_2_48&otracker=browse&fm=organic&iid=en_heCZSbKuWiMYUzkH1nbk1R7x2s8-6CqGzIH1sk1XeAWb1Ihza5dXD2nUjlRIH0G_FUDJsJm3DfIWWL0gWDBjvn3Gaq_wzx4HJysDmGalzMk%3D&ppt=browse&ppn=browse&ssid=vd2xejctds0000001746095864554',\n",
       " 'https://www.flipkart.com/realme-p3x-5g-lunar-silver-128-gb/p/itmab5a4b09b6ccc?pid=MOBH8VGVHUHDG6FG&lid=LSTMOBH8VGVHUHDG6FGI9LMXH&marketplace=FLIPKART&store=tyy%2F4io&srno=b_1_1&otracker=browse&fm=organic&iid=en_8Itob-5fpJmhT2m3U-lK5b0u-9aJ2yNSylxvPME4KvCsBWscuoY1hagyzLMJJ5LnGVbKzrtAQC1opCkmeGiAgg%3D%3D&ppt=browse&ppn=browse&ssid=vd2xejctds0000001746095864554',\n",
       " 'https://www.flipkart.com/cmf-nothing-phone-2-pro-light-green-128-gb/p/itm46a119f176627?pid=MOBHAUHADASAEX2G&lid=LSTMOBHAUHADASAEX2GYKJS5R&marketplace=FLIPKART&store=tyy%2F4io&srno=b_1_2&otracker=browse&fm=organic&iid=en_8Itob-5fpJmhT2m3U-lK5b0u-9aJ2yNSylxvPME4KvAUDYrYFFyIt5idUZaUMi2xxOugx3FxtDJVgmrdXU3QWfUFjCTyOHoHZs-Z5_PS_w0%3D&ppt=browse&ppn=browse&ssid=vd2xejctds0000001746095864554',\n",
       " 'https://www.flipkart.com/infinix-note-50s-5g-burgundy-red-128-gb/p/itmfbc62747a37e7?pid=MOBHBYYEG5Q5XVNC&lid=LSTMOBHBYYEG5Q5XVNCQNRRXW&marketplace=FLIPKART&store=tyy%2F4io&srno=b_1_3&otracker=browse&fm=organic&iid=c7bc0595-969e-490f-a369-15f39ea7f836.MOBHBYYEG5Q5XVNC.SEARCH&ppt=browse&ppn=browse&ssid=vd2xejctds0000001746095864554',\n",
       " 'https://www.flipkart.com/realme-c63-5g-charger-box-starry-gold-128-gb/p/itm10b8f5cccfadd?pid=MOBH3DZQ9G3WGQYY&lid=LSTMOBH3DZQ9G3WGQYYMHSNLX&marketplace=FLIPKART&store=tyy%2F4io&srno=b_1_4&otracker=browse&fm=organic&iid=c7bc0595-969e-490f-a369-15f39ea7f836.MOBH3DZQ9G3WGQYY.SEARCH&ppt=browse&ppn=browse&ssid=vd2xejctds0000001746095864554',\n",
       " 'https://www.flipkart.com/realme-c63-5g-charger-box-forest-green-128-gb/p/itm10b8f5cccfadd?pid=MOBH3DZQ4JE2GVAR&lid=LSTMOBH3DZQ4JE2GVAR5U45PL&marketplace=FLIPKART&store=tyy%2F4io&srno=b_1_5&otracker=browse&fm=organic&iid=c7bc0595-969e-490f-a369-15f39ea7f836.MOBH3DZQ4JE2GVAR.SEARCH&ppt=browse&ppn=browse&ssid=vd2xejctds0000001746095864554',\n",
       " 'https://www.flipkart.com/google-pixel-9a-porcelain-256-gb/p/itmfe749ceddac9a?pid=MOBH9YME35EYPV4K&lid=LSTMOBH9YME35EYPV4K5K7UZW&marketplace=FLIPKART&store=tyy%2F4io&srno=b_1_6&otracker=browse&fm=organic&iid=en_8Itob-5fpJmhT2m3U-lK5b0u-9aJ2yNSylxvPME4KvBFB8rzmK0SNOnj6PUqSp_VD5mpU_b81_rW0yIovj7iVjRKtQQVWB8eNWYNLe7VuyQ%3D&ppt=browse&ppn=browse&ssid=vd2xejctds0000001746095864554',\n",
       " 'https://www.flipkart.com/poco-c71-locked-airtel-prepaid-cool-blue-64-gb/p/itmdec407554268b?pid=MOBHAFVJBSV3VH9N&lid=LSTMOBHAFVJBSV3VH9NPL87HP&marketplace=FLIPKART&store=tyy%2F4io&srno=b_1_7&otracker=browse&fm=organic&iid=c7bc0595-969e-490f-a369-15f39ea7f836.MOBHAFVJBSV3VH9N.SEARCH&ppt=browse&ppn=browse&ssid=vd2xejctds0000001746095864554',\n",
       " 'https://www.flipkart.com/realme-p2-pro-5g-parrot-green-128-gb/p/itm53d39fff9f20c?pid=MOBH45GSFFNCGSGR&lid=LSTMOBH45GSFFNCGSGRZYQX51&marketplace=FLIPKART&store=tyy%2F4io&srno=b_1_8&otracker=browse&fm=organic&iid=c7bc0595-969e-490f-a369-15f39ea7f836.MOBH45GSFFNCGSGR.SEARCH&ppt=browse&ppn=browse&ssid=vd2xejctds0000001746095864554',\n",
       " 'https://www.flipkart.com/infinix-note-50s-5g-titanium-grey-128-gb/p/itmfbc62747a37e7?pid=MOBHBYYE9PPMXGBH&lid=LSTMOBHBYYE9PPMXGBHASDX5S&marketplace=FLIPKART&store=tyy%2F4io&srno=b_1_9&otracker=browse&fm=organic&iid=c7bc0595-969e-490f-a369-15f39ea7f836.MOBHBYYE9PPMXGBH.SEARCH&ppt=browse&ppn=browse&ssid=vd2xejctds0000001746095864554',\n",
       " 'https://www.flipkart.com/vivo-t4-5g-phantom-grey-256-gb/p/itmc2634fd4daeb9?pid=MOBHATXZGEAN2FWT&lid=LSTMOBHATXZGEAN2FWTXTUH1P&marketplace=FLIPKART&store=tyy%2F4io&srno=b_1_10&otracker=browse&fm=organic&iid=c7bc0595-969e-490f-a369-15f39ea7f836.MOBHATXZGEAN2FWT.SEARCH&ppt=browse&ppn=browse&ssid=vd2xejctds0000001746095864554',\n",
       " 'https://www.flipkart.com/samsung-galaxy-a35-5g-awesome-iceblue-128-gb/p/itm9684d2fe9201e?pid=MOBGYT2HEYWFCG8Q&lid=LSTMOBGYT2HEYWFCG8QD16QYA&marketplace=FLIPKART&store=tyy%2F4io&srno=b_1_11&otracker=browse&fm=organic&iid=en_8Itob-5fpJmhT2m3U-lK5b0u-9aJ2yNSylxvPME4KvApS6d-URPPrZ2Mvf2l12E3Pat2adAfNoXCGoSR_C3PT-vN4Mn-dv-pi277bRzMbnY%3D&ppt=browse&ppn=browse&ssid=vd2xejctds0000001746095864554',\n",
       " 'https://www.flipkart.com/samsung-galaxy-s24-5g-amber-yellow-128-gb/p/itmc7715e16403d1?pid=MOBHYJ6QMSGJG28G&lid=LSTMOBHYJ6QMSGJG28GKEE5UE&marketplace=FLIPKART&store=tyy%2F4io&srno=b_1_12&otracker=browse&fm=organic&iid=en_8Itob-5fpJmhT2m3U-lK5b0u-9aJ2yNSylxvPME4KvDAmNk9uRu4oc8-fX_KaqkKmo6iCvPG78wm0E0YWYvfYGaRs4JL222ZRV-dN99QnxU%3D&ppt=browse&ppn=browse&ssid=vd2xejctds0000001746095864554',\n",
       " 'https://www.flipkart.com/motorola-edge-50-fusion-marshmallow-blue-128-gb/p/itmf88eea5799a27?pid=MOBGXTYZEZSZQE7W&lid=LSTMOBGXTYZEZSZQE7WIBXLBI&marketplace=FLIPKART&store=tyy%2F4io&srno=b_1_13&otracker=browse&fm=organic&iid=c7bc0595-969e-490f-a369-15f39ea7f836.MOBGXTYZEZSZQE7W.SEARCH&ppt=browse&ppn=browse&ssid=vd2xejctds0000001746095864554',\n",
       " 'https://www.flipkart.com/poco-c71-desert-gold-64-gb/p/itme3dc58af6a04b?pid=MOBHAFVJZ5CHWMH8&lid=LSTMOBHAFVJZ5CHWMH8MZ5M5D&marketplace=FLIPKART&store=tyy%2F4io&srno=b_1_14&otracker=browse&fm=organic&iid=c7bc0595-969e-490f-a369-15f39ea7f836.MOBHAFVJZ5CHWMH8.SEARCH&ppt=browse&ppn=browse&ssid=vd2xejctds0000001746095864554',\n",
       " 'https://www.flipkart.com/infinix-note-50s-5g-burgundy-red-256-gb/p/itmfbc62747a37e7?pid=MOBHBYYEP8ADSFDX&lid=LSTMOBHBYYEP8ADSFDXBNJCJ2&marketplace=FLIPKART&store=tyy%2F4io&srno=b_1_15&otracker=browse&fm=organic&iid=c7bc0595-969e-490f-a369-15f39ea7f836.MOBHBYYEP8ADSFDX.SEARCH&ppt=browse&ppn=browse&ssid=vd2xejctds0000001746095864554',\n",
       " 'https://www.flipkart.com/motorola-g85-5g-olive-green-128-gb/p/itm897540eb01ff1?pid=MOBHY9PQMNCMDVCD&lid=LSTMOBHY9PQMNCMDVCDE7RNMM&marketplace=FLIPKART&store=tyy%2F4io&srno=b_1_16&otracker=browse&fm=organic&iid=c7bc0595-969e-490f-a369-15f39ea7f836.MOBHY9PQMNCMDVCD.SEARCH&ppt=browse&ppn=browse&ssid=vd2xejctds0000001746095864554',\n",
       " 'https://www.flipkart.com/tecno-spark-go-1-startrail-black-64-gb/p/itma978101d8bf15?pid=MOBH9HYGHKVFVGWS&lid=LSTMOBH9HYGHKVFVGWSLIYFBI&marketplace=FLIPKART&store=tyy%2F4io&srno=b_1_17&otracker=browse&fm=organic&iid=en_8Itob-5fpJmhT2m3U-lK5b0u-9aJ2yNSylxvPME4KvBJQmXIwuzPNEBLBeT2f84UHegd1yGD1jSHdpq_O4lS_K8iqbiwhGf4dwbXVx7ZSks%3D&ppt=browse&ppn=browse&ssid=vd2xejctds0000001746095864554',\n",
       " 'https://www.flipkart.com/samsung-galaxy-f06-5g-lit-violet-128-gb/p/itm140da3412b73b?pid=MOBH9AS4FA5RUHSY&lid=LSTMOBH9AS4FA5RUHSYIYVIFO&marketplace=FLIPKART&store=tyy%2F4io&srno=b_1_18&otracker=browse&fm=organic&iid=en_8Itob-5fpJmhT2m3U-lK5b0u-9aJ2yNSylxvPME4KvAOxjtf8ukkqIwtfe-gsEhM3un_2xlOWMi5CFCU14jiyvKSJvID5C-RdFfAlzwDiqI%3D&ppt=browse&ppn=browse&ssid=vd2xejctds0000001746095864554',\n",
       " 'https://www.flipkart.com/vivo-t4x-5g-pronto-purple-128-gb/p/itm017656bdd097b?pid=MOBH9JUSZFBNVDXM&lid=LSTMOBH9JUSZFBNVDXMINCOPW&marketplace=FLIPKART&store=tyy%2F4io&spotlightTagId=default_BestsellerId_tyy%2F4io&srno=b_1_19&otracker=browse&fm=organic&iid=c7bc0595-969e-490f-a369-15f39ea7f836.MOBH9JUSZFBNVDXM.SEARCH&ppt=browse&ppn=browse&ssid=vd2xejctds0000001746095864554',\n",
       " 'https://www.flipkart.com/infinix-note-50s-5g-titanium-grey-256-gb/p/itmfbc62747a37e7?pid=MOBHBYYEJKP3FZ4Y&lid=LSTMOBHBYYEJKP3FZ4YXLANKV&marketplace=FLIPKART&store=tyy%2F4io&srno=b_1_20&otracker=browse&fm=organic&iid=c7bc0595-969e-490f-a369-15f39ea7f836.MOBHBYYEJKP3FZ4Y.SEARCH&ppt=browse&ppn=browse&ssid=vd2xejctds0000001746095864554',\n",
       " 'https://www.flipkart.com/realme-p3-5g-comet-grey-128-gb/p/itm69060f73d27e8?pid=MOBHAYN5TKGSTKJD&lid=LSTMOBHAYN5TKGSTKJD1JQKAL&marketplace=FLIPKART&store=tyy%2F4io&srno=b_1_21&otracker=browse&fm=organic&iid=en_8Itob-5fpJmhT2m3U-lK5b0u-9aJ2yNSylxvPME4KvB6p5R1pSsWAkCmeBjDs64t5UCw5xyx9zTCFmgG1NAntPcUmN_6PwCReg_VTM4VLxo%3D&ppt=browse&ppn=browse&ssid=vd2xejctds0000001746095864554',\n",
       " 'https://www.flipkart.com/nothing-phone-3a-black-128-gb/p/itm49557c5a65f9c?pid=MOBH8G3P6UXPEFSZ&lid=LSTMOBH8G3P6UXPEFSZTYXBHZ&marketplace=FLIPKART&store=tyy%2F4io&srno=b_1_22&otracker=browse&fm=organic&iid=en_8Itob-5fpJmhT2m3U-lK5b0u-9aJ2yNSylxvPME4KvBoc22I8QonMZInKlUZZbK6QuNepZInFSHDicJJ_85iisDbPjpExlWhmpgUQnOg2ao%3D&ppt=browse&ppn=browse&ssid=vd2xejctds0000001746095864554',\n",
       " 'https://www.flipkart.com/oneplus-nord-ce4-lite-5g-super-silver-128-gb/p/itm8fd5fdf300955?pid=MOBH25ZDPHNF38XJ&lid=LSTMOBH25ZDPHNF38XJVHNZIX&marketplace=FLIPKART&store=tyy%2F4io&srno=b_1_23&otracker=browse&fm=organic&iid=c7bc0595-969e-490f-a369-15f39ea7f836.MOBH25ZDPHNF38XJ.SEARCH&ppt=browse&ppn=browse&ssid=vd2xejctds0000001746095864554',\n",
       " 'https://www.flipkart.com/poco-c75-5g-aqua-bliss-64-gb/p/itm10b3f6f1bc616?pid=MOBH7443MMBCWPPG&lid=LSTMOBH7443MMBCWPPGVOR2LC&marketplace=FLIPKART&store=tyy%2F4io&srno=b_1_24&otracker=browse&fm=organic&iid=c7bc0595-969e-490f-a369-15f39ea7f836.MOBH7443MMBCWPPG.SEARCH&ppt=browse&ppn=browse&ssid=vd2xejctds0000001746095864554']"
      ]
     },
     "execution_count": 34,
     "metadata": {},
     "output_type": "execute_result"
    }
   ],
   "source": [
    "urls"
   ]
  },
  {
   "cell_type": "code",
   "execution_count": null,
   "id": "8a086d0e",
   "metadata": {},
   "outputs": [],
   "source": []
  },
  {
   "cell_type": "markdown",
   "id": "f0123c4b",
   "metadata": {},
   "source": [
    "## Extracting Mobile Product Data from Each URL"
   ]
  },
  {
   "cell_type": "code",
   "execution_count": 35,
   "id": "05ba37d2",
   "metadata": {},
   "outputs": [
    {
     "name": "stdout",
     "output_type": "stream",
     "text": [
      "0 : https://www.flipkart.com/realme-p3x-5g-lunar-silver-128-gb/p/itmab5a4b09b6ccc?pid=MOBH8VGVHUHDG6FG&lid=LSTMOBH8VGVHUHDG6FGI9LMXH&marketplace=FLIPKART&store=tyy%2F4io&srno=b_1_1&otracker=browse&fm=organic&iid=en_mvNtmJTMg-AU4APU3J0D8Oxs0CN7hlk1Y8IXHJYJaz4q2bzyN-mT683AtsPhb-j2GVbKzrtAQC1opCkmeGiAgg%3D%3D&ppt=browse&ppn=browse&ssid=vd2xejctds0000001746095864554 Url Success....\n",
      "Checking Lengths of Each List for Data Frame Conversion...\n",
      "Mobile:1, Original_price:1, Deal_price:1,Discount:1,Rating:1,Features:1\n",
      "\n",
      "1 : https://www.flipkart.com/cmf-nothing-phone-2-pro-light-green-128-gb/p/itm46a119f176627?pid=MOBHAUHADASAEX2G&lid=LSTMOBHAUHADASAEX2GYKJS5R&marketplace=FLIPKART&store=tyy%2F4io&srno=b_1_2&otracker=browse&fm=organic&iid=en_mvNtmJTMg-AU4APU3J0D8Oxs0CN7hlk1Y8IXHJYJaz6sp_sWwm0zhhD9eBgYkkWkxOugx3FxtDJVgmrdXU3QWfUFjCTyOHoHZs-Z5_PS_w0%3D&ppt=browse&ppn=browse&ssid=vd2xejctds0000001746095864554 Url Success....\n",
      "Checking Lengths of Each List for Data Frame Conversion...\n",
      "Mobile:2, Original_price:2, Deal_price:2,Discount:2,Rating:2,Features:2\n",
      "\n",
      "2 : https://www.flipkart.com/infinix-note-50s-5g-burgundy-red-128-gb/p/itmfbc62747a37e7?pid=MOBHBYYEG5Q5XVNC&lid=LSTMOBHBYYEG5Q5XVNCQNRRXW&marketplace=FLIPKART&store=tyy%2F4io&srno=b_1_3&otracker=browse&fm=organic&iid=e1eaede9-142a-4960-8ce4-24943321877c.MOBHBYYEG5Q5XVNC.SEARCH&ppt=browse&ppn=browse&ssid=vd2xejctds0000001746095864554 Url Success....\n",
      "Checking Lengths of Each List for Data Frame Conversion...\n",
      "Mobile:3, Original_price:3, Deal_price:3,Discount:3,Rating:3,Features:3\n",
      "\n",
      "3 : https://www.flipkart.com/realme-c63-5g-charger-box-starry-gold-128-gb/p/itm10b8f5cccfadd?pid=MOBH3DZQ9G3WGQYY&lid=LSTMOBH3DZQ9G3WGQYYMHSNLX&marketplace=FLIPKART&store=tyy%2F4io&srno=b_1_4&otracker=browse&fm=organic&iid=e1eaede9-142a-4960-8ce4-24943321877c.MOBH3DZQ9G3WGQYY.SEARCH&ppt=browse&ppn=browse&ssid=vd2xejctds0000001746095864554 Url Success....\n",
      "Checking Lengths of Each List for Data Frame Conversion...\n",
      "Mobile:4, Original_price:4, Deal_price:4,Discount:4,Rating:4,Features:4\n",
      "\n",
      "4 : https://www.flipkart.com/realme-c63-5g-charger-box-forest-green-128-gb/p/itm10b8f5cccfadd?pid=MOBH3DZQ4JE2GVAR&lid=LSTMOBH3DZQ4JE2GVAR5U45PL&marketplace=FLIPKART&store=tyy%2F4io&srno=b_1_5&otracker=browse&fm=organic&iid=e1eaede9-142a-4960-8ce4-24943321877c.MOBH3DZQ4JE2GVAR.SEARCH&ppt=browse&ppn=browse&ssid=vd2xejctds0000001746095864554 Url Success....\n",
      "Checking Lengths of Each List for Data Frame Conversion...\n",
      "Mobile:5, Original_price:5, Deal_price:5,Discount:5,Rating:5,Features:5\n",
      "\n",
      "5 : https://www.flipkart.com/google-pixel-9a-porcelain-256-gb/p/itmfe749ceddac9a?pid=MOBH9YME35EYPV4K&lid=LSTMOBH9YME35EYPV4K5K7UZW&marketplace=FLIPKART&store=tyy%2F4io&srno=b_1_6&otracker=browse&fm=organic&iid=en_mvNtmJTMg-AU4APU3J0D8Oxs0CN7hlk1Y8IXHJYJaz5_DUW1FpPLhJmZOhO9C-UgD5mpU_b81_rW0yIovj7iVjRKtQQVWB8eNWYNLe7VuyQ%3D&ppt=browse&ppn=browse&ssid=vd2xejctds0000001746095864554 Url Success....\n",
      "Checking Lengths of Each List for Data Frame Conversion...\n",
      "Mobile:6, Original_price:6, Deal_price:6,Discount:6,Rating:6,Features:6\n",
      "\n",
      "6 : https://www.flipkart.com/poco-c71-locked-airtel-prepaid-cool-blue-64-gb/p/itmdec407554268b?pid=MOBHAFVJBSV3VH9N&lid=LSTMOBHAFVJBSV3VH9NPL87HP&marketplace=FLIPKART&store=tyy%2F4io&srno=b_1_7&otracker=browse&fm=organic&iid=e1eaede9-142a-4960-8ce4-24943321877c.MOBHAFVJBSV3VH9N.SEARCH&ppt=browse&ppn=browse&ssid=vd2xejctds0000001746095864554 Url Success....\n",
      "Checking Lengths of Each List for Data Frame Conversion...\n",
      "Mobile:7, Original_price:7, Deal_price:7,Discount:7,Rating:7,Features:7\n",
      "\n",
      "7 : https://www.flipkart.com/realme-p2-pro-5g-parrot-green-128-gb/p/itm53d39fff9f20c?pid=MOBH45GSFFNCGSGR&lid=LSTMOBH45GSFFNCGSGRZYQX51&marketplace=FLIPKART&store=tyy%2F4io&srno=b_1_8&otracker=browse&fm=organic&iid=e1eaede9-142a-4960-8ce4-24943321877c.MOBH45GSFFNCGSGR.SEARCH&ppt=browse&ppn=browse&ssid=vd2xejctds0000001746095864554 Url Success....\n",
      "Checking Lengths of Each List for Data Frame Conversion...\n",
      "Mobile:8, Original_price:8, Deal_price:8,Discount:8,Rating:8,Features:8\n",
      "\n",
      "8 : https://www.flipkart.com/infinix-note-50s-5g-titanium-grey-128-gb/p/itmfbc62747a37e7?pid=MOBHBYYE9PPMXGBH&lid=LSTMOBHBYYE9PPMXGBHASDX5S&marketplace=FLIPKART&store=tyy%2F4io&srno=b_1_9&otracker=browse&fm=organic&iid=e1eaede9-142a-4960-8ce4-24943321877c.MOBHBYYE9PPMXGBH.SEARCH&ppt=browse&ppn=browse&ssid=vd2xejctds0000001746095864554 Url Success....\n",
      "Checking Lengths of Each List for Data Frame Conversion...\n",
      "Mobile:9, Original_price:9, Deal_price:9,Discount:9,Rating:9,Features:9\n",
      "\n",
      "9 : https://www.flipkart.com/vivo-t4-5g-phantom-grey-256-gb/p/itmc2634fd4daeb9?pid=MOBHATXZGEAN2FWT&lid=LSTMOBHATXZGEAN2FWTXTUH1P&marketplace=FLIPKART&store=tyy%2F4io&srno=b_1_10&otracker=browse&fm=organic&iid=e1eaede9-142a-4960-8ce4-24943321877c.MOBHATXZGEAN2FWT.SEARCH&ppt=browse&ppn=browse&ssid=vd2xejctds0000001746095864554 Url Success....\n",
      "Checking Lengths of Each List for Data Frame Conversion...\n",
      "Mobile:10, Original_price:10, Deal_price:10,Discount:10,Rating:10,Features:10\n",
      "\n",
      "10 : https://www.flipkart.com/samsung-galaxy-a35-5g-awesome-iceblue-128-gb/p/itm9684d2fe9201e?pid=MOBGYT2HEYWFCG8Q&lid=LSTMOBGYT2HEYWFCG8QD16QYA&marketplace=FLIPKART&store=tyy%2F4io&srno=b_1_11&otracker=browse&fm=organic&iid=en_mvNtmJTMg-AU4APU3J0D8Oxs0CN7hlk1Y8IXHJYJaz4icnjxfMez0zTywXi0X5rRPat2adAfNoXCGoSR_C3PT-vN4Mn-dv-pi277bRzMbnY%3D&ppt=browse&ppn=browse&ssid=vd2xejctds0000001746095864554 Url Success....\n",
      "Checking Lengths of Each List for Data Frame Conversion...\n",
      "Mobile:11, Original_price:11, Deal_price:11,Discount:11,Rating:11,Features:11\n",
      "\n",
      "11 : https://www.flipkart.com/samsung-galaxy-s24-5g-amber-yellow-128-gb/p/itmc7715e16403d1?pid=MOBHYJ6QMSGJG28G&lid=LSTMOBHYJ6QMSGJG28GKEE5UE&marketplace=FLIPKART&store=tyy%2F4io&srno=b_1_12&otracker=browse&fm=organic&iid=en_mvNtmJTMg-AU4APU3J0D8Oxs0CN7hlk1Y8IXHJYJaz64ruvVY56k_4AIQIRmt13Mmo6iCvPG78wm0E0YWYvfYGaRs4JL222ZRV-dN99QnxU%3D&ppt=browse&ppn=browse&ssid=vd2xejctds0000001746095864554 Url Success....\n",
      "Checking Lengths of Each List for Data Frame Conversion...\n",
      "Mobile:12, Original_price:12, Deal_price:12,Discount:12,Rating:12,Features:12\n",
      "\n",
      "12 : https://www.flipkart.com/motorola-edge-50-fusion-marshmallow-blue-128-gb/p/itmf88eea5799a27?pid=MOBGXTYZEZSZQE7W&lid=LSTMOBGXTYZEZSZQE7WIBXLBI&marketplace=FLIPKART&store=tyy%2F4io&srno=b_1_13&otracker=browse&fm=organic&iid=e1eaede9-142a-4960-8ce4-24943321877c.MOBGXTYZEZSZQE7W.SEARCH&ppt=browse&ppn=browse&ssid=vd2xejctds0000001746095864554 Url Success....\n",
      "Checking Lengths of Each List for Data Frame Conversion...\n",
      "Mobile:13, Original_price:13, Deal_price:13,Discount:13,Rating:13,Features:13\n",
      "\n",
      "13 : https://www.flipkart.com/poco-c71-desert-gold-64-gb/p/itme3dc58af6a04b?pid=MOBHAFVJZ5CHWMH8&lid=LSTMOBHAFVJZ5CHWMH8MZ5M5D&marketplace=FLIPKART&store=tyy%2F4io&srno=b_1_14&otracker=browse&fm=organic&iid=e1eaede9-142a-4960-8ce4-24943321877c.MOBHAFVJZ5CHWMH8.SEARCH&ppt=browse&ppn=browse&ssid=vd2xejctds0000001746095864554 Url Success....\n",
      "Checking Lengths of Each List for Data Frame Conversion...\n",
      "Mobile:14, Original_price:14, Deal_price:14,Discount:14,Rating:14,Features:14\n",
      "\n",
      "14 : https://www.flipkart.com/infinix-note-50s-5g-burgundy-red-256-gb/p/itmfbc62747a37e7?pid=MOBHBYYEP8ADSFDX&lid=LSTMOBHBYYEP8ADSFDXBNJCJ2&marketplace=FLIPKART&store=tyy%2F4io&srno=b_1_15&otracker=browse&fm=organic&iid=e1eaede9-142a-4960-8ce4-24943321877c.MOBHBYYEP8ADSFDX.SEARCH&ppt=browse&ppn=browse&ssid=vd2xejctds0000001746095864554 Url Success....\n",
      "Checking Lengths of Each List for Data Frame Conversion...\n",
      "Mobile:15, Original_price:15, Deal_price:15,Discount:15,Rating:15,Features:15\n",
      "\n",
      "15 : https://www.flipkart.com/motorola-g85-5g-olive-green-128-gb/p/itm897540eb01ff1?pid=MOBHY9PQMNCMDVCD&lid=LSTMOBHY9PQMNCMDVCDE7RNMM&marketplace=FLIPKART&store=tyy%2F4io&srno=b_1_16&otracker=browse&fm=organic&iid=e1eaede9-142a-4960-8ce4-24943321877c.MOBHY9PQMNCMDVCD.SEARCH&ppt=browse&ppn=browse&ssid=vd2xejctds0000001746095864554 Url Success....\n",
      "Checking Lengths of Each List for Data Frame Conversion...\n",
      "Mobile:16, Original_price:16, Deal_price:16,Discount:16,Rating:16,Features:16\n",
      "\n",
      "16 : https://www.flipkart.com/tecno-spark-go-1-startrail-black-64-gb/p/itma978101d8bf15?pid=MOBH9HYGHKVFVGWS&lid=LSTMOBH9HYGHKVFVGWSLIYFBI&marketplace=FLIPKART&store=tyy%2F4io&srno=b_1_17&otracker=browse&fm=organic&iid=en_mvNtmJTMg-AU4APU3J0D8Oxs0CN7hlk1Y8IXHJYJaz7Lm6gMgS0mhKGW2NFmjrHPHegd1yGD1jSHdpq_O4lS_K8iqbiwhGf4dwbXVx7ZSks%3D&ppt=browse&ppn=browse&ssid=vd2xejctds0000001746095864554 Url Success....\n"
     ]
    },
    {
     "name": "stdout",
     "output_type": "stream",
     "text": [
      "Checking Lengths of Each List for Data Frame Conversion...\n",
      "Mobile:17, Original_price:17, Deal_price:17,Discount:17,Rating:17,Features:17\n",
      "\n",
      "17 : https://www.flipkart.com/samsung-galaxy-f06-5g-lit-violet-128-gb/p/itm140da3412b73b?pid=MOBH9AS4FA5RUHSY&lid=LSTMOBH9AS4FA5RUHSYIYVIFO&marketplace=FLIPKART&store=tyy%2F4io&srno=b_1_18&otracker=browse&fm=organic&iid=en_mvNtmJTMg-AU4APU3J0D8Oxs0CN7hlk1Y8IXHJYJaz7BZIkzfcPBv6dxzm68hbnv3un_2xlOWMi5CFCU14jiyvKSJvID5C-RdFfAlzwDiqI%3D&ppt=browse&ppn=browse&ssid=vd2xejctds0000001746095864554 Url Success....\n",
      "Checking Lengths of Each List for Data Frame Conversion...\n",
      "Mobile:18, Original_price:18, Deal_price:18,Discount:18,Rating:18,Features:18\n",
      "\n",
      "18 : https://www.flipkart.com/vivo-t4x-5g-pronto-purple-128-gb/p/itm017656bdd097b?pid=MOBH9JUSZFBNVDXM&lid=LSTMOBH9JUSZFBNVDXMINCOPW&marketplace=FLIPKART&store=tyy%2F4io&spotlightTagId=default_BestsellerId_tyy%2F4io&srno=b_1_19&otracker=browse&fm=organic&iid=e1eaede9-142a-4960-8ce4-24943321877c.MOBH9JUSZFBNVDXM.SEARCH&ppt=browse&ppn=browse&ssid=vd2xejctds0000001746095864554 Url Success....\n",
      "Checking Lengths of Each List for Data Frame Conversion...\n",
      "Mobile:19, Original_price:19, Deal_price:19,Discount:19,Rating:19,Features:19\n",
      "\n",
      "19 : https://www.flipkart.com/infinix-note-50s-5g-titanium-grey-256-gb/p/itmfbc62747a37e7?pid=MOBHBYYEJKP3FZ4Y&lid=LSTMOBHBYYEJKP3FZ4YXLANKV&marketplace=FLIPKART&store=tyy%2F4io&srno=b_1_20&otracker=browse&fm=organic&iid=e1eaede9-142a-4960-8ce4-24943321877c.MOBHBYYEJKP3FZ4Y.SEARCH&ppt=browse&ppn=browse&ssid=vd2xejctds0000001746095864554 Url Success....\n",
      "Checking Lengths of Each List for Data Frame Conversion...\n",
      "Mobile:20, Original_price:20, Deal_price:20,Discount:20,Rating:20,Features:20\n",
      "\n",
      "20 : https://www.flipkart.com/realme-p3-5g-comet-grey-128-gb/p/itm69060f73d27e8?pid=MOBHAYN5TKGSTKJD&lid=LSTMOBHAYN5TKGSTKJD1JQKAL&marketplace=FLIPKART&store=tyy%2F4io&srno=b_1_21&otracker=browse&fm=organic&iid=en_mvNtmJTMg-AU4APU3J0D8Oxs0CN7hlk1Y8IXHJYJaz4X-xEm57-8Odbp4wUUSeTK5UCw5xyx9zTCFmgG1NAntPcUmN_6PwCReg_VTM4VLxo%3D&ppt=browse&ppn=browse&ssid=vd2xejctds0000001746095864554 Url Success....\n",
      "Checking Lengths of Each List for Data Frame Conversion...\n",
      "Mobile:21, Original_price:21, Deal_price:21,Discount:21,Rating:21,Features:21\n",
      "\n",
      "21 : https://www.flipkart.com/nothing-phone-3a-black-128-gb/p/itm49557c5a65f9c?pid=MOBH8G3P6UXPEFSZ&lid=LSTMOBH8G3P6UXPEFSZTYXBHZ&marketplace=FLIPKART&store=tyy%2F4io&srno=b_1_22&otracker=browse&fm=organic&iid=en_mvNtmJTMg-AU4APU3J0D8Oxs0CN7hlk1Y8IXHJYJaz7oMW9dAg9D9U3eYnUDWaPSQuNepZInFSHDicJJ_85iisDbPjpExlWhmpgUQnOg2ao%3D&ppt=browse&ppn=browse&ssid=vd2xejctds0000001746095864554 Url Success....\n",
      "Checking Lengths of Each List for Data Frame Conversion...\n",
      "Mobile:22, Original_price:22, Deal_price:22,Discount:22,Rating:22,Features:22\n",
      "\n",
      "22 : https://www.flipkart.com/oneplus-nord-ce4-lite-5g-super-silver-128-gb/p/itm8fd5fdf300955?pid=MOBH25ZDPHNF38XJ&lid=LSTMOBH25ZDPHNF38XJVHNZIX&marketplace=FLIPKART&store=tyy%2F4io&srno=b_1_23&otracker=browse&fm=organic&iid=e1eaede9-142a-4960-8ce4-24943321877c.MOBH25ZDPHNF38XJ.SEARCH&ppt=browse&ppn=browse&ssid=vd2xejctds0000001746095864554 Url Success....\n",
      "Checking Lengths of Each List for Data Frame Conversion...\n",
      "Mobile:23, Original_price:23, Deal_price:23,Discount:23,Rating:23,Features:23\n",
      "\n",
      "23 : https://www.flipkart.com/poco-c75-5g-aqua-bliss-64-gb/p/itm10b3f6f1bc616?pid=MOBH7443MMBCWPPG&lid=LSTMOBH7443MMBCWPPGVOR2LC&marketplace=FLIPKART&store=tyy%2F4io&srno=b_1_24&otracker=browse&fm=organic&iid=e1eaede9-142a-4960-8ce4-24943321877c.MOBH7443MMBCWPPG.SEARCH&ppt=browse&ppn=browse&ssid=vd2xejctds0000001746095864554 Url Success....\n",
      "Checking Lengths of Each List for Data Frame Conversion...\n",
      "Mobile:24, Original_price:24, Deal_price:24,Discount:24,Rating:24,Features:24\n",
      "\n",
      "24 : https://www.flipkart.com/realme-p3-pro-5g-galaxy-purple-128-gb/p/itme2d563c696f88?pid=MOBH8VGVTFQGZ3UV&lid=LSTMOBH8VGVTFQGZ3UV3MFI3Z&marketplace=FLIPKART&store=tyy%2F4io&srno=b_2_25&otracker=browse&fm=organic&iid=en_A7zrFHP3LtYAW5_Uv3IBF2Vwbzv6P835hLYwPgy2Bk8WPiS0xmlHIVUXnSm5bm_OszP8KzwspYeiPx7SKDLlDvUFjCTyOHoHZs-Z5_PS_w0%3D&ppt=browse&ppn=browse&ssid=vd2xejctds0000001746095864554 Url Success....\n",
      "Checking Lengths of Each List for Data Frame Conversion...\n",
      "Mobile:25, Original_price:25, Deal_price:25,Discount:25,Rating:25,Features:25\n",
      "\n",
      "25 : https://www.flipkart.com/realme-c61-safari-green-128-gb/p/itmd6ddbcefce040?pid=MOBHFRKRAVXUKDGX&lid=LSTMOBHFRKRAVXUKDGX3LF6Z6&marketplace=FLIPKART&store=tyy%2F4io&srno=b_2_26&otracker=browse&fm=organic&iid=c87a0f2b-69ef-4832-a3ef-cbaed7b2da1b.MOBHFRKRAVXUKDGX.SEARCH&ppt=browse&ppn=browse&ssid=vd2xejctds0000001746095864554 Url Success....\n",
      "Checking Lengths of Each List for Data Frame Conversion...\n",
      "Mobile:26, Original_price:26, Deal_price:26,Discount:26,Rating:26,Features:26\n",
      "\n",
      "26 : https://www.flipkart.com/samsung-galaxy-a35-5g-awesome-iceblue-256-gb/p/itmd3af671af1e42?pid=MOBGYT2HYAAHS3ZR&lid=LSTMOBGYT2HYAAHS3ZRSKZG28&marketplace=FLIPKART&store=tyy%2F4io&srno=b_2_27&otracker=browse&fm=organic&iid=en_A7zrFHP3LtYAW5_Uv3IBF2Vwbzv6P835hLYwPgy2Bk-AkQgJqJGMwDkqOLmfiUYkv-DqU0OpJuofbWebG_T9nPUFjCTyOHoHZs-Z5_PS_w0%3D&ppt=browse&ppn=browse&ssid=vd2xejctds0000001746095864554 Url Success....\n",
      "Checking Lengths of Each List for Data Frame Conversion...\n",
      "Mobile:27, Original_price:27, Deal_price:27,Discount:27,Rating:27,Features:27\n",
      "\n",
      "27 : https://www.flipkart.com/tecno-pova-6-neo-5g-aurora-cloud-128-gb/p/itmd24accb9a72ed?pid=MOBH9HYGA26UGXU6&lid=LSTMOBH9HYGA26UGXU6N8EJMP&marketplace=FLIPKART&store=tyy%2F4io&srno=b_2_28&otracker=browse&fm=organic&iid=en_A7zrFHP3LtYAW5_Uv3IBF2Vwbzv6P835hLYwPgy2Bk-pv9AR10fN6z7-Emqsau8ffMFyzdRA-h6iD-rs5bq7YfUFjCTyOHoHZs-Z5_PS_w0%3D&ppt=browse&ppn=browse&ssid=vd2xejctds0000001746095864554 Url Success....\n",
      "Checking Lengths of Each List for Data Frame Conversion...\n",
      "Mobile:28, Original_price:28, Deal_price:28,Discount:28,Rating:28,Features:28\n",
      "\n",
      "28 : https://www.flipkart.com/realme-c61-safari-green-64-gb/p/itmd6ddbcefce040?pid=MOBHFRKRF6ZHBFTW&lid=LSTMOBHFRKRF6ZHBFTW09ES8B&marketplace=FLIPKART&store=tyy%2F4io&srno=b_2_29&otracker=browse&fm=organic&iid=c87a0f2b-69ef-4832-a3ef-cbaed7b2da1b.MOBHFRKRF6ZHBFTW.SEARCH&ppt=browse&ppn=browse&ssid=vd2xejctds0000001746095864554 Url Success....\n",
      "Checking Lengths of Each List for Data Frame Conversion...\n",
      "Mobile:29, Original_price:29, Deal_price:29,Discount:29,Rating:29,Features:29\n",
      "\n",
      "29 : https://www.flipkart.com/vivo-t4-5g-emerald-blaze-128-gb/p/itmc2634fd4daeb9?pid=MOBHATXZYSHYH6ZP&lid=LSTMOBHATXZYSHYH6ZPMNIAH0&marketplace=FLIPKART&store=tyy%2F4io&srno=b_2_30&otracker=browse&fm=organic&iid=c87a0f2b-69ef-4832-a3ef-cbaed7b2da1b.MOBHATXZYSHYH6ZP.SEARCH&ppt=browse&ppn=browse&ssid=vd2xejctds0000001746095864554 Url Success....\n",
      "Checking Lengths of Each List for Data Frame Conversion...\n",
      "Mobile:30, Original_price:30, Deal_price:30,Discount:30,Rating:30,Features:30\n",
      "\n",
      "30 : https://www.flipkart.com/samsung-galaxy-s24-fe-5g-blue-128-gb/p/itme960199e26f23?pid=MOBH4ZG3Z5NCBW2H&lid=LSTMOBH4ZG3Z5NCBW2HWQMO2K&marketplace=FLIPKART&store=tyy%2F4io&srno=b_2_31&otracker=browse&fm=organic&iid=en_A7zrFHP3LtYAW5_Uv3IBF2Vwbzv6P835hLYwPgy2Bk-jmqMmuWXtlgeH83sRx_6Z-nnMRZG61Fzn95V3XcIEbvUFjCTyOHoHZs-Z5_PS_w0%3D&ppt=browse&ppn=browse&ssid=vd2xejctds0000001746095864554 Url Success....\n",
      "Checking Lengths of Each List for Data Frame Conversion...\n",
      "Mobile:31, Original_price:31, Deal_price:31,Discount:31,Rating:31,Features:31\n",
      "\n",
      "31 : https://www.flipkart.com/iair-s10-dual-sim-keypad-phone/p/itmb5b12df64d0da?pid=MOBGVR99BCRJWMFH&lid=LSTMOBGVR99BCRJWMFH6WNWKU&marketplace=FLIPKART&store=tyy%2F4io&srno=b_2_32&otracker=browse&fm=organic&iid=en_A7zrFHP3LtYAW5_Uv3IBF2Vwbzv6P835hLYwPgy2Bk9tBufVbNNupOh44AAoAIDUAHnop0cqy5App0g5sPDyiA%3D%3D&ppt=browse&ppn=browse&ssid=vd2xejctds0000001746095864554 Url Success....\n",
      "Checking Lengths of Each List for Data Frame Conversion...\n",
      "Mobile:32, Original_price:32, Deal_price:32,Discount:32,Rating:32,Features:32\n",
      "\n",
      "32 : https://www.flipkart.com/vivo-t4x-5g-pronto-purple-128-gb/p/itm017656bdd097b?pid=MOBH9JUSZHCX3JRG&lid=LSTMOBH9JUSZHCX3JRGEPZVNT&marketplace=FLIPKART&store=tyy%2F4io&srno=b_2_33&otracker=browse&fm=organic&iid=c87a0f2b-69ef-4832-a3ef-cbaed7b2da1b.MOBH9JUSZHCX3JRG.SEARCH&ppt=browse&ppn=browse&ssid=vd2xejctds0000001746095864554 Url Success....\n"
     ]
    },
    {
     "name": "stdout",
     "output_type": "stream",
     "text": [
      "Checking Lengths of Each List for Data Frame Conversion...\n",
      "Mobile:33, Original_price:33, Deal_price:33,Discount:33,Rating:33,Features:33\n",
      "\n",
      "33 : https://www.flipkart.com/realme-c61-marble-black-128-gb/p/itmd6ddbcefce040?pid=MOBHFRKRQMD36FZ5&lid=LSTMOBHFRKRQMD36FZ5ZLCIIC&marketplace=FLIPKART&store=tyy%2F4io&srno=b_2_34&otracker=browse&fm=organic&iid=c87a0f2b-69ef-4832-a3ef-cbaed7b2da1b.MOBHFRKRQMD36FZ5.SEARCH&ppt=browse&ppn=browse&ssid=vd2xejctds0000001746095864554 Url Success....\n",
      "Checking Lengths of Each List for Data Frame Conversion...\n",
      "Mobile:34, Original_price:34, Deal_price:34,Discount:34,Rating:34,Features:34\n",
      "\n",
      "34 : https://www.flipkart.com/samsung-galaxy-f06-5g-lit-violet-64-gb/p/itm1390a80a68073?pid=MOBHBF5JG3BPANSG&lid=LSTMOBHBF5JG3BPANSGWYWEPP&marketplace=FLIPKART&store=tyy%2F4io&srno=b_2_35&otracker=browse&fm=organic&iid=en_A7zrFHP3LtYAW5_Uv3IBF2Vwbzv6P835hLYwPgy2Bk_bv6HSUUC2dzDs3cp2DF5RsnfrTQw8g-RbYYLRr1bYv_UFjCTyOHoHZs-Z5_PS_w0%3D&ppt=browse&ppn=browse&ssid=vd2xejctds0000001746095864554 Url Success....\n",
      "Checking Lengths of Each List for Data Frame Conversion...\n",
      "Mobile:35, Original_price:35, Deal_price:35,Discount:35,Rating:35,Features:35\n",
      "\n",
      "35 : https://www.flipkart.com/motorola-g45-5g-brilliant-green-128-gb/p/itm4f3bbebe58a57?pid=MOBH3YKQQN3S9TQQ&lid=LSTMOBH3YKQQN3S9TQQIXCQDO&marketplace=FLIPKART&store=tyy%2F4io&srno=b_2_36&otracker=browse&fm=organic&iid=c87a0f2b-69ef-4832-a3ef-cbaed7b2da1b.MOBH3YKQQN3S9TQQ.SEARCH&ppt=browse&ppn=browse&ssid=vd2xejctds0000001746095864554 Url Success....\n",
      "Checking Lengths of Each List for Data Frame Conversion...\n",
      "Mobile:36, Original_price:36, Deal_price:36,Discount:36,Rating:36,Features:36\n",
      "\n",
      "36 : https://www.flipkart.com/iair-d10-mini-dual-sim-keypad-phone-1800-mah-battery-big-1-7-inch-display/p/itmcb5118b7e7411?pid=MOBG7CMF9PXXBKQH&lid=LSTMOBG7CMF9PXXBKQHLHTNA6&marketplace=FLIPKART&store=tyy%2F4io&srno=b_2_37&otracker=browse&fm=organic&iid=en_A7zrFHP3LtYAW5_Uv3IBF2Vwbzv6P835hLYwPgy2Bk8FedtgnW7sR5kilUN0HuK97RUvysBFIqnVqRE0ZT_x_Q%3D%3D&ppt=browse&ppn=browse&ssid=vd2xejctds0000001746095864554 Url Success....\n",
      "Checking Lengths of Each List for Data Frame Conversion...\n",
      "Mobile:37, Original_price:37, Deal_price:37,Discount:37,Rating:37,Features:37\n",
      "\n",
      "37 : https://www.flipkart.com/samsung-galaxy-a56-5g-awesome-olive-128-gb/p/itm81265b7c9602c?pid=MOBH9RNG5SA9ADHS&lid=LSTMOBH9RNG5SA9ADHSXUMC58&marketplace=FLIPKART&store=tyy%2F4io&srno=b_2_38&otracker=browse&fm=organic&iid=en_A7zrFHP3LtYAW5_Uv3IBF2Vwbzv6P835hLYwPgy2Bk8ztR5VWgXyMpsg_sMUnwOTTGN3hoj2FgavZCgXvRQcgfUFjCTyOHoHZs-Z5_PS_w0%3D&ppt=browse&ppn=browse&ssid=vd2xejctds0000001746095864554 Url Success....\n",
      "Checking Lengths of Each List for Data Frame Conversion...\n",
      "Mobile:38, Original_price:38, Deal_price:38,Discount:38,Rating:38,Features:38\n",
      "\n",
      "38 : https://www.flipkart.com/infinix-note-50s-5g-marine-drift-blue-128-gb/p/itmfbc62747a37e7?pid=MOBHBYYEMPC8GGKK&lid=LSTMOBHBYYEMPC8GGKKX7PNZI&marketplace=FLIPKART&store=tyy%2F4io&srno=b_2_39&otracker=browse&fm=organic&iid=c87a0f2b-69ef-4832-a3ef-cbaed7b2da1b.MOBHBYYEMPC8GGKK.SEARCH&ppt=browse&ppn=browse&ssid=vd2xejctds0000001746095864554 Url Success....\n",
      "Checking Lengths of Each List for Data Frame Conversion...\n",
      "Mobile:39, Original_price:39, Deal_price:39,Discount:39,Rating:39,Features:39\n",
      "\n",
      "39 : https://www.flipkart.com/realme-p2-pro-5g-parrot-green-256-gb/p/itm53d39fff9f20c?pid=MOBH45GSSTNWUJZB&lid=LSTMOBH45GSSTNWUJZBXNTI43&marketplace=FLIPKART&store=tyy%2F4io&srno=b_2_40&otracker=browse&fm=organic&iid=c87a0f2b-69ef-4832-a3ef-cbaed7b2da1b.MOBH45GSSTNWUJZB.SEARCH&ppt=browse&ppn=browse&ssid=vd2xejctds0000001746095864554 Url Success....\n",
      "Checking Lengths of Each List for Data Frame Conversion...\n",
      "Mobile:40, Original_price:40, Deal_price:40,Discount:40,Rating:40,Features:40\n",
      "\n",
      "40 : https://www.flipkart.com/google-pixel-9a-obsidian-256-gb/p/itmf9d1fcfa566cf?pid=MOBH9YMEQUGCHPHN&lid=LSTMOBH9YMEQUGCHPHNSFHZNA&marketplace=FLIPKART&store=tyy%2F4io&srno=b_2_41&otracker=browse&fm=organic&iid=en_A7zrFHP3LtYAW5_Uv3IBF2Vwbzv6P835hLYwPgy2Bk_3agrskNzDCVUxYvvR4fCYNTHBjEL-jAM49DF_Oo8UrOI7uWi7bi3WLqk6JF-UYDE%3D&ppt=browse&ppn=browse&ssid=vd2xejctds0000001746095864554 Url Success....\n",
      "Checking Lengths of Each List for Data Frame Conversion...\n",
      "Mobile:41, Original_price:41, Deal_price:41,Discount:41,Rating:41,Features:41\n",
      "\n",
      "41 : https://www.flipkart.com/samsung-galaxy-s25-5g-silver-shadow-256-gb/p/itm70d1f331ebbac?pid=MOBH8K8UH9XHPVGQ&lid=LSTMOBH8K8UH9XHPVGQEUE4JY&marketplace=FLIPKART&store=tyy%2F4io&srno=b_2_42&otracker=browse&fm=organic&iid=en_A7zrFHP3LtYAW5_Uv3IBF2Vwbzv6P835hLYwPgy2Bk__xikQ81bIfR26-tdSJwBKKXJX-ciOP5_EFmweEXtR-aV8WX5krIChubBlraAu4CQ%3D&ppt=browse&ppn=browse&ssid=vd2xejctds0000001746095864554 Url Success....\n",
      "Checking Lengths of Each List for Data Frame Conversion...\n",
      "Mobile:42, Original_price:42, Deal_price:42,Discount:42,Rating:42,Features:42\n",
      "\n",
      "42 : https://www.flipkart.com/vivo-t4x-5g-marine-blue-128-gb/p/itm017656bdd097b?pid=MOBH9JUSZWZ5ZZAM&lid=LSTMOBH9JUSZWZ5ZZAMFXTB3Z&marketplace=FLIPKART&store=tyy%2F4io&srno=b_2_43&otracker=browse&fm=organic&iid=c87a0f2b-69ef-4832-a3ef-cbaed7b2da1b.MOBH9JUSZWZ5ZZAM.SEARCH&ppt=browse&ppn=browse&ssid=vd2xejctds0000001746095864554 Url Success....\n",
      "Checking Lengths of Each List for Data Frame Conversion...\n",
      "Mobile:43, Original_price:43, Deal_price:43,Discount:43,Rating:43,Features:43\n",
      "\n",
      "43 : https://www.flipkart.com/motorola-g05-plum-red-64-gb/p/itm87af8109384d4?pid=MOBH5F3QKFHEGBFS&lid=LSTMOBH5F3QKFHEGBFSYF5LHW&marketplace=FLIPKART&store=tyy%2F4io&srno=b_2_44&otracker=browse&fm=organic&iid=c87a0f2b-69ef-4832-a3ef-cbaed7b2da1b.MOBH5F3QKFHEGBFS.SEARCH&ppt=browse&ppn=browse&ssid=vd2xejctds0000001746095864554 Url Success....\n",
      "Checking Lengths of Each List for Data Frame Conversion...\n",
      "Mobile:44, Original_price:44, Deal_price:44,Discount:44,Rating:44,Features:44\n",
      "\n",
      "44 : https://www.flipkart.com/samsung-galaxy-f06-5g-bahama-blue-128-gb/p/itm58189fada62cb?pid=MOBH9AS47XHFRMJY&lid=LSTMOBH9AS47XHFRMJYWI8CRI&marketplace=FLIPKART&store=tyy%2F4io&srno=b_2_45&otracker=browse&fm=organic&iid=en_A7zrFHP3LtYAW5_Uv3IBF2Vwbzv6P835hLYwPgy2Bk9jnrPfqfClwBM7_OI7REPZLUyEOUBsEn2K8_RJeo6MTw891ypMzu4_aryI8_sihJ8%3D&ppt=browse&ppn=browse&ssid=vd2xejctds0000001746095864554 Url Success....\n",
      "Checking Lengths of Each List for Data Frame Conversion...\n",
      "Mobile:45, Original_price:45, Deal_price:45,Discount:45,Rating:45,Features:45\n",
      "\n",
      "45 : https://www.flipkart.com/motorola-edge-60-stylus-pantone-gibraltar-sea-256-gb/p/itm9e562c122f9ee?pid=MOBH9AEUQKVZZYNH&lid=LSTMOBH9AEUQKVZZYNHEJ305D&marketplace=FLIPKART&store=tyy%2F4io&srno=b_2_46&otracker=browse&fm=organic&iid=c87a0f2b-69ef-4832-a3ef-cbaed7b2da1b.MOBH9AEUQKVZZYNH.SEARCH&ppt=browse&ppn=browse&ssid=vd2xejctds0000001746095864554 Url Success....\n",
      "Checking Lengths of Each List for Data Frame Conversion...\n",
      "Mobile:46, Original_price:46, Deal_price:46,Discount:46,Rating:46,Features:46\n",
      "\n",
      "46 : https://www.flipkart.com/samsung-galaxy-a35-5g-awesome-lilac-256-gb/p/itm8f49f29e842cc?pid=MOBGYT2HRXWTHACK&lid=LSTMOBGYT2HRXWTHACKH62UKV&marketplace=FLIPKART&store=tyy%2F4io&srno=b_2_47&otracker=browse&fm=organic&iid=en_A7zrFHP3LtYAW5_Uv3IBF2Vwbzv6P835hLYwPgy2Bk-WFWa_4_MRYYJF-sEU0UfqbMxiga5uQkuA8b-1UWQTJxhTy0lUJ14SzoMSv_CzLF0%3D&ppt=browse&ppn=browse&ssid=vd2xejctds0000001746095864554 Url Success....\n",
      "Checking Lengths of Each List for Data Frame Conversion...\n",
      "Mobile:47, Original_price:47, Deal_price:47,Discount:47,Rating:47,Features:47\n",
      "\n",
      "47 : https://www.flipkart.com/samsung-galaxy-f16-5g-glam-green-128-gb/p/itm05d1354ab28a9?pid=MOBH9ASGHHWYPHRF&lid=LSTMOBH9ASGHHWYPHRFHONIBZ&marketplace=FLIPKART&store=tyy%2F4io&srno=b_2_48&otracker=browse&fm=organic&iid=en_A7zrFHP3LtYAW5_Uv3IBF2Vwbzv6P835hLYwPgy2Bk9u3kFWcsC7Nle_3D2U3lPcm39HxhUQIee578mSwrSMwn3Gaq_wzx4HJysDmGalzMk%3D&ppt=browse&ppn=browse&ssid=vd2xejctds0000001746095864554 Url Success....\n",
      "Checking Lengths of Each List for Data Frame Conversion...\n",
      "Mobile:48, Original_price:48, Deal_price:48,Discount:48,Rating:48,Features:48\n",
      "\n",
      "48 : https://www.flipkart.com/realme-p3x-5g-lunar-silver-128-gb/p/itmab5a4b09b6ccc?pid=MOBH8VGVHUHDG6FG&lid=LSTMOBH8VGVHUHDG6FGI9LMXH&marketplace=FLIPKART&store=tyy%2F4io&srno=b_1_1&otracker=browse&fm=organic&iid=en_QQC5aRIg0wxcYTyfQDp3s-LEY-27Rpijt_9zYozYJCLC7uPVDYm1CHxK2I8kw7NVl0Z0AsSqSeaAu3g1I9QjW_UFjCTyOHoHZs-Z5_PS_w0%3D&ppt=browse&ppn=browse&ssid=vd2xejctds0000001746095864554 Url Success....\n"
     ]
    },
    {
     "name": "stdout",
     "output_type": "stream",
     "text": [
      "Checking Lengths of Each List for Data Frame Conversion...\n",
      "Mobile:49, Original_price:49, Deal_price:49,Discount:49,Rating:49,Features:49\n",
      "\n",
      "49 : https://www.flipkart.com/cmf-nothing-phone-2-pro-light-green-128-gb/p/itm46a119f176627?pid=MOBHAUHADASAEX2G&lid=LSTMOBHAUHADASAEX2GYKJS5R&marketplace=FLIPKART&store=tyy%2F4io&srno=b_1_2&otracker=browse&fm=organic&iid=en_QQC5aRIg0wxcYTyfQDp3s-LEY-27Rpijt_9zYozYJCJQcFT_izRxU5R8IovglpaExOugx3FxtDJVgmrdXU3QWfUFjCTyOHoHZs-Z5_PS_w0%3D&ppt=browse&ppn=browse&ssid=vd2xejctds0000001746095864554 Url Success....\n",
      "Checking Lengths of Each List for Data Frame Conversion...\n",
      "Mobile:50, Original_price:50, Deal_price:50,Discount:50,Rating:50,Features:50\n",
      "\n",
      "50 : https://www.flipkart.com/infinix-note-50s-5g-burgundy-red-128-gb/p/itmfbc62747a37e7?pid=MOBHBYYEG5Q5XVNC&lid=LSTMOBHBYYEG5Q5XVNCQNRRXW&marketplace=FLIPKART&store=tyy%2F4io&srno=b_1_3&otracker=browse&fm=organic&iid=4174d1ba-9439-4d8c-9fb1-fbd34bc3f7a1.MOBHBYYEG5Q5XVNC.SEARCH&ppt=browse&ppn=browse&ssid=vd2xejctds0000001746095864554 Url Success....\n",
      "Checking Lengths of Each List for Data Frame Conversion...\n",
      "Mobile:51, Original_price:51, Deal_price:51,Discount:51,Rating:51,Features:51\n",
      "\n",
      "51 : https://www.flipkart.com/realme-c63-5g-charger-box-starry-gold-128-gb/p/itm10b8f5cccfadd?pid=MOBH3DZQ9G3WGQYY&lid=LSTMOBH3DZQ9G3WGQYYMHSNLX&marketplace=FLIPKART&store=tyy%2F4io&srno=b_1_4&otracker=browse&fm=organic&iid=4174d1ba-9439-4d8c-9fb1-fbd34bc3f7a1.MOBH3DZQ9G3WGQYY.SEARCH&ppt=browse&ppn=browse&ssid=vd2xejctds0000001746095864554 Url Success....\n",
      "Checking Lengths of Each List for Data Frame Conversion...\n",
      "Mobile:52, Original_price:52, Deal_price:52,Discount:52,Rating:52,Features:52\n",
      "\n",
      "52 : https://www.flipkart.com/realme-c63-5g-charger-box-forest-green-128-gb/p/itm10b8f5cccfadd?pid=MOBH3DZQ4JE2GVAR&lid=LSTMOBH3DZQ4JE2GVAR5U45PL&marketplace=FLIPKART&store=tyy%2F4io&srno=b_1_5&otracker=browse&fm=organic&iid=4174d1ba-9439-4d8c-9fb1-fbd34bc3f7a1.MOBH3DZQ4JE2GVAR.SEARCH&ppt=browse&ppn=browse&ssid=vd2xejctds0000001746095864554 Url Success....\n",
      "Checking Lengths of Each List for Data Frame Conversion...\n",
      "Mobile:53, Original_price:53, Deal_price:53,Discount:53,Rating:53,Features:53\n",
      "\n",
      "53 : https://www.flipkart.com/google-pixel-9a-porcelain-256-gb/p/itmfe749ceddac9a?pid=MOBH9YME35EYPV4K&lid=LSTMOBH9YME35EYPV4K5K7UZW&marketplace=FLIPKART&store=tyy%2F4io&srno=b_1_6&otracker=browse&fm=organic&iid=en_QQC5aRIg0wxcYTyfQDp3s-LEY-27Rpijt_9zYozYJCJmpBvhjtS7pm4sOcrq6-5BiOdSu1a5GWrGjahdcjK5F0Ksf8s6I2Oz2HOgbXTo_9U%3D&ppt=browse&ppn=browse&ssid=vd2xejctds0000001746095864554 Url Success....\n",
      "Checking Lengths of Each List for Data Frame Conversion...\n",
      "Mobile:54, Original_price:54, Deal_price:54,Discount:54,Rating:54,Features:54\n",
      "\n",
      "54 : https://www.flipkart.com/poco-c71-locked-airtel-prepaid-cool-blue-64-gb/p/itmdec407554268b?pid=MOBHAFVJBSV3VH9N&lid=LSTMOBHAFVJBSV3VH9NPL87HP&marketplace=FLIPKART&store=tyy%2F4io&srno=b_1_7&otracker=browse&fm=organic&iid=4174d1ba-9439-4d8c-9fb1-fbd34bc3f7a1.MOBHAFVJBSV3VH9N.SEARCH&ppt=browse&ppn=browse&ssid=vd2xejctds0000001746095864554 Url Success....\n",
      "Checking Lengths of Each List for Data Frame Conversion...\n",
      "Mobile:55, Original_price:55, Deal_price:55,Discount:55,Rating:55,Features:55\n",
      "\n",
      "55 : https://www.flipkart.com/realme-p2-pro-5g-parrot-green-128-gb/p/itm53d39fff9f20c?pid=MOBH45GSFFNCGSGR&lid=LSTMOBH45GSFFNCGSGRZYQX51&marketplace=FLIPKART&store=tyy%2F4io&srno=b_1_8&otracker=browse&fm=organic&iid=4174d1ba-9439-4d8c-9fb1-fbd34bc3f7a1.MOBH45GSFFNCGSGR.SEARCH&ppt=browse&ppn=browse&ssid=vd2xejctds0000001746095864554 Url Success....\n",
      "Checking Lengths of Each List for Data Frame Conversion...\n",
      "Mobile:56, Original_price:56, Deal_price:56,Discount:56,Rating:56,Features:56\n",
      "\n",
      "56 : https://www.flipkart.com/infinix-note-50s-5g-titanium-grey-128-gb/p/itmfbc62747a37e7?pid=MOBHBYYE9PPMXGBH&lid=LSTMOBHBYYE9PPMXGBHASDX5S&marketplace=FLIPKART&store=tyy%2F4io&srno=b_1_9&otracker=browse&fm=organic&iid=4174d1ba-9439-4d8c-9fb1-fbd34bc3f7a1.MOBHBYYE9PPMXGBH.SEARCH&ppt=browse&ppn=browse&ssid=vd2xejctds0000001746095864554 Url Success....\n",
      "Checking Lengths of Each List for Data Frame Conversion...\n",
      "Mobile:57, Original_price:57, Deal_price:57,Discount:57,Rating:57,Features:57\n",
      "\n",
      "57 : https://www.flipkart.com/vivo-t4-5g-phantom-grey-256-gb/p/itmc2634fd4daeb9?pid=MOBHATXZGEAN2FWT&lid=LSTMOBHATXZGEAN2FWTXTUH1P&marketplace=FLIPKART&store=tyy%2F4io&srno=b_1_10&otracker=browse&fm=organic&iid=4174d1ba-9439-4d8c-9fb1-fbd34bc3f7a1.MOBHATXZGEAN2FWT.SEARCH&ppt=browse&ppn=browse&ssid=vd2xejctds0000001746095864554 Url Success....\n",
      "Checking Lengths of Each List for Data Frame Conversion...\n",
      "Mobile:58, Original_price:58, Deal_price:58,Discount:58,Rating:58,Features:58\n",
      "\n",
      "58 : https://www.flipkart.com/samsung-galaxy-a35-5g-awesome-iceblue-128-gb/p/itm9684d2fe9201e?pid=MOBGYT2HEYWFCG8Q&lid=LSTMOBGYT2HEYWFCG8QD16QYA&marketplace=FLIPKART&store=tyy%2F4io&srno=b_1_11&otracker=browse&fm=organic&iid=en_QQC5aRIg0wxcYTyfQDp3s-LEY-27Rpijt_9zYozYJCLM0FYfVXdWgdUy71eJKeyeWBpuwexnrPdq7VA0oniBXPUFjCTyOHoHZs-Z5_PS_w0%3D&ppt=browse&ppn=browse&ssid=vd2xejctds0000001746095864554 Url Success....\n",
      "Checking Lengths of Each List for Data Frame Conversion...\n",
      "Mobile:59, Original_price:59, Deal_price:59,Discount:59,Rating:59,Features:59\n",
      "\n",
      "59 : https://www.flipkart.com/samsung-galaxy-s24-5g-amber-yellow-128-gb/p/itmc7715e16403d1?pid=MOBHYJ6QMSGJG28G&lid=LSTMOBHYJ6QMSGJG28GKEE5UE&marketplace=FLIPKART&store=tyy%2F4io&srno=b_1_12&otracker=browse&fm=organic&iid=en_QQC5aRIg0wxcYTyfQDp3s-LEY-27Rpijt_9zYozYJCKxIYM85tvn5bWfW4mdF-4h5U7osO7KXaVI6sYjRGCtZfUFjCTyOHoHZs-Z5_PS_w0%3D&ppt=browse&ppn=browse&ssid=vd2xejctds0000001746095864554 Url Success....\n",
      "Checking Lengths of Each List for Data Frame Conversion...\n",
      "Mobile:60, Original_price:60, Deal_price:60,Discount:60,Rating:60,Features:60\n",
      "\n",
      "60 : https://www.flipkart.com/motorola-edge-50-fusion-marshmallow-blue-128-gb/p/itmf88eea5799a27?pid=MOBGXTYZEZSZQE7W&lid=LSTMOBGXTYZEZSZQE7WIBXLBI&marketplace=FLIPKART&store=tyy%2F4io&srno=b_1_13&otracker=browse&fm=organic&iid=4174d1ba-9439-4d8c-9fb1-fbd34bc3f7a1.MOBGXTYZEZSZQE7W.SEARCH&ppt=browse&ppn=browse&ssid=vd2xejctds0000001746095864554 Url Success....\n",
      "Checking Lengths of Each List for Data Frame Conversion...\n",
      "Mobile:61, Original_price:61, Deal_price:61,Discount:61,Rating:61,Features:61\n",
      "\n",
      "61 : https://www.flipkart.com/poco-c71-desert-gold-64-gb/p/itme3dc58af6a04b?pid=MOBHAFVJZ5CHWMH8&lid=LSTMOBHAFVJZ5CHWMH8MZ5M5D&marketplace=FLIPKART&store=tyy%2F4io&srno=b_1_14&otracker=browse&fm=organic&iid=4174d1ba-9439-4d8c-9fb1-fbd34bc3f7a1.MOBHAFVJZ5CHWMH8.SEARCH&ppt=browse&ppn=browse&ssid=vd2xejctds0000001746095864554 Url Success....\n",
      "Checking Lengths of Each List for Data Frame Conversion...\n",
      "Mobile:62, Original_price:62, Deal_price:62,Discount:62,Rating:62,Features:62\n",
      "\n",
      "62 : https://www.flipkart.com/infinix-note-50s-5g-burgundy-red-256-gb/p/itmfbc62747a37e7?pid=MOBHBYYEP8ADSFDX&lid=LSTMOBHBYYEP8ADSFDXBNJCJ2&marketplace=FLIPKART&store=tyy%2F4io&srno=b_1_15&otracker=browse&fm=organic&iid=4174d1ba-9439-4d8c-9fb1-fbd34bc3f7a1.MOBHBYYEP8ADSFDX.SEARCH&ppt=browse&ppn=browse&ssid=vd2xejctds0000001746095864554 Url Success....\n",
      "Checking Lengths of Each List for Data Frame Conversion...\n",
      "Mobile:63, Original_price:63, Deal_price:63,Discount:63,Rating:63,Features:63\n",
      "\n",
      "63 : https://www.flipkart.com/motorola-g85-5g-olive-green-128-gb/p/itm897540eb01ff1?pid=MOBHY9PQMNCMDVCD&lid=LSTMOBHY9PQMNCMDVCDE7RNMM&marketplace=FLIPKART&store=tyy%2F4io&srno=b_1_16&otracker=browse&fm=organic&iid=4174d1ba-9439-4d8c-9fb1-fbd34bc3f7a1.MOBHY9PQMNCMDVCD.SEARCH&ppt=browse&ppn=browse&ssid=vd2xejctds0000001746095864554 Url Success....\n",
      "Checking Lengths of Each List for Data Frame Conversion...\n",
      "Mobile:64, Original_price:64, Deal_price:64,Discount:64,Rating:64,Features:64\n",
      "\n",
      "64 : https://www.flipkart.com/tecno-spark-go-1-startrail-black-64-gb/p/itma978101d8bf15?pid=MOBH9HYGHKVFVGWS&lid=LSTMOBH9HYGHKVFVGWSLIYFBI&marketplace=FLIPKART&store=tyy%2F4io&srno=b_1_17&otracker=browse&fm=organic&iid=en_QQC5aRIg0wxcYTyfQDp3s-LEY-27Rpijt_9zYozYJCIjK4RpQn6Jf6AHaHgmvAOvTB7bQUlvJZiqMI00YHE5F_UFjCTyOHoHZs-Z5_PS_w0%3D&ppt=browse&ppn=browse&ssid=vd2xejctds0000001746095864554 Url Success....\n",
      "Checking Lengths of Each List for Data Frame Conversion...\n",
      "Mobile:65, Original_price:65, Deal_price:65,Discount:65,Rating:65,Features:65\n",
      "\n"
     ]
    },
    {
     "name": "stdout",
     "output_type": "stream",
     "text": [
      "65 : https://www.flipkart.com/samsung-galaxy-f06-5g-lit-violet-128-gb/p/itm140da3412b73b?pid=MOBH9AS4FA5RUHSY&lid=LSTMOBH9AS4FA5RUHSYIYVIFO&marketplace=FLIPKART&store=tyy%2F4io&srno=b_1_18&otracker=browse&fm=organic&iid=en_QQC5aRIg0wxcYTyfQDp3s-LEY-27Rpijt_9zYozYJCJ8twOGAC0KuFCVljwbe1EPp3UbuGAmbItMc7BpJNQqzPUFjCTyOHoHZs-Z5_PS_w0%3D&ppt=browse&ppn=browse&ssid=vd2xejctds0000001746095864554 Url Success....\n",
      "Checking Lengths of Each List for Data Frame Conversion...\n",
      "Mobile:66, Original_price:66, Deal_price:66,Discount:66,Rating:66,Features:66\n",
      "\n",
      "66 : https://www.flipkart.com/vivo-t4x-5g-pronto-purple-128-gb/p/itm017656bdd097b?pid=MOBH9JUSZFBNVDXM&lid=LSTMOBH9JUSZFBNVDXMINCOPW&marketplace=FLIPKART&store=tyy%2F4io&spotlightTagId=default_BestsellerId_tyy%2F4io&srno=b_1_19&otracker=browse&fm=organic&iid=4174d1ba-9439-4d8c-9fb1-fbd34bc3f7a1.MOBH9JUSZFBNVDXM.SEARCH&ppt=browse&ppn=browse&ssid=vd2xejctds0000001746095864554 Url Success....\n",
      "Checking Lengths of Each List for Data Frame Conversion...\n",
      "Mobile:67, Original_price:67, Deal_price:67,Discount:67,Rating:67,Features:67\n",
      "\n",
      "67 : https://www.flipkart.com/infinix-note-50s-5g-titanium-grey-256-gb/p/itmfbc62747a37e7?pid=MOBHBYYEJKP3FZ4Y&lid=LSTMOBHBYYEJKP3FZ4YXLANKV&marketplace=FLIPKART&store=tyy%2F4io&srno=b_1_20&otracker=browse&fm=organic&iid=4174d1ba-9439-4d8c-9fb1-fbd34bc3f7a1.MOBHBYYEJKP3FZ4Y.SEARCH&ppt=browse&ppn=browse&ssid=vd2xejctds0000001746095864554 Url Success....\n",
      "Checking Lengths of Each List for Data Frame Conversion...\n",
      "Mobile:68, Original_price:68, Deal_price:68,Discount:68,Rating:68,Features:68\n",
      "\n",
      "68 : https://www.flipkart.com/realme-p3-5g-comet-grey-128-gb/p/itm69060f73d27e8?pid=MOBHAYN5TKGSTKJD&lid=LSTMOBHAYN5TKGSTKJD1JQKAL&marketplace=FLIPKART&store=tyy%2F4io&srno=b_1_21&otracker=browse&fm=organic&iid=en_QQC5aRIg0wxcYTyfQDp3s-LEY-27Rpijt_9zYozYJCJzCvVokeO3Mwq2v-fS4AMizm-kL5vqQZYkXYUBjOgdaw%3D%3D&ppt=browse&ppn=browse&ssid=vd2xejctds0000001746095864554 Url Success....\n",
      "Checking Lengths of Each List for Data Frame Conversion...\n",
      "Mobile:69, Original_price:69, Deal_price:69,Discount:69,Rating:69,Features:69\n",
      "\n",
      "69 : https://www.flipkart.com/nothing-phone-3a-black-128-gb/p/itm49557c5a65f9c?pid=MOBH8G3P6UXPEFSZ&lid=LSTMOBH8G3P6UXPEFSZTYXBHZ&marketplace=FLIPKART&store=tyy%2F4io&srno=b_1_22&otracker=browse&fm=organic&iid=en_QQC5aRIg0wxcYTyfQDp3s-LEY-27Rpijt_9zYozYJCIO0JyVlXF5YxKTXnbWA824lWJRpXLrG-MzcnEo7jvjhvUFjCTyOHoHZs-Z5_PS_w0%3D&ppt=browse&ppn=browse&ssid=vd2xejctds0000001746095864554 Url Success....\n",
      "Checking Lengths of Each List for Data Frame Conversion...\n",
      "Mobile:70, Original_price:70, Deal_price:70,Discount:70,Rating:70,Features:70\n",
      "\n",
      "70 : https://www.flipkart.com/oneplus-nord-ce4-lite-5g-super-silver-128-gb/p/itm8fd5fdf300955?pid=MOBH25ZDPHNF38XJ&lid=LSTMOBH25ZDPHNF38XJVHNZIX&marketplace=FLIPKART&store=tyy%2F4io&srno=b_1_23&otracker=browse&fm=organic&iid=4174d1ba-9439-4d8c-9fb1-fbd34bc3f7a1.MOBH25ZDPHNF38XJ.SEARCH&ppt=browse&ppn=browse&ssid=vd2xejctds0000001746095864554 Url Success....\n",
      "Checking Lengths of Each List for Data Frame Conversion...\n",
      "Mobile:71, Original_price:71, Deal_price:71,Discount:71,Rating:71,Features:71\n",
      "\n",
      "71 : https://www.flipkart.com/poco-c75-5g-aqua-bliss-64-gb/p/itm10b3f6f1bc616?pid=MOBH7443MMBCWPPG&lid=LSTMOBH7443MMBCWPPGVOR2LC&marketplace=FLIPKART&store=tyy%2F4io&srno=b_1_24&otracker=browse&fm=organic&iid=4174d1ba-9439-4d8c-9fb1-fbd34bc3f7a1.MOBH7443MMBCWPPG.SEARCH&ppt=browse&ppn=browse&ssid=vd2xejctds0000001746095864554 Url Success....\n",
      "Checking Lengths of Each List for Data Frame Conversion...\n",
      "Mobile:72, Original_price:72, Deal_price:72,Discount:72,Rating:72,Features:72\n",
      "\n",
      "72 : https://www.flipkart.com/tecno-pova-6-neo-5g-aurora-cloud-128-gb/p/itmd24accb9a72ed?pid=MOBH9HYGA26UGXU6&lid=LSTMOBH9HYGA26UGXU6N8EJMP&marketplace=FLIPKART&store=tyy%2F4io&srno=b_2_25&otracker=browse&fm=organic&iid=en_heCZSbKuWiMYUzkH1nbk1R7x2s8-6CqGzIH1sk1XeAVkFqwewoF3pPFwwV3zHd6j1b4BWZU-yotPAP-HapY6h_UFjCTyOHoHZs-Z5_PS_w0%3D&ppt=browse&ppn=browse&ssid=vd2xejctds0000001746095864554 Url Success....\n",
      "Checking Lengths of Each List for Data Frame Conversion...\n",
      "Mobile:73, Original_price:73, Deal_price:73,Discount:73,Rating:73,Features:73\n",
      "\n",
      "73 : https://www.flipkart.com/realme-c61-safari-green-128-gb/p/itmd6ddbcefce040?pid=MOBHFRKRAVXUKDGX&lid=LSTMOBHFRKRAVXUKDGX3LF6Z6&marketplace=FLIPKART&store=tyy%2F4io&srno=b_2_26&otracker=browse&fm=organic&iid=79d669ca-258c-4473-ab85-3def3899cf50.MOBHFRKRAVXUKDGX.SEARCH&ppt=browse&ppn=browse&ssid=vd2xejctds0000001746095864554 Url Success....\n",
      "Checking Lengths of Each List for Data Frame Conversion...\n",
      "Mobile:74, Original_price:74, Deal_price:74,Discount:74,Rating:74,Features:74\n",
      "\n",
      "74 : https://www.flipkart.com/realme-p3-pro-5g-galaxy-purple-128-gb/p/itme2d563c696f88?pid=MOBH8VGVTFQGZ3UV&lid=LSTMOBH8VGVTFQGZ3UV3MFI3Z&marketplace=FLIPKART&store=tyy%2F4io&srno=b_2_27&otracker=browse&fm=organic&iid=en_heCZSbKuWiMYUzkH1nbk1R7x2s8-6CqGzIH1sk1XeAUbHyhXZOIHnZDji6rSV1NH3rS43L0vrfwvYBDyOrDnBfUFjCTyOHoHZs-Z5_PS_w0%3D&ppt=browse&ppn=browse&ssid=vd2xejctds0000001746095864554 Url Success....\n",
      "Checking Lengths of Each List for Data Frame Conversion...\n",
      "Mobile:75, Original_price:75, Deal_price:75,Discount:75,Rating:75,Features:75\n",
      "\n",
      "75 : https://www.flipkart.com/samsung-galaxy-a35-5g-awesome-iceblue-256-gb/p/itmd3af671af1e42?pid=MOBGYT2HYAAHS3ZR&lid=LSTMOBGYT2HYAAHS3ZRSKZG28&marketplace=FLIPKART&store=tyy%2F4io&srno=b_2_28&otracker=browse&fm=organic&iid=en_heCZSbKuWiMYUzkH1nbk1R7x2s8-6CqGzIH1sk1XeAVjZdLgO808JpiVeA9F5QMpA2glJ0ej_azD2_uBPWISf_UFjCTyOHoHZs-Z5_PS_w0%3D&ppt=browse&ppn=browse&ssid=vd2xejctds0000001746095864554 Url Success....\n",
      "Checking Lengths of Each List for Data Frame Conversion...\n",
      "Mobile:76, Original_price:76, Deal_price:76,Discount:76,Rating:76,Features:76\n",
      "\n",
      "76 : https://www.flipkart.com/realme-c61-safari-green-64-gb/p/itmd6ddbcefce040?pid=MOBHFRKRF6ZHBFTW&lid=LSTMOBHFRKRF6ZHBFTW09ES8B&marketplace=FLIPKART&store=tyy%2F4io&srno=b_2_29&otracker=browse&fm=organic&iid=79d669ca-258c-4473-ab85-3def3899cf50.MOBHFRKRF6ZHBFTW.SEARCH&ppt=browse&ppn=browse&ssid=vd2xejctds0000001746095864554 Url Success....\n",
      "Checking Lengths of Each List for Data Frame Conversion...\n",
      "Mobile:77, Original_price:77, Deal_price:77,Discount:77,Rating:77,Features:77\n",
      "\n",
      "77 : https://www.flipkart.com/vivo-t4-5g-emerald-blaze-128-gb/p/itmc2634fd4daeb9?pid=MOBHATXZYSHYH6ZP&lid=LSTMOBHATXZYSHYH6ZPMNIAH0&marketplace=FLIPKART&store=tyy%2F4io&srno=b_2_30&otracker=browse&fm=organic&iid=79d669ca-258c-4473-ab85-3def3899cf50.MOBHATXZYSHYH6ZP.SEARCH&ppt=browse&ppn=browse&ssid=vd2xejctds0000001746095864554 Url Success....\n",
      "Checking Lengths of Each List for Data Frame Conversion...\n",
      "Mobile:78, Original_price:78, Deal_price:78,Discount:78,Rating:78,Features:78\n",
      "\n",
      "78 : https://www.flipkart.com/samsung-galaxy-s24-fe-5g-blue-128-gb/p/itme960199e26f23?pid=MOBH4ZG3Z5NCBW2H&lid=LSTMOBH4ZG3Z5NCBW2HWQMO2K&marketplace=FLIPKART&store=tyy%2F4io&srno=b_2_31&otracker=browse&fm=organic&iid=en_heCZSbKuWiMYUzkH1nbk1R7x2s8-6CqGzIH1sk1XeAWeCfr9pprKT7ZCKIvEpFIs-nnMRZG61Fzn95V3XcIEbvUFjCTyOHoHZs-Z5_PS_w0%3D&ppt=browse&ppn=browse&ssid=vd2xejctds0000001746095864554 Url Success....\n",
      "Checking Lengths of Each List for Data Frame Conversion...\n",
      "Mobile:79, Original_price:79, Deal_price:79,Discount:79,Rating:79,Features:79\n",
      "\n",
      "79 : https://www.flipkart.com/samsung-galaxy-f06-5g-lit-violet-64-gb/p/itm1390a80a68073?pid=MOBHBF5JG3BPANSG&lid=LSTMOBHBF5JG3BPANSGWYWEPP&marketplace=FLIPKART&store=tyy%2F4io&srno=b_2_32&otracker=browse&fm=organic&iid=en_heCZSbKuWiMYUzkH1nbk1R7x2s8-6CqGzIH1sk1XeAU49qlvohBWbq2UZdGhpBr4QABhoo2_1vOcy8s3ENiu0vUFjCTyOHoHZs-Z5_PS_w0%3D&ppt=browse&ppn=browse&ssid=vd2xejctds0000001746095864554 Url Success....\n",
      "Checking Lengths of Each List for Data Frame Conversion...\n",
      "Mobile:80, Original_price:80, Deal_price:80,Discount:80,Rating:80,Features:80\n",
      "\n",
      "80 : https://www.flipkart.com/vivo-t4x-5g-pronto-purple-128-gb/p/itm017656bdd097b?pid=MOBH9JUSZHCX3JRG&lid=LSTMOBH9JUSZHCX3JRGEPZVNT&marketplace=FLIPKART&store=tyy%2F4io&srno=b_2_33&otracker=browse&fm=organic&iid=79d669ca-258c-4473-ab85-3def3899cf50.MOBH9JUSZHCX3JRG.SEARCH&ppt=browse&ppn=browse&ssid=vd2xejctds0000001746095864554 Url Success....\n",
      "Checking Lengths of Each List for Data Frame Conversion...\n",
      "Mobile:81, Original_price:81, Deal_price:81,Discount:81,Rating:81,Features:81\n",
      "\n"
     ]
    },
    {
     "name": "stdout",
     "output_type": "stream",
     "text": [
      "81 : https://www.flipkart.com/realme-c61-marble-black-128-gb/p/itmd6ddbcefce040?pid=MOBHFRKRQMD36FZ5&lid=LSTMOBHFRKRQMD36FZ5ZLCIIC&marketplace=FLIPKART&store=tyy%2F4io&srno=b_2_34&otracker=browse&fm=organic&iid=79d669ca-258c-4473-ab85-3def3899cf50.MOBHFRKRQMD36FZ5.SEARCH&ppt=browse&ppn=browse&ssid=vd2xejctds0000001746095864554 Url Success....\n",
      "Checking Lengths of Each List for Data Frame Conversion...\n",
      "Mobile:82, Original_price:82, Deal_price:82,Discount:82,Rating:82,Features:82\n",
      "\n",
      "82 : https://www.flipkart.com/iair-d10-mini-dual-sim-keypad-phone-1800-mah-battery-big-1-7-inch-display/p/itmcb5118b7e7411?pid=MOBG7CMF9PXXBKQH&lid=LSTMOBG7CMF9PXXBKQHLHTNA6&marketplace=FLIPKART&store=tyy%2F4io&srno=b_2_35&otracker=browse&fm=organic&iid=en_heCZSbKuWiMYUzkH1nbk1R7x2s8-6CqGzIH1sk1XeAVplicl5WK7IEqCBf9KyWu9OnlDNR_dn2zR4637_T8CVw%3D%3D&ppt=browse&ppn=browse&ssid=vd2xejctds0000001746095864554 Url Success....\n",
      "Checking Lengths of Each List for Data Frame Conversion...\n",
      "Mobile:83, Original_price:83, Deal_price:83,Discount:83,Rating:83,Features:83\n",
      "\n",
      "83 : https://www.flipkart.com/motorola-g45-5g-brilliant-green-128-gb/p/itm4f3bbebe58a57?pid=MOBH3YKQQN3S9TQQ&lid=LSTMOBH3YKQQN3S9TQQIXCQDO&marketplace=FLIPKART&store=tyy%2F4io&srno=b_2_36&otracker=browse&fm=organic&iid=79d669ca-258c-4473-ab85-3def3899cf50.MOBH3YKQQN3S9TQQ.SEARCH&ppt=browse&ppn=browse&ssid=vd2xejctds0000001746095864554 Url Success....\n",
      "Checking Lengths of Each List for Data Frame Conversion...\n",
      "Mobile:84, Original_price:84, Deal_price:84,Discount:84,Rating:84,Features:84\n",
      "\n",
      "84 : https://www.flipkart.com/samsung-galaxy-a56-5g-awesome-olive-128-gb/p/itm81265b7c9602c?pid=MOBH9RNG5SA9ADHS&lid=LSTMOBH9RNG5SA9ADHSXUMC58&marketplace=FLIPKART&store=tyy%2F4io&srno=b_2_37&otracker=browse&fm=organic&iid=en_heCZSbKuWiMYUzkH1nbk1R7x2s8-6CqGzIH1sk1XeAVHF2M3pOQxJUqQjwAfutYdHVRQYRk2K4NIXzoQ8k2hoPUFjCTyOHoHZs-Z5_PS_w0%3D&ppt=browse&ppn=browse&ssid=vd2xejctds0000001746095864554 Url Success....\n",
      "Checking Lengths of Each List for Data Frame Conversion...\n",
      "Mobile:85, Original_price:85, Deal_price:85,Discount:85,Rating:85,Features:85\n",
      "\n",
      "85 : https://www.flipkart.com/google-pixel-9a-obsidian-256-gb/p/itmf9d1fcfa566cf?pid=MOBH9YMEQUGCHPHN&lid=LSTMOBH9YMEQUGCHPHNSFHZNA&marketplace=FLIPKART&store=tyy%2F4io&srno=b_2_38&otracker=browse&fm=organic&iid=en_heCZSbKuWiMYUzkH1nbk1R7x2s8-6CqGzIH1sk1XeAX_rvTw2OrJFFHll5ZLtD1MNTHBjEL-jAM49DF_Oo8UrPcUmN_6PwCReg_VTM4VLxo%3D&ppt=browse&ppn=browse&ssid=vd2xejctds0000001746095864554 Url Success....\n",
      "Checking Lengths of Each List for Data Frame Conversion...\n",
      "Mobile:86, Original_price:86, Deal_price:86,Discount:86,Rating:86,Features:86\n",
      "\n",
      "86 : https://www.flipkart.com/infinix-note-50s-5g-marine-drift-blue-128-gb/p/itmfbc62747a37e7?pid=MOBHBYYEMPC8GGKK&lid=LSTMOBHBYYEMPC8GGKKX7PNZI&marketplace=FLIPKART&store=tyy%2F4io&srno=b_2_39&otracker=browse&fm=organic&iid=79d669ca-258c-4473-ab85-3def3899cf50.MOBHBYYEMPC8GGKK.SEARCH&ppt=browse&ppn=browse&ssid=vd2xejctds0000001746095864554 Url Success....\n",
      "Checking Lengths of Each List for Data Frame Conversion...\n",
      "Mobile:87, Original_price:87, Deal_price:87,Discount:87,Rating:87,Features:87\n",
      "\n",
      "87 : https://www.flipkart.com/realme-p2-pro-5g-parrot-green-256-gb/p/itm53d39fff9f20c?pid=MOBH45GSSTNWUJZB&lid=LSTMOBH45GSSTNWUJZBXNTI43&marketplace=FLIPKART&store=tyy%2F4io&srno=b_2_40&otracker=browse&fm=organic&iid=79d669ca-258c-4473-ab85-3def3899cf50.MOBH45GSSTNWUJZB.SEARCH&ppt=browse&ppn=browse&ssid=vd2xejctds0000001746095864554 Url Success....\n",
      "Checking Lengths of Each List for Data Frame Conversion...\n",
      "Mobile:88, Original_price:88, Deal_price:88,Discount:88,Rating:88,Features:88\n",
      "\n",
      "88 : https://www.flipkart.com/samsung-galaxy-f06-5g-bahama-blue-128-gb/p/itm58189fada62cb?pid=MOBH9AS47XHFRMJY&lid=LSTMOBH9AS47XHFRMJYWI8CRI&marketplace=FLIPKART&store=tyy%2F4io&srno=b_2_41&otracker=browse&fm=organic&iid=en_heCZSbKuWiMYUzkH1nbk1R7x2s8-6CqGzIH1sk1XeAUFoSB8hrIfXEs23-RhbZqy6pU37oLr_hdZ9S3llE_fyvUFjCTyOHoHZs-Z5_PS_w0%3D&ppt=browse&ppn=browse&ssid=vd2xejctds0000001746095864554 Url Success....\n",
      "Checking Lengths of Each List for Data Frame Conversion...\n",
      "Mobile:89, Original_price:89, Deal_price:89,Discount:89,Rating:89,Features:89\n",
      "\n",
      "89 : https://www.flipkart.com/samsung-galaxy-a35-5g-awesome-lilac-256-gb/p/itm8f49f29e842cc?pid=MOBGYT2HRXWTHACK&lid=LSTMOBGYT2HRXWTHACKH62UKV&marketplace=FLIPKART&store=tyy%2F4io&srno=b_2_42&otracker=browse&fm=organic&iid=en_heCZSbKuWiMYUzkH1nbk1R7x2s8-6CqGzIH1sk1XeAUPebjizLLPnaZs4NUSacRKbMxiga5uQkuA8b-1UWQTJ6V8WX5krIChubBlraAu4CQ%3D&ppt=browse&ppn=browse&ssid=vd2xejctds0000001746095864554 Url Success....\n",
      "Checking Lengths of Each List for Data Frame Conversion...\n",
      "Mobile:90, Original_price:90, Deal_price:90,Discount:90,Rating:90,Features:90\n",
      "\n",
      "90 : https://www.flipkart.com/vivo-t4x-5g-marine-blue-128-gb/p/itm017656bdd097b?pid=MOBH9JUSZWZ5ZZAM&lid=LSTMOBH9JUSZWZ5ZZAMFXTB3Z&marketplace=FLIPKART&store=tyy%2F4io&srno=b_2_43&otracker=browse&fm=organic&iid=79d669ca-258c-4473-ab85-3def3899cf50.MOBH9JUSZWZ5ZZAM.SEARCH&ppt=browse&ppn=browse&ssid=vd2xejctds0000001746095864554 Url Success....\n",
      "Checking Lengths of Each List for Data Frame Conversion...\n",
      "Mobile:91, Original_price:91, Deal_price:91,Discount:91,Rating:91,Features:91\n",
      "\n",
      "91 : https://www.flipkart.com/motorola-g05-plum-red-64-gb/p/itm87af8109384d4?pid=MOBH5F3QKFHEGBFS&lid=LSTMOBH5F3QKFHEGBFSYF5LHW&marketplace=FLIPKART&store=tyy%2F4io&srno=b_2_44&otracker=browse&fm=organic&iid=79d669ca-258c-4473-ab85-3def3899cf50.MOBH5F3QKFHEGBFS.SEARCH&ppt=browse&ppn=browse&ssid=vd2xejctds0000001746095864554 Url Success....\n",
      "Checking Lengths of Each List for Data Frame Conversion...\n",
      "Mobile:92, Original_price:92, Deal_price:92,Discount:92,Rating:92,Features:92\n",
      "\n",
      "92 : https://www.flipkart.com/samsung-galaxy-s25-5g-silver-shadow-256-gb/p/itm70d1f331ebbac?pid=MOBH8K8UH9XHPVGQ&lid=LSTMOBH8K8UH9XHPVGQEUE4JY&marketplace=FLIPKART&store=tyy%2F4io&srno=b_2_45&otracker=browse&fm=organic&iid=en_heCZSbKuWiMYUzkH1nbk1R7x2s8-6CqGzIH1sk1XeAUivqxUK1FNuVFT7_EYZM9lKXJX-ciOP5_EFmweEXtR-Q891ypMzu4_aryI8_sihJ8%3D&ppt=browse&ppn=browse&ssid=vd2xejctds0000001746095864554 Url Success....\n",
      "Checking Lengths of Each List for Data Frame Conversion...\n",
      "Mobile:93, Original_price:93, Deal_price:93,Discount:93,Rating:93,Features:93\n",
      "\n",
      "93 : https://www.flipkart.com/motorola-edge-60-stylus-pantone-gibraltar-sea-256-gb/p/itm9e562c122f9ee?pid=MOBH9AEUQKVZZYNH&lid=LSTMOBH9AEUQKVZZYNHEJ305D&marketplace=FLIPKART&store=tyy%2F4io&srno=b_2_46&otracker=browse&fm=organic&iid=79d669ca-258c-4473-ab85-3def3899cf50.MOBH9AEUQKVZZYNH.SEARCH&ppt=browse&ppn=browse&ssid=vd2xejctds0000001746095864554 Url Success....\n",
      "Checking Lengths of Each List for Data Frame Conversion...\n",
      "Mobile:94, Original_price:94, Deal_price:94,Discount:94,Rating:94,Features:94\n",
      "\n",
      "94 : https://www.flipkart.com/samsung-galaxy-f16-5g-glam-green-128-gb/p/itm05d1354ab28a9?pid=MOBH9ASGHHWYPHRF&lid=LSTMOBH9ASGHHWYPHRFHONIBZ&marketplace=FLIPKART&store=tyy%2F4io&srno=b_2_47&otracker=browse&fm=organic&iid=en_heCZSbKuWiMYUzkH1nbk1R7x2s8-6CqGzIH1sk1XeAUQU-RwVylOmn-I7EIY_0Q2m39HxhUQIee578mSwrSMwhhTy0lUJ14SzoMSv_CzLF0%3D&ppt=browse&ppn=browse&ssid=vd2xejctds0000001746095864554 Url Success....\n",
      "Checking Lengths of Each List for Data Frame Conversion...\n",
      "Mobile:95, Original_price:95, Deal_price:95,Discount:95,Rating:95,Features:95\n",
      "\n",
      "95 : https://www.flipkart.com/samsung-galaxy-a35-5g-awesome-lilac-128-gb/p/itm5a31476ca6a35?pid=MOBGYT2HDZYASSZG&lid=LSTMOBGYT2HDZYASSZGOUJTDB&marketplace=FLIPKART&store=tyy%2F4io&srno=b_2_48&otracker=browse&fm=organic&iid=en_heCZSbKuWiMYUzkH1nbk1R7x2s8-6CqGzIH1sk1XeAWb1Ihza5dXD2nUjlRIH0G_FUDJsJm3DfIWWL0gWDBjvn3Gaq_wzx4HJysDmGalzMk%3D&ppt=browse&ppn=browse&ssid=vd2xejctds0000001746095864554 Url Success....\n",
      "Checking Lengths of Each List for Data Frame Conversion...\n",
      "Mobile:96, Original_price:96, Deal_price:96,Discount:96,Rating:96,Features:96\n",
      "\n",
      "96 : https://www.flipkart.com/realme-p3x-5g-lunar-silver-128-gb/p/itmab5a4b09b6ccc?pid=MOBH8VGVHUHDG6FG&lid=LSTMOBH8VGVHUHDG6FGI9LMXH&marketplace=FLIPKART&store=tyy%2F4io&srno=b_1_1&otracker=browse&fm=organic&iid=en_8Itob-5fpJmhT2m3U-lK5b0u-9aJ2yNSylxvPME4KvCsBWscuoY1hagyzLMJJ5LnGVbKzrtAQC1opCkmeGiAgg%3D%3D&ppt=browse&ppn=browse&ssid=vd2xejctds0000001746095864554 Url Success....\n",
      "Checking Lengths of Each List for Data Frame Conversion...\n",
      "Mobile:97, Original_price:97, Deal_price:97,Discount:97,Rating:97,Features:97\n",
      "\n"
     ]
    },
    {
     "name": "stdout",
     "output_type": "stream",
     "text": [
      "97 : https://www.flipkart.com/cmf-nothing-phone-2-pro-light-green-128-gb/p/itm46a119f176627?pid=MOBHAUHADASAEX2G&lid=LSTMOBHAUHADASAEX2GYKJS5R&marketplace=FLIPKART&store=tyy%2F4io&srno=b_1_2&otracker=browse&fm=organic&iid=en_8Itob-5fpJmhT2m3U-lK5b0u-9aJ2yNSylxvPME4KvAUDYrYFFyIt5idUZaUMi2xxOugx3FxtDJVgmrdXU3QWfUFjCTyOHoHZs-Z5_PS_w0%3D&ppt=browse&ppn=browse&ssid=vd2xejctds0000001746095864554 Url Success....\n",
      "Checking Lengths of Each List for Data Frame Conversion...\n",
      "Mobile:98, Original_price:98, Deal_price:98,Discount:98,Rating:98,Features:98\n",
      "\n",
      "98 : https://www.flipkart.com/infinix-note-50s-5g-burgundy-red-128-gb/p/itmfbc62747a37e7?pid=MOBHBYYEG5Q5XVNC&lid=LSTMOBHBYYEG5Q5XVNCQNRRXW&marketplace=FLIPKART&store=tyy%2F4io&srno=b_1_3&otracker=browse&fm=organic&iid=c7bc0595-969e-490f-a369-15f39ea7f836.MOBHBYYEG5Q5XVNC.SEARCH&ppt=browse&ppn=browse&ssid=vd2xejctds0000001746095864554 Url Success....\n",
      "Checking Lengths of Each List for Data Frame Conversion...\n",
      "Mobile:99, Original_price:99, Deal_price:99,Discount:99,Rating:99,Features:99\n",
      "\n",
      "99 : https://www.flipkart.com/realme-c63-5g-charger-box-starry-gold-128-gb/p/itm10b8f5cccfadd?pid=MOBH3DZQ9G3WGQYY&lid=LSTMOBH3DZQ9G3WGQYYMHSNLX&marketplace=FLIPKART&store=tyy%2F4io&srno=b_1_4&otracker=browse&fm=organic&iid=c7bc0595-969e-490f-a369-15f39ea7f836.MOBH3DZQ9G3WGQYY.SEARCH&ppt=browse&ppn=browse&ssid=vd2xejctds0000001746095864554 Url Success....\n",
      "Checking Lengths of Each List for Data Frame Conversion...\n",
      "Mobile:100, Original_price:100, Deal_price:100,Discount:100,Rating:100,Features:100\n",
      "\n",
      "100 : https://www.flipkart.com/realme-c63-5g-charger-box-forest-green-128-gb/p/itm10b8f5cccfadd?pid=MOBH3DZQ4JE2GVAR&lid=LSTMOBH3DZQ4JE2GVAR5U45PL&marketplace=FLIPKART&store=tyy%2F4io&srno=b_1_5&otracker=browse&fm=organic&iid=c7bc0595-969e-490f-a369-15f39ea7f836.MOBH3DZQ4JE2GVAR.SEARCH&ppt=browse&ppn=browse&ssid=vd2xejctds0000001746095864554 Url Success....\n",
      "Checking Lengths of Each List for Data Frame Conversion...\n",
      "Mobile:101, Original_price:101, Deal_price:101,Discount:101,Rating:101,Features:101\n",
      "\n",
      "101 : https://www.flipkart.com/google-pixel-9a-porcelain-256-gb/p/itmfe749ceddac9a?pid=MOBH9YME35EYPV4K&lid=LSTMOBH9YME35EYPV4K5K7UZW&marketplace=FLIPKART&store=tyy%2F4io&srno=b_1_6&otracker=browse&fm=organic&iid=en_8Itob-5fpJmhT2m3U-lK5b0u-9aJ2yNSylxvPME4KvBFB8rzmK0SNOnj6PUqSp_VD5mpU_b81_rW0yIovj7iVjRKtQQVWB8eNWYNLe7VuyQ%3D&ppt=browse&ppn=browse&ssid=vd2xejctds0000001746095864554 Url Success....\n",
      "Checking Lengths of Each List for Data Frame Conversion...\n",
      "Mobile:102, Original_price:102, Deal_price:102,Discount:102,Rating:102,Features:102\n",
      "\n",
      "102 : https://www.flipkart.com/poco-c71-locked-airtel-prepaid-cool-blue-64-gb/p/itmdec407554268b?pid=MOBHAFVJBSV3VH9N&lid=LSTMOBHAFVJBSV3VH9NPL87HP&marketplace=FLIPKART&store=tyy%2F4io&srno=b_1_7&otracker=browse&fm=organic&iid=c7bc0595-969e-490f-a369-15f39ea7f836.MOBHAFVJBSV3VH9N.SEARCH&ppt=browse&ppn=browse&ssid=vd2xejctds0000001746095864554 Url Success....\n",
      "Checking Lengths of Each List for Data Frame Conversion...\n",
      "Mobile:103, Original_price:103, Deal_price:103,Discount:103,Rating:103,Features:103\n",
      "\n",
      "103 : https://www.flipkart.com/realme-p2-pro-5g-parrot-green-128-gb/p/itm53d39fff9f20c?pid=MOBH45GSFFNCGSGR&lid=LSTMOBH45GSFFNCGSGRZYQX51&marketplace=FLIPKART&store=tyy%2F4io&srno=b_1_8&otracker=browse&fm=organic&iid=c7bc0595-969e-490f-a369-15f39ea7f836.MOBH45GSFFNCGSGR.SEARCH&ppt=browse&ppn=browse&ssid=vd2xejctds0000001746095864554 Url Success....\n",
      "Checking Lengths of Each List for Data Frame Conversion...\n",
      "Mobile:104, Original_price:104, Deal_price:104,Discount:104,Rating:104,Features:104\n",
      "\n",
      "104 : https://www.flipkart.com/infinix-note-50s-5g-titanium-grey-128-gb/p/itmfbc62747a37e7?pid=MOBHBYYE9PPMXGBH&lid=LSTMOBHBYYE9PPMXGBHASDX5S&marketplace=FLIPKART&store=tyy%2F4io&srno=b_1_9&otracker=browse&fm=organic&iid=c7bc0595-969e-490f-a369-15f39ea7f836.MOBHBYYE9PPMXGBH.SEARCH&ppt=browse&ppn=browse&ssid=vd2xejctds0000001746095864554 Url Success....\n",
      "Checking Lengths of Each List for Data Frame Conversion...\n",
      "Mobile:105, Original_price:105, Deal_price:105,Discount:105,Rating:105,Features:105\n",
      "\n",
      "105 : https://www.flipkart.com/vivo-t4-5g-phantom-grey-256-gb/p/itmc2634fd4daeb9?pid=MOBHATXZGEAN2FWT&lid=LSTMOBHATXZGEAN2FWTXTUH1P&marketplace=FLIPKART&store=tyy%2F4io&srno=b_1_10&otracker=browse&fm=organic&iid=c7bc0595-969e-490f-a369-15f39ea7f836.MOBHATXZGEAN2FWT.SEARCH&ppt=browse&ppn=browse&ssid=vd2xejctds0000001746095864554 Url Success....\n",
      "Checking Lengths of Each List for Data Frame Conversion...\n",
      "Mobile:106, Original_price:106, Deal_price:106,Discount:106,Rating:106,Features:106\n",
      "\n",
      "106 : https://www.flipkart.com/samsung-galaxy-a35-5g-awesome-iceblue-128-gb/p/itm9684d2fe9201e?pid=MOBGYT2HEYWFCG8Q&lid=LSTMOBGYT2HEYWFCG8QD16QYA&marketplace=FLIPKART&store=tyy%2F4io&srno=b_1_11&otracker=browse&fm=organic&iid=en_8Itob-5fpJmhT2m3U-lK5b0u-9aJ2yNSylxvPME4KvApS6d-URPPrZ2Mvf2l12E3Pat2adAfNoXCGoSR_C3PT-vN4Mn-dv-pi277bRzMbnY%3D&ppt=browse&ppn=browse&ssid=vd2xejctds0000001746095864554 Url Success....\n",
      "Checking Lengths of Each List for Data Frame Conversion...\n",
      "Mobile:107, Original_price:107, Deal_price:107,Discount:107,Rating:107,Features:107\n",
      "\n",
      "107 : https://www.flipkart.com/samsung-galaxy-s24-5g-amber-yellow-128-gb/p/itmc7715e16403d1?pid=MOBHYJ6QMSGJG28G&lid=LSTMOBHYJ6QMSGJG28GKEE5UE&marketplace=FLIPKART&store=tyy%2F4io&srno=b_1_12&otracker=browse&fm=organic&iid=en_8Itob-5fpJmhT2m3U-lK5b0u-9aJ2yNSylxvPME4KvDAmNk9uRu4oc8-fX_KaqkKmo6iCvPG78wm0E0YWYvfYGaRs4JL222ZRV-dN99QnxU%3D&ppt=browse&ppn=browse&ssid=vd2xejctds0000001746095864554 Url Success....\n",
      "Checking Lengths of Each List for Data Frame Conversion...\n",
      "Mobile:108, Original_price:108, Deal_price:108,Discount:108,Rating:108,Features:108\n",
      "\n",
      "108 : https://www.flipkart.com/motorola-edge-50-fusion-marshmallow-blue-128-gb/p/itmf88eea5799a27?pid=MOBGXTYZEZSZQE7W&lid=LSTMOBGXTYZEZSZQE7WIBXLBI&marketplace=FLIPKART&store=tyy%2F4io&srno=b_1_13&otracker=browse&fm=organic&iid=c7bc0595-969e-490f-a369-15f39ea7f836.MOBGXTYZEZSZQE7W.SEARCH&ppt=browse&ppn=browse&ssid=vd2xejctds0000001746095864554 Url Success....\n",
      "Checking Lengths of Each List for Data Frame Conversion...\n",
      "Mobile:109, Original_price:109, Deal_price:109,Discount:109,Rating:109,Features:109\n",
      "\n",
      "109 : https://www.flipkart.com/poco-c71-desert-gold-64-gb/p/itme3dc58af6a04b?pid=MOBHAFVJZ5CHWMH8&lid=LSTMOBHAFVJZ5CHWMH8MZ5M5D&marketplace=FLIPKART&store=tyy%2F4io&srno=b_1_14&otracker=browse&fm=organic&iid=c7bc0595-969e-490f-a369-15f39ea7f836.MOBHAFVJZ5CHWMH8.SEARCH&ppt=browse&ppn=browse&ssid=vd2xejctds0000001746095864554 Url Success....\n",
      "Checking Lengths of Each List for Data Frame Conversion...\n",
      "Mobile:110, Original_price:110, Deal_price:110,Discount:110,Rating:110,Features:110\n",
      "\n",
      "110 : https://www.flipkart.com/infinix-note-50s-5g-burgundy-red-256-gb/p/itmfbc62747a37e7?pid=MOBHBYYEP8ADSFDX&lid=LSTMOBHBYYEP8ADSFDXBNJCJ2&marketplace=FLIPKART&store=tyy%2F4io&srno=b_1_15&otracker=browse&fm=organic&iid=c7bc0595-969e-490f-a369-15f39ea7f836.MOBHBYYEP8ADSFDX.SEARCH&ppt=browse&ppn=browse&ssid=vd2xejctds0000001746095864554 Url Success....\n",
      "Checking Lengths of Each List for Data Frame Conversion...\n",
      "Mobile:111, Original_price:111, Deal_price:111,Discount:111,Rating:111,Features:111\n",
      "\n",
      "111 : https://www.flipkart.com/motorola-g85-5g-olive-green-128-gb/p/itm897540eb01ff1?pid=MOBHY9PQMNCMDVCD&lid=LSTMOBHY9PQMNCMDVCDE7RNMM&marketplace=FLIPKART&store=tyy%2F4io&srno=b_1_16&otracker=browse&fm=organic&iid=c7bc0595-969e-490f-a369-15f39ea7f836.MOBHY9PQMNCMDVCD.SEARCH&ppt=browse&ppn=browse&ssid=vd2xejctds0000001746095864554 Url Success....\n",
      "Checking Lengths of Each List for Data Frame Conversion...\n",
      "Mobile:112, Original_price:112, Deal_price:112,Discount:112,Rating:112,Features:112\n",
      "\n",
      "112 : https://www.flipkart.com/tecno-spark-go-1-startrail-black-64-gb/p/itma978101d8bf15?pid=MOBH9HYGHKVFVGWS&lid=LSTMOBH9HYGHKVFVGWSLIYFBI&marketplace=FLIPKART&store=tyy%2F4io&srno=b_1_17&otracker=browse&fm=organic&iid=en_8Itob-5fpJmhT2m3U-lK5b0u-9aJ2yNSylxvPME4KvBJQmXIwuzPNEBLBeT2f84UHegd1yGD1jSHdpq_O4lS_K8iqbiwhGf4dwbXVx7ZSks%3D&ppt=browse&ppn=browse&ssid=vd2xejctds0000001746095864554 Url Success....\n",
      "Checking Lengths of Each List for Data Frame Conversion...\n",
      "Mobile:113, Original_price:113, Deal_price:113,Discount:113,Rating:113,Features:113\n",
      "\n"
     ]
    },
    {
     "name": "stdout",
     "output_type": "stream",
     "text": [
      "113 : https://www.flipkart.com/samsung-galaxy-f06-5g-lit-violet-128-gb/p/itm140da3412b73b?pid=MOBH9AS4FA5RUHSY&lid=LSTMOBH9AS4FA5RUHSYIYVIFO&marketplace=FLIPKART&store=tyy%2F4io&srno=b_1_18&otracker=browse&fm=organic&iid=en_8Itob-5fpJmhT2m3U-lK5b0u-9aJ2yNSylxvPME4KvAOxjtf8ukkqIwtfe-gsEhM3un_2xlOWMi5CFCU14jiyvKSJvID5C-RdFfAlzwDiqI%3D&ppt=browse&ppn=browse&ssid=vd2xejctds0000001746095864554 Url Success....\n",
      "Checking Lengths of Each List for Data Frame Conversion...\n",
      "Mobile:114, Original_price:114, Deal_price:114,Discount:114,Rating:114,Features:114\n",
      "\n",
      "114 : https://www.flipkart.com/vivo-t4x-5g-pronto-purple-128-gb/p/itm017656bdd097b?pid=MOBH9JUSZFBNVDXM&lid=LSTMOBH9JUSZFBNVDXMINCOPW&marketplace=FLIPKART&store=tyy%2F4io&spotlightTagId=default_BestsellerId_tyy%2F4io&srno=b_1_19&otracker=browse&fm=organic&iid=c7bc0595-969e-490f-a369-15f39ea7f836.MOBH9JUSZFBNVDXM.SEARCH&ppt=browse&ppn=browse&ssid=vd2xejctds0000001746095864554 Url Success....\n",
      "Checking Lengths of Each List for Data Frame Conversion...\n",
      "Mobile:115, Original_price:115, Deal_price:115,Discount:115,Rating:115,Features:115\n",
      "\n",
      "115 : https://www.flipkart.com/infinix-note-50s-5g-titanium-grey-256-gb/p/itmfbc62747a37e7?pid=MOBHBYYEJKP3FZ4Y&lid=LSTMOBHBYYEJKP3FZ4YXLANKV&marketplace=FLIPKART&store=tyy%2F4io&srno=b_1_20&otracker=browse&fm=organic&iid=c7bc0595-969e-490f-a369-15f39ea7f836.MOBHBYYEJKP3FZ4Y.SEARCH&ppt=browse&ppn=browse&ssid=vd2xejctds0000001746095864554 Url Success....\n",
      "Checking Lengths of Each List for Data Frame Conversion...\n",
      "Mobile:116, Original_price:116, Deal_price:116,Discount:116,Rating:116,Features:116\n",
      "\n",
      "116 : https://www.flipkart.com/realme-p3-5g-comet-grey-128-gb/p/itm69060f73d27e8?pid=MOBHAYN5TKGSTKJD&lid=LSTMOBHAYN5TKGSTKJD1JQKAL&marketplace=FLIPKART&store=tyy%2F4io&srno=b_1_21&otracker=browse&fm=organic&iid=en_8Itob-5fpJmhT2m3U-lK5b0u-9aJ2yNSylxvPME4KvB6p5R1pSsWAkCmeBjDs64t5UCw5xyx9zTCFmgG1NAntPcUmN_6PwCReg_VTM4VLxo%3D&ppt=browse&ppn=browse&ssid=vd2xejctds0000001746095864554 Url Success....\n",
      "Checking Lengths of Each List for Data Frame Conversion...\n",
      "Mobile:117, Original_price:117, Deal_price:117,Discount:117,Rating:117,Features:117\n",
      "\n",
      "117 : https://www.flipkart.com/nothing-phone-3a-black-128-gb/p/itm49557c5a65f9c?pid=MOBH8G3P6UXPEFSZ&lid=LSTMOBH8G3P6UXPEFSZTYXBHZ&marketplace=FLIPKART&store=tyy%2F4io&srno=b_1_22&otracker=browse&fm=organic&iid=en_8Itob-5fpJmhT2m3U-lK5b0u-9aJ2yNSylxvPME4KvBoc22I8QonMZInKlUZZbK6QuNepZInFSHDicJJ_85iisDbPjpExlWhmpgUQnOg2ao%3D&ppt=browse&ppn=browse&ssid=vd2xejctds0000001746095864554 Url Success....\n",
      "Checking Lengths of Each List for Data Frame Conversion...\n",
      "Mobile:118, Original_price:118, Deal_price:118,Discount:118,Rating:118,Features:118\n",
      "\n",
      "118 : https://www.flipkart.com/oneplus-nord-ce4-lite-5g-super-silver-128-gb/p/itm8fd5fdf300955?pid=MOBH25ZDPHNF38XJ&lid=LSTMOBH25ZDPHNF38XJVHNZIX&marketplace=FLIPKART&store=tyy%2F4io&srno=b_1_23&otracker=browse&fm=organic&iid=c7bc0595-969e-490f-a369-15f39ea7f836.MOBH25ZDPHNF38XJ.SEARCH&ppt=browse&ppn=browse&ssid=vd2xejctds0000001746095864554 Url Success....\n",
      "Checking Lengths of Each List for Data Frame Conversion...\n",
      "Mobile:119, Original_price:119, Deal_price:119,Discount:119,Rating:119,Features:119\n",
      "\n",
      "119 : https://www.flipkart.com/poco-c75-5g-aqua-bliss-64-gb/p/itm10b3f6f1bc616?pid=MOBH7443MMBCWPPG&lid=LSTMOBH7443MMBCWPPGVOR2LC&marketplace=FLIPKART&store=tyy%2F4io&srno=b_1_24&otracker=browse&fm=organic&iid=c7bc0595-969e-490f-a369-15f39ea7f836.MOBH7443MMBCWPPG.SEARCH&ppt=browse&ppn=browse&ssid=vd2xejctds0000001746095864554 Url Success....\n",
      "Checking Lengths of Each List for Data Frame Conversion...\n",
      "Mobile:120, Original_price:120, Deal_price:120,Discount:120,Rating:120,Features:120\n",
      "\n"
     ]
    }
   ],
   "source": [
    "Mobile = []\n",
    "Original_price = []\n",
    "Deal_price = []\n",
    "Discount= []\n",
    "Rating= []\n",
    "features=[]\n",
    "\n",
    "for indx in range(len(urls)):\n",
    "    # Loading url\n",
    "    try:\n",
    "        driver.get(urls[indx]) # Loading Mobiles page\n",
    "        time.sleep(5) # Giving wait time to load page completely\n",
    "        print(indx, \":\", urls[indx], \"Url Success....\")\n",
    "        \n",
    "        ################ Extracting Features Data ###########\n",
    "        \n",
    "        # Mobile\n",
    "        try:\n",
    "            Mobile.append(driver.find_element(By.CLASS_NAME,'_6EBuvT').find_element(By.CLASS_NAME,'VU-ZEz').text)\n",
    "        except:\n",
    "            Mobile.append(np.nan)\n",
    "            \n",
    "        # Original_price\n",
    "        try:\n",
    "            Original_price.append(driver.find_element(By.CLASS_NAME,'hl05eU').find_element(By.CLASS_NAME,'yRaY8j').text)\n",
    "        except:\n",
    "            Original_price.append(np.nan)\n",
    "        \n",
    "        # Deal_price\n",
    "        try:\n",
    "            Deal_price.append(driver.find_element(By.CLASS_NAME,'hl05eU').find_element(By.CLASS_NAME,'Nx9bqj').text)\n",
    "        except:\n",
    "            Deal_price.append(np.nan)\n",
    "            \n",
    "        #Discount\n",
    "        try:\n",
    "            Discount.append(driver.find_element(By.CLASS_NAME,'hl05eU').find_element(By.CLASS_NAME,'UkUFwK').text)\n",
    "        except:\n",
    "            Discount.append(np.nan)\n",
    "            \n",
    "        #Rating\n",
    "        try:\n",
    "            Rating.append(driver.find_element(By.CLASS_NAME,'XQDdHH').text)\n",
    "        except:\n",
    "            Rating.append(np.nan)\n",
    "                          \n",
    "        #Featurs\n",
    "        try:\n",
    "            data = {}\n",
    "            ul_element = WebDriverWait(driver, 10).until(EC.presence_of_element_located((By.CLASS_NAME, 'xFVion')))\n",
    "            my_data = ul_element.find_elements(By.TAG_NAME, 'li')\n",
    "            specs = [li.text for li in my_data if li.text.strip() != \"\"]\n",
    "            \n",
    "            for i, label in enumerate([\"Storage\", \"Display\", \"Camera\", \"Battery\", \"Processor\", \"Warranty\"]):\n",
    "                if i < len(specs):\n",
    "                    data[label] = specs[i] \n",
    "            \n",
    "            features.append(data)  # success, append dictionary\n",
    "            \n",
    "        except Exception as e:\n",
    "            print(f\"Failed extracting features for {url}: {e}\")\n",
    "            features.append(np.nan)\n",
    "        \n",
    "    except:\n",
    "        print(indx, \":\", urls[indx], \"Url Not Loaded....\")\n",
    "        Mobile.append(np.nan)\n",
    "        Original_price.append(np.nan)\n",
    "        Deal_price.append(np.nan)\n",
    "        Rating.append(np.nan)\n",
    "        Discount.append(np.nan)\n",
    "        features.append(np.nan)\n",
    "    \n",
    "    # Checking each lists lengths\n",
    "    print(\"Checking Lengths of Each List for Data Frame Conversion...\")\n",
    "    print(f\"Mobile:{len(Mobile)}, Original_price:{len(Original_price)}, Deal_price:{len(Deal_price)},Discount:{len(Discount)},Rating:{len(Rating)},Features:{len(features)}\")\n",
    "    print()"
   ]
  },
  {
   "cell_type": "markdown",
   "id": "4e2349b8",
   "metadata": {},
   "source": [
    "## Creating a DataFrame from Collected Data"
   ]
  },
  {
   "cell_type": "code",
   "execution_count": 36,
   "id": "55aa5554",
   "metadata": {},
   "outputs": [
    {
     "data": {
      "text/html": [
       "<div>\n",
       "<style scoped>\n",
       "    .dataframe tbody tr th:only-of-type {\n",
       "        vertical-align: middle;\n",
       "    }\n",
       "\n",
       "    .dataframe tbody tr th {\n",
       "        vertical-align: top;\n",
       "    }\n",
       "\n",
       "    .dataframe thead th {\n",
       "        text-align: right;\n",
       "    }\n",
       "</style>\n",
       "<table border=\"1\" class=\"dataframe\">\n",
       "  <thead>\n",
       "    <tr style=\"text-align: right;\">\n",
       "      <th></th>\n",
       "      <th>Mobiles</th>\n",
       "      <th>Oiginal_price</th>\n",
       "      <th>Deal_price</th>\n",
       "      <th>Discount</th>\n",
       "      <th>Rating</th>\n",
       "    </tr>\n",
       "  </thead>\n",
       "  <tbody>\n",
       "    <tr>\n",
       "      <th>0</th>\n",
       "      <td>realme P3x 5G (Lunar Silver, 128 GB)  (6 GB RAM)</td>\n",
       "      <td>₹16,999</td>\n",
       "      <td>₹12,999</td>\n",
       "      <td>23% off</td>\n",
       "      <td>4.5</td>\n",
       "    </tr>\n",
       "    <tr>\n",
       "      <th>1</th>\n",
       "      <td>CMF by Nothing Phone 2 Pro (Light Green, 128 G...</td>\n",
       "      <td>₹22,999</td>\n",
       "      <td>₹18,999</td>\n",
       "      <td>17% off</td>\n",
       "      <td>3.7</td>\n",
       "    </tr>\n",
       "    <tr>\n",
       "      <th>2</th>\n",
       "      <td>Infinix Note 50s 5G+ (Burgundy Red, 128 GB)  (...</td>\n",
       "      <td>₹21,999</td>\n",
       "      <td>₹15,999</td>\n",
       "      <td>27% off</td>\n",
       "      <td>4.6</td>\n",
       "    </tr>\n",
       "    <tr>\n",
       "      <th>3</th>\n",
       "      <td>realme C63 5G Charger in the Box (Starry Gold,...</td>\n",
       "      <td>₹13,999</td>\n",
       "      <td>₹10,999</td>\n",
       "      <td>21% off</td>\n",
       "      <td>4.5</td>\n",
       "    </tr>\n",
       "    <tr>\n",
       "      <th>4</th>\n",
       "      <td>realme C63 5G Charger in the Box (Forest Green...</td>\n",
       "      <td>₹13,999</td>\n",
       "      <td>₹10,999</td>\n",
       "      <td>21% off</td>\n",
       "      <td>4.5</td>\n",
       "    </tr>\n",
       "    <tr>\n",
       "      <th>...</th>\n",
       "      <td>...</td>\n",
       "      <td>...</td>\n",
       "      <td>...</td>\n",
       "      <td>...</td>\n",
       "      <td>...</td>\n",
       "    </tr>\n",
       "    <tr>\n",
       "      <th>115</th>\n",
       "      <td>Infinix Note 50s 5G+ (Titanium Grey, 256 GB)  ...</td>\n",
       "      <td>₹24,999</td>\n",
       "      <td>₹17,999</td>\n",
       "      <td>28% off</td>\n",
       "      <td>4.6</td>\n",
       "    </tr>\n",
       "    <tr>\n",
       "      <th>116</th>\n",
       "      <td>realme P3 5G (Comet Grey, 128 GB)  (6 GB RAM)</td>\n",
       "      <td>₹19,999</td>\n",
       "      <td>₹15,999</td>\n",
       "      <td>20% off</td>\n",
       "      <td>4.4</td>\n",
       "    </tr>\n",
       "    <tr>\n",
       "      <th>117</th>\n",
       "      <td>Nothing Phone (3a) (Black, 128 GB)  (8 GB RAM)</td>\n",
       "      <td>₹27,999</td>\n",
       "      <td>₹24,999</td>\n",
       "      <td>10% off</td>\n",
       "      <td>4.5</td>\n",
       "    </tr>\n",
       "    <tr>\n",
       "      <th>118</th>\n",
       "      <td>OnePlus Nord CE4 lite 5G (SUPER SILVER, 128 GB...</td>\n",
       "      <td>₹20,999</td>\n",
       "      <td>₹16,580</td>\n",
       "      <td>21% off</td>\n",
       "      <td>4.4</td>\n",
       "    </tr>\n",
       "    <tr>\n",
       "      <th>119</th>\n",
       "      <td>POCO C75 5G (Aqua Bliss, 64 GB)  (4 GB RAM)</td>\n",
       "      <td>₹10,999</td>\n",
       "      <td>₹7,699</td>\n",
       "      <td>30% off</td>\n",
       "      <td>4.3</td>\n",
       "    </tr>\n",
       "  </tbody>\n",
       "</table>\n",
       "<p>120 rows × 5 columns</p>\n",
       "</div>"
      ],
      "text/plain": [
       "                                               Mobiles Oiginal_price  \\\n",
       "0     realme P3x 5G (Lunar Silver, 128 GB)  (6 GB RAM)       ₹16,999   \n",
       "1    CMF by Nothing Phone 2 Pro (Light Green, 128 G...       ₹22,999   \n",
       "2    Infinix Note 50s 5G+ (Burgundy Red, 128 GB)  (...       ₹21,999   \n",
       "3    realme C63 5G Charger in the Box (Starry Gold,...       ₹13,999   \n",
       "4    realme C63 5G Charger in the Box (Forest Green...       ₹13,999   \n",
       "..                                                 ...           ...   \n",
       "115  Infinix Note 50s 5G+ (Titanium Grey, 256 GB)  ...       ₹24,999   \n",
       "116      realme P3 5G (Comet Grey, 128 GB)  (6 GB RAM)       ₹19,999   \n",
       "117     Nothing Phone (3a) (Black, 128 GB)  (8 GB RAM)       ₹27,999   \n",
       "118  OnePlus Nord CE4 lite 5G (SUPER SILVER, 128 GB...       ₹20,999   \n",
       "119        POCO C75 5G (Aqua Bliss, 64 GB)  (4 GB RAM)       ₹10,999   \n",
       "\n",
       "    Deal_price Discount Rating  \n",
       "0      ₹12,999  23% off    4.5  \n",
       "1      ₹18,999  17% off    3.7  \n",
       "2      ₹15,999  27% off    4.6  \n",
       "3      ₹10,999  21% off    4.5  \n",
       "4      ₹10,999  21% off    4.5  \n",
       "..         ...      ...    ...  \n",
       "115    ₹17,999  28% off    4.6  \n",
       "116    ₹15,999  20% off    4.4  \n",
       "117    ₹24,999  10% off    4.5  \n",
       "118    ₹16,580  21% off    4.4  \n",
       "119     ₹7,699  30% off    4.3  \n",
       "\n",
       "[120 rows x 5 columns]"
      ]
     },
     "execution_count": 36,
     "metadata": {},
     "output_type": "execute_result"
    }
   ],
   "source": [
    "df=pd.DataFrame({\"Mobiles\":Mobile,\n",
    "                 \"Oiginal_price\":Original_price,\n",
    "                 \"Deal_price\":Deal_price,\n",
    "                 \"Discount\":Discount,\n",
    "                 \"Rating\":Rating})\n",
    "df"
   ]
  },
  {
   "cell_type": "code",
   "execution_count": 37,
   "id": "2df986f4",
   "metadata": {},
   "outputs": [
    {
     "data": {
      "text/html": [
       "<div>\n",
       "<style scoped>\n",
       "    .dataframe tbody tr th:only-of-type {\n",
       "        vertical-align: middle;\n",
       "    }\n",
       "\n",
       "    .dataframe tbody tr th {\n",
       "        vertical-align: top;\n",
       "    }\n",
       "\n",
       "    .dataframe thead th {\n",
       "        text-align: right;\n",
       "    }\n",
       "</style>\n",
       "<table border=\"1\" class=\"dataframe\">\n",
       "  <thead>\n",
       "    <tr style=\"text-align: right;\">\n",
       "      <th></th>\n",
       "      <th>Storage</th>\n",
       "      <th>Display</th>\n",
       "      <th>Camera</th>\n",
       "      <th>Battery</th>\n",
       "      <th>Processor</th>\n",
       "    </tr>\n",
       "  </thead>\n",
       "  <tbody>\n",
       "    <tr>\n",
       "      <th>0</th>\n",
       "      <td>6 GB RAM | 128 GB ROM</td>\n",
       "      <td>17.07 cm (6.72 inch) Full HD Display</td>\n",
       "      <td>50MP Rear Camera | 8MP Front Camera</td>\n",
       "      <td>6000 mAh Battery</td>\n",
       "      <td>Dimensity 6400 Processor</td>\n",
       "    </tr>\n",
       "    <tr>\n",
       "      <th>1</th>\n",
       "      <td>8 GB RAM | 128 GB ROM | Expandable Upto 2 TB</td>\n",
       "      <td>17.2 cm (6.77 inch) Display</td>\n",
       "      <td>50MP + 50MP + 8MP | 16MP Front Camera</td>\n",
       "      <td>5000 mAh Battery</td>\n",
       "      <td>Dimensity 7300 Pro 5G Processor</td>\n",
       "    </tr>\n",
       "    <tr>\n",
       "      <th>2</th>\n",
       "      <td>8 GB RAM | 128 GB ROM</td>\n",
       "      <td>17.22 cm (6.78 inch) Full HD+ Display</td>\n",
       "      <td>64MP + 2MP | 13MP Front Camera</td>\n",
       "      <td>5500 mAh Battery</td>\n",
       "      <td>Dimensity 7300 Ultimate Processor</td>\n",
       "    </tr>\n",
       "    <tr>\n",
       "      <th>3</th>\n",
       "      <td>6 GB RAM | 128 GB ROM | Expandable Upto 2 TB</td>\n",
       "      <td>16.94 cm (6.67 inch) HD+ Display</td>\n",
       "      <td>32MP Rear Camera | 8MP Front Camera</td>\n",
       "      <td>5000 mAh Battery</td>\n",
       "      <td>Dimensity 6300 Processor</td>\n",
       "    </tr>\n",
       "    <tr>\n",
       "      <th>4</th>\n",
       "      <td>6 GB RAM | 128 GB ROM | Expandable Upto 2 TB</td>\n",
       "      <td>16.94 cm (6.67 inch) HD+ Display</td>\n",
       "      <td>32MP Rear Camera | 8MP Front Camera</td>\n",
       "      <td>5000 mAh Battery</td>\n",
       "      <td>Dimensity 6300 Processor</td>\n",
       "    </tr>\n",
       "    <tr>\n",
       "      <th>...</th>\n",
       "      <td>...</td>\n",
       "      <td>...</td>\n",
       "      <td>...</td>\n",
       "      <td>...</td>\n",
       "      <td>...</td>\n",
       "    </tr>\n",
       "    <tr>\n",
       "      <th>115</th>\n",
       "      <td>8 GB RAM | 256 GB ROM</td>\n",
       "      <td>17.22 cm (6.78 inch) Full HD+ Display</td>\n",
       "      <td>64MP + 2MP | 13MP Front Camera</td>\n",
       "      <td>5500 mAh Battery</td>\n",
       "      <td>Dimensity 7300 Ultimate Processor</td>\n",
       "    </tr>\n",
       "    <tr>\n",
       "      <th>116</th>\n",
       "      <td>6 GB RAM | 128 GB ROM | Expandable Upto 2 TB</td>\n",
       "      <td>16.94 cm (6.67 inch) Full HD+ Display</td>\n",
       "      <td>50MP + 2MP | 16MP Front Camera</td>\n",
       "      <td>6000 mAh Battery</td>\n",
       "      <td>6 Gen 4 Processor</td>\n",
       "    </tr>\n",
       "    <tr>\n",
       "      <th>117</th>\n",
       "      <td>8 GB RAM | 128 GB ROM</td>\n",
       "      <td>17.2 cm (6.77 inch) Full HD+ Display</td>\n",
       "      <td>50MP (Main) + 50MP (2X Tele Photo) + 8MP (Ultr...</td>\n",
       "      <td>5000 mAh Battery</td>\n",
       "      <td>7s Gen3 Processor</td>\n",
       "    </tr>\n",
       "    <tr>\n",
       "      <th>118</th>\n",
       "      <td>8 GB RAM | 128 GB ROM</td>\n",
       "      <td>16.94 cm (6.67 inch) Display</td>\n",
       "      <td>50MP Rear Camera</td>\n",
       "      <td>5500 mAh Battery</td>\n",
       "      <td>NaN</td>\n",
       "    </tr>\n",
       "    <tr>\n",
       "      <th>119</th>\n",
       "      <td>4 GB RAM | 64 GB ROM | Expandable Upto 1 TB</td>\n",
       "      <td>17.48 cm (6.88 inch) HD+ Display</td>\n",
       "      <td>50MP Rear Camera | 5MP Front Camera</td>\n",
       "      <td>5160 mAh Battery</td>\n",
       "      <td>4s Gen 2 5G Processor</td>\n",
       "    </tr>\n",
       "  </tbody>\n",
       "</table>\n",
       "<p>120 rows × 5 columns</p>\n",
       "</div>"
      ],
      "text/plain": [
       "                                          Storage  \\\n",
       "0                           6 GB RAM | 128 GB ROM   \n",
       "1    8 GB RAM | 128 GB ROM | Expandable Upto 2 TB   \n",
       "2                           8 GB RAM | 128 GB ROM   \n",
       "3    6 GB RAM | 128 GB ROM | Expandable Upto 2 TB   \n",
       "4    6 GB RAM | 128 GB ROM | Expandable Upto 2 TB   \n",
       "..                                            ...   \n",
       "115                         8 GB RAM | 256 GB ROM   \n",
       "116  6 GB RAM | 128 GB ROM | Expandable Upto 2 TB   \n",
       "117                         8 GB RAM | 128 GB ROM   \n",
       "118                         8 GB RAM | 128 GB ROM   \n",
       "119   4 GB RAM | 64 GB ROM | Expandable Upto 1 TB   \n",
       "\n",
       "                                   Display  \\\n",
       "0     17.07 cm (6.72 inch) Full HD Display   \n",
       "1              17.2 cm (6.77 inch) Display   \n",
       "2    17.22 cm (6.78 inch) Full HD+ Display   \n",
       "3         16.94 cm (6.67 inch) HD+ Display   \n",
       "4         16.94 cm (6.67 inch) HD+ Display   \n",
       "..                                     ...   \n",
       "115  17.22 cm (6.78 inch) Full HD+ Display   \n",
       "116  16.94 cm (6.67 inch) Full HD+ Display   \n",
       "117   17.2 cm (6.77 inch) Full HD+ Display   \n",
       "118           16.94 cm (6.67 inch) Display   \n",
       "119       17.48 cm (6.88 inch) HD+ Display   \n",
       "\n",
       "                                                Camera           Battery  \\\n",
       "0                  50MP Rear Camera | 8MP Front Camera  6000 mAh Battery   \n",
       "1                50MP + 50MP + 8MP | 16MP Front Camera  5000 mAh Battery   \n",
       "2                       64MP + 2MP | 13MP Front Camera  5500 mAh Battery   \n",
       "3                  32MP Rear Camera | 8MP Front Camera  5000 mAh Battery   \n",
       "4                  32MP Rear Camera | 8MP Front Camera  5000 mAh Battery   \n",
       "..                                                 ...               ...   \n",
       "115                     64MP + 2MP | 13MP Front Camera  5500 mAh Battery   \n",
       "116                     50MP + 2MP | 16MP Front Camera  6000 mAh Battery   \n",
       "117  50MP (Main) + 50MP (2X Tele Photo) + 8MP (Ultr...  5000 mAh Battery   \n",
       "118                                   50MP Rear Camera  5500 mAh Battery   \n",
       "119                50MP Rear Camera | 5MP Front Camera  5160 mAh Battery   \n",
       "\n",
       "                             Processor  \n",
       "0             Dimensity 6400 Processor  \n",
       "1      Dimensity 7300 Pro 5G Processor  \n",
       "2    Dimensity 7300 Ultimate Processor  \n",
       "3             Dimensity 6300 Processor  \n",
       "4             Dimensity 6300 Processor  \n",
       "..                                 ...  \n",
       "115  Dimensity 7300 Ultimate Processor  \n",
       "116                  6 Gen 4 Processor  \n",
       "117                  7s Gen3 Processor  \n",
       "118                                NaN  \n",
       "119              4s Gen 2 5G Processor  \n",
       "\n",
       "[120 rows x 5 columns]"
      ]
     },
     "execution_count": 37,
     "metadata": {},
     "output_type": "execute_result"
    }
   ],
   "source": [
    "# Keep only dictionaries\n",
    "cleaned_features = [f for f in features if isinstance(f, dict)]\n",
    "\n",
    "# Now create DataFrame\n",
    "df1 = pd.DataFrame(cleaned_features)\n",
    "df1"
   ]
  },
  {
   "cell_type": "markdown",
   "id": "76dd30f8",
   "metadata": {},
   "source": [
    "## Data Cleaning and Preprocessing"
   ]
  },
  {
   "cell_type": "code",
   "execution_count": 38,
   "id": "8dd48da1",
   "metadata": {
    "scrolled": true
   },
   "outputs": [
    {
     "data": {
      "text/plain": [
       "Storage      0\n",
       "Display      0\n",
       "Camera       0\n",
       "Battery      0\n",
       "Processor    6\n",
       "dtype: int64"
      ]
     },
     "execution_count": 38,
     "metadata": {},
     "output_type": "execute_result"
    }
   ],
   "source": [
    "df1.isnull().sum()"
   ]
  },
  {
   "cell_type": "code",
   "execution_count": 39,
   "id": "c9bf5914",
   "metadata": {},
   "outputs": [],
   "source": [
    "df2=pd.concat([df,df1],axis=1)"
   ]
  },
  {
   "cell_type": "code",
   "execution_count": 40,
   "id": "d563b2cc",
   "metadata": {},
   "outputs": [
    {
     "data": {
      "text/html": [
       "<div>\n",
       "<style scoped>\n",
       "    .dataframe tbody tr th:only-of-type {\n",
       "        vertical-align: middle;\n",
       "    }\n",
       "\n",
       "    .dataframe tbody tr th {\n",
       "        vertical-align: top;\n",
       "    }\n",
       "\n",
       "    .dataframe thead th {\n",
       "        text-align: right;\n",
       "    }\n",
       "</style>\n",
       "<table border=\"1\" class=\"dataframe\">\n",
       "  <thead>\n",
       "    <tr style=\"text-align: right;\">\n",
       "      <th></th>\n",
       "      <th>Mobiles</th>\n",
       "      <th>Oiginal_price</th>\n",
       "      <th>Deal_price</th>\n",
       "      <th>Discount</th>\n",
       "      <th>Rating</th>\n",
       "      <th>Storage</th>\n",
       "      <th>Display</th>\n",
       "      <th>Camera</th>\n",
       "      <th>Battery</th>\n",
       "      <th>Processor</th>\n",
       "    </tr>\n",
       "  </thead>\n",
       "  <tbody>\n",
       "    <tr>\n",
       "      <th>0</th>\n",
       "      <td>realme P3x 5G (Lunar Silver, 128 GB)  (6 GB RAM)</td>\n",
       "      <td>₹16,999</td>\n",
       "      <td>₹12,999</td>\n",
       "      <td>23% off</td>\n",
       "      <td>4.5</td>\n",
       "      <td>6 GB RAM | 128 GB ROM</td>\n",
       "      <td>17.07 cm (6.72 inch) Full HD Display</td>\n",
       "      <td>50MP Rear Camera | 8MP Front Camera</td>\n",
       "      <td>6000 mAh Battery</td>\n",
       "      <td>Dimensity 6400 Processor</td>\n",
       "    </tr>\n",
       "    <tr>\n",
       "      <th>1</th>\n",
       "      <td>CMF by Nothing Phone 2 Pro (Light Green, 128 G...</td>\n",
       "      <td>₹22,999</td>\n",
       "      <td>₹18,999</td>\n",
       "      <td>17% off</td>\n",
       "      <td>3.7</td>\n",
       "      <td>8 GB RAM | 128 GB ROM | Expandable Upto 2 TB</td>\n",
       "      <td>17.2 cm (6.77 inch) Display</td>\n",
       "      <td>50MP + 50MP + 8MP | 16MP Front Camera</td>\n",
       "      <td>5000 mAh Battery</td>\n",
       "      <td>Dimensity 7300 Pro 5G Processor</td>\n",
       "    </tr>\n",
       "    <tr>\n",
       "      <th>2</th>\n",
       "      <td>Infinix Note 50s 5G+ (Burgundy Red, 128 GB)  (...</td>\n",
       "      <td>₹21,999</td>\n",
       "      <td>₹15,999</td>\n",
       "      <td>27% off</td>\n",
       "      <td>4.6</td>\n",
       "      <td>8 GB RAM | 128 GB ROM</td>\n",
       "      <td>17.22 cm (6.78 inch) Full HD+ Display</td>\n",
       "      <td>64MP + 2MP | 13MP Front Camera</td>\n",
       "      <td>5500 mAh Battery</td>\n",
       "      <td>Dimensity 7300 Ultimate Processor</td>\n",
       "    </tr>\n",
       "    <tr>\n",
       "      <th>3</th>\n",
       "      <td>realme C63 5G Charger in the Box (Starry Gold,...</td>\n",
       "      <td>₹13,999</td>\n",
       "      <td>₹10,999</td>\n",
       "      <td>21% off</td>\n",
       "      <td>4.5</td>\n",
       "      <td>6 GB RAM | 128 GB ROM | Expandable Upto 2 TB</td>\n",
       "      <td>16.94 cm (6.67 inch) HD+ Display</td>\n",
       "      <td>32MP Rear Camera | 8MP Front Camera</td>\n",
       "      <td>5000 mAh Battery</td>\n",
       "      <td>Dimensity 6300 Processor</td>\n",
       "    </tr>\n",
       "    <tr>\n",
       "      <th>4</th>\n",
       "      <td>realme C63 5G Charger in the Box (Forest Green...</td>\n",
       "      <td>₹13,999</td>\n",
       "      <td>₹10,999</td>\n",
       "      <td>21% off</td>\n",
       "      <td>4.5</td>\n",
       "      <td>6 GB RAM | 128 GB ROM | Expandable Upto 2 TB</td>\n",
       "      <td>16.94 cm (6.67 inch) HD+ Display</td>\n",
       "      <td>32MP Rear Camera | 8MP Front Camera</td>\n",
       "      <td>5000 mAh Battery</td>\n",
       "      <td>Dimensity 6300 Processor</td>\n",
       "    </tr>\n",
       "    <tr>\n",
       "      <th>...</th>\n",
       "      <td>...</td>\n",
       "      <td>...</td>\n",
       "      <td>...</td>\n",
       "      <td>...</td>\n",
       "      <td>...</td>\n",
       "      <td>...</td>\n",
       "      <td>...</td>\n",
       "      <td>...</td>\n",
       "      <td>...</td>\n",
       "      <td>...</td>\n",
       "    </tr>\n",
       "    <tr>\n",
       "      <th>115</th>\n",
       "      <td>Infinix Note 50s 5G+ (Titanium Grey, 256 GB)  ...</td>\n",
       "      <td>₹24,999</td>\n",
       "      <td>₹17,999</td>\n",
       "      <td>28% off</td>\n",
       "      <td>4.6</td>\n",
       "      <td>8 GB RAM | 256 GB ROM</td>\n",
       "      <td>17.22 cm (6.78 inch) Full HD+ Display</td>\n",
       "      <td>64MP + 2MP | 13MP Front Camera</td>\n",
       "      <td>5500 mAh Battery</td>\n",
       "      <td>Dimensity 7300 Ultimate Processor</td>\n",
       "    </tr>\n",
       "    <tr>\n",
       "      <th>116</th>\n",
       "      <td>realme P3 5G (Comet Grey, 128 GB)  (6 GB RAM)</td>\n",
       "      <td>₹19,999</td>\n",
       "      <td>₹15,999</td>\n",
       "      <td>20% off</td>\n",
       "      <td>4.4</td>\n",
       "      <td>6 GB RAM | 128 GB ROM | Expandable Upto 2 TB</td>\n",
       "      <td>16.94 cm (6.67 inch) Full HD+ Display</td>\n",
       "      <td>50MP + 2MP | 16MP Front Camera</td>\n",
       "      <td>6000 mAh Battery</td>\n",
       "      <td>6 Gen 4 Processor</td>\n",
       "    </tr>\n",
       "    <tr>\n",
       "      <th>117</th>\n",
       "      <td>Nothing Phone (3a) (Black, 128 GB)  (8 GB RAM)</td>\n",
       "      <td>₹27,999</td>\n",
       "      <td>₹24,999</td>\n",
       "      <td>10% off</td>\n",
       "      <td>4.5</td>\n",
       "      <td>8 GB RAM | 128 GB ROM</td>\n",
       "      <td>17.2 cm (6.77 inch) Full HD+ Display</td>\n",
       "      <td>50MP (Main) + 50MP (2X Tele Photo) + 8MP (Ultr...</td>\n",
       "      <td>5000 mAh Battery</td>\n",
       "      <td>7s Gen3 Processor</td>\n",
       "    </tr>\n",
       "    <tr>\n",
       "      <th>118</th>\n",
       "      <td>OnePlus Nord CE4 lite 5G (SUPER SILVER, 128 GB...</td>\n",
       "      <td>₹20,999</td>\n",
       "      <td>₹16,580</td>\n",
       "      <td>21% off</td>\n",
       "      <td>4.4</td>\n",
       "      <td>8 GB RAM | 128 GB ROM</td>\n",
       "      <td>16.94 cm (6.67 inch) Display</td>\n",
       "      <td>50MP Rear Camera</td>\n",
       "      <td>5500 mAh Battery</td>\n",
       "      <td>NaN</td>\n",
       "    </tr>\n",
       "    <tr>\n",
       "      <th>119</th>\n",
       "      <td>POCO C75 5G (Aqua Bliss, 64 GB)  (4 GB RAM)</td>\n",
       "      <td>₹10,999</td>\n",
       "      <td>₹7,699</td>\n",
       "      <td>30% off</td>\n",
       "      <td>4.3</td>\n",
       "      <td>4 GB RAM | 64 GB ROM | Expandable Upto 1 TB</td>\n",
       "      <td>17.48 cm (6.88 inch) HD+ Display</td>\n",
       "      <td>50MP Rear Camera | 5MP Front Camera</td>\n",
       "      <td>5160 mAh Battery</td>\n",
       "      <td>4s Gen 2 5G Processor</td>\n",
       "    </tr>\n",
       "  </tbody>\n",
       "</table>\n",
       "<p>120 rows × 10 columns</p>\n",
       "</div>"
      ],
      "text/plain": [
       "                                               Mobiles Oiginal_price  \\\n",
       "0     realme P3x 5G (Lunar Silver, 128 GB)  (6 GB RAM)       ₹16,999   \n",
       "1    CMF by Nothing Phone 2 Pro (Light Green, 128 G...       ₹22,999   \n",
       "2    Infinix Note 50s 5G+ (Burgundy Red, 128 GB)  (...       ₹21,999   \n",
       "3    realme C63 5G Charger in the Box (Starry Gold,...       ₹13,999   \n",
       "4    realme C63 5G Charger in the Box (Forest Green...       ₹13,999   \n",
       "..                                                 ...           ...   \n",
       "115  Infinix Note 50s 5G+ (Titanium Grey, 256 GB)  ...       ₹24,999   \n",
       "116      realme P3 5G (Comet Grey, 128 GB)  (6 GB RAM)       ₹19,999   \n",
       "117     Nothing Phone (3a) (Black, 128 GB)  (8 GB RAM)       ₹27,999   \n",
       "118  OnePlus Nord CE4 lite 5G (SUPER SILVER, 128 GB...       ₹20,999   \n",
       "119        POCO C75 5G (Aqua Bliss, 64 GB)  (4 GB RAM)       ₹10,999   \n",
       "\n",
       "    Deal_price Discount Rating                                       Storage  \\\n",
       "0      ₹12,999  23% off    4.5                         6 GB RAM | 128 GB ROM   \n",
       "1      ₹18,999  17% off    3.7  8 GB RAM | 128 GB ROM | Expandable Upto 2 TB   \n",
       "2      ₹15,999  27% off    4.6                         8 GB RAM | 128 GB ROM   \n",
       "3      ₹10,999  21% off    4.5  6 GB RAM | 128 GB ROM | Expandable Upto 2 TB   \n",
       "4      ₹10,999  21% off    4.5  6 GB RAM | 128 GB ROM | Expandable Upto 2 TB   \n",
       "..         ...      ...    ...                                           ...   \n",
       "115    ₹17,999  28% off    4.6                         8 GB RAM | 256 GB ROM   \n",
       "116    ₹15,999  20% off    4.4  6 GB RAM | 128 GB ROM | Expandable Upto 2 TB   \n",
       "117    ₹24,999  10% off    4.5                         8 GB RAM | 128 GB ROM   \n",
       "118    ₹16,580  21% off    4.4                         8 GB RAM | 128 GB ROM   \n",
       "119     ₹7,699  30% off    4.3   4 GB RAM | 64 GB ROM | Expandable Upto 1 TB   \n",
       "\n",
       "                                   Display  \\\n",
       "0     17.07 cm (6.72 inch) Full HD Display   \n",
       "1              17.2 cm (6.77 inch) Display   \n",
       "2    17.22 cm (6.78 inch) Full HD+ Display   \n",
       "3         16.94 cm (6.67 inch) HD+ Display   \n",
       "4         16.94 cm (6.67 inch) HD+ Display   \n",
       "..                                     ...   \n",
       "115  17.22 cm (6.78 inch) Full HD+ Display   \n",
       "116  16.94 cm (6.67 inch) Full HD+ Display   \n",
       "117   17.2 cm (6.77 inch) Full HD+ Display   \n",
       "118           16.94 cm (6.67 inch) Display   \n",
       "119       17.48 cm (6.88 inch) HD+ Display   \n",
       "\n",
       "                                                Camera           Battery  \\\n",
       "0                  50MP Rear Camera | 8MP Front Camera  6000 mAh Battery   \n",
       "1                50MP + 50MP + 8MP | 16MP Front Camera  5000 mAh Battery   \n",
       "2                       64MP + 2MP | 13MP Front Camera  5500 mAh Battery   \n",
       "3                  32MP Rear Camera | 8MP Front Camera  5000 mAh Battery   \n",
       "4                  32MP Rear Camera | 8MP Front Camera  5000 mAh Battery   \n",
       "..                                                 ...               ...   \n",
       "115                     64MP + 2MP | 13MP Front Camera  5500 mAh Battery   \n",
       "116                     50MP + 2MP | 16MP Front Camera  6000 mAh Battery   \n",
       "117  50MP (Main) + 50MP (2X Tele Photo) + 8MP (Ultr...  5000 mAh Battery   \n",
       "118                                   50MP Rear Camera  5500 mAh Battery   \n",
       "119                50MP Rear Camera | 5MP Front Camera  5160 mAh Battery   \n",
       "\n",
       "                             Processor  \n",
       "0             Dimensity 6400 Processor  \n",
       "1      Dimensity 7300 Pro 5G Processor  \n",
       "2    Dimensity 7300 Ultimate Processor  \n",
       "3             Dimensity 6300 Processor  \n",
       "4             Dimensity 6300 Processor  \n",
       "..                                 ...  \n",
       "115  Dimensity 7300 Ultimate Processor  \n",
       "116                  6 Gen 4 Processor  \n",
       "117                  7s Gen3 Processor  \n",
       "118                                NaN  \n",
       "119              4s Gen 2 5G Processor  \n",
       "\n",
       "[120 rows x 10 columns]"
      ]
     },
     "execution_count": 40,
     "metadata": {},
     "output_type": "execute_result"
    }
   ],
   "source": [
    "df2"
   ]
  },
  {
   "cell_type": "markdown",
   "id": "4a0acf39",
   "metadata": {},
   "source": [
    "### Converting Loaded Data to CSV (To Prevent Data Loss After Kernel Shutdown)"
   ]
  },
  {
   "cell_type": "code",
   "execution_count": 42,
   "id": "df3eb15a",
   "metadata": {},
   "outputs": [],
   "source": [
    "df2.to_csv('Flipcart_Mobils_data_May_2025.csv')"
   ]
  },
  {
   "cell_type": "markdown",
   "id": "b6bc5836",
   "metadata": {},
   "source": []
  },
  {
   "cell_type": "markdown",
   "id": "bac25674",
   "metadata": {},
   "source": [
    "## Reading exported file"
   ]
  },
  {
   "cell_type": "code",
   "execution_count": 196,
   "id": "323679da",
   "metadata": {},
   "outputs": [],
   "source": [
    "df=pd.read_csv('Flipcart_Mobils_data_May_2025.csv',index_col=0)"
   ]
  },
  {
   "cell_type": "code",
   "execution_count": 197,
   "id": "2b58d476",
   "metadata": {},
   "outputs": [
    {
     "data": {
      "text/html": [
       "<div>\n",
       "<style scoped>\n",
       "    .dataframe tbody tr th:only-of-type {\n",
       "        vertical-align: middle;\n",
       "    }\n",
       "\n",
       "    .dataframe tbody tr th {\n",
       "        vertical-align: top;\n",
       "    }\n",
       "\n",
       "    .dataframe thead th {\n",
       "        text-align: right;\n",
       "    }\n",
       "</style>\n",
       "<table border=\"1\" class=\"dataframe\">\n",
       "  <thead>\n",
       "    <tr style=\"text-align: right;\">\n",
       "      <th></th>\n",
       "      <th>Mobiles</th>\n",
       "      <th>Oiginal_price</th>\n",
       "      <th>Deal_price</th>\n",
       "      <th>Discount</th>\n",
       "      <th>Rating</th>\n",
       "      <th>Storage</th>\n",
       "      <th>Display</th>\n",
       "      <th>Camera</th>\n",
       "      <th>Battery</th>\n",
       "      <th>Processor</th>\n",
       "    </tr>\n",
       "  </thead>\n",
       "  <tbody>\n",
       "    <tr>\n",
       "      <th>0</th>\n",
       "      <td>realme P3x 5G (Lunar Silver, 128 GB)  (6 GB RAM)</td>\n",
       "      <td>₹16,999</td>\n",
       "      <td>₹12,999</td>\n",
       "      <td>23% off</td>\n",
       "      <td>4.5</td>\n",
       "      <td>6 GB RAM | 128 GB ROM</td>\n",
       "      <td>17.07 cm (6.72 inch) Full HD Display</td>\n",
       "      <td>50MP Rear Camera | 8MP Front Camera</td>\n",
       "      <td>6000 mAh Battery</td>\n",
       "      <td>Dimensity 6400 Processor</td>\n",
       "    </tr>\n",
       "    <tr>\n",
       "      <th>1</th>\n",
       "      <td>CMF by Nothing Phone 2 Pro (Light Green, 128 G...</td>\n",
       "      <td>₹22,999</td>\n",
       "      <td>₹18,999</td>\n",
       "      <td>17% off</td>\n",
       "      <td>3.7</td>\n",
       "      <td>8 GB RAM | 128 GB ROM | Expandable Upto 2 TB</td>\n",
       "      <td>17.2 cm (6.77 inch) Display</td>\n",
       "      <td>50MP + 50MP + 8MP | 16MP Front Camera</td>\n",
       "      <td>5000 mAh Battery</td>\n",
       "      <td>Dimensity 7300 Pro 5G Processor</td>\n",
       "    </tr>\n",
       "    <tr>\n",
       "      <th>2</th>\n",
       "      <td>Infinix Note 50s 5G+ (Burgundy Red, 128 GB)  (...</td>\n",
       "      <td>₹21,999</td>\n",
       "      <td>₹15,999</td>\n",
       "      <td>27% off</td>\n",
       "      <td>4.6</td>\n",
       "      <td>8 GB RAM | 128 GB ROM</td>\n",
       "      <td>17.22 cm (6.78 inch) Full HD+ Display</td>\n",
       "      <td>64MP + 2MP | 13MP Front Camera</td>\n",
       "      <td>5500 mAh Battery</td>\n",
       "      <td>Dimensity 7300 Ultimate Processor</td>\n",
       "    </tr>\n",
       "    <tr>\n",
       "      <th>3</th>\n",
       "      <td>realme C63 5G Charger in the Box (Starry Gold,...</td>\n",
       "      <td>₹13,999</td>\n",
       "      <td>₹10,999</td>\n",
       "      <td>21% off</td>\n",
       "      <td>4.5</td>\n",
       "      <td>6 GB RAM | 128 GB ROM | Expandable Upto 2 TB</td>\n",
       "      <td>16.94 cm (6.67 inch) HD+ Display</td>\n",
       "      <td>32MP Rear Camera | 8MP Front Camera</td>\n",
       "      <td>5000 mAh Battery</td>\n",
       "      <td>Dimensity 6300 Processor</td>\n",
       "    </tr>\n",
       "    <tr>\n",
       "      <th>4</th>\n",
       "      <td>realme C63 5G Charger in the Box (Forest Green...</td>\n",
       "      <td>₹13,999</td>\n",
       "      <td>₹10,999</td>\n",
       "      <td>21% off</td>\n",
       "      <td>4.5</td>\n",
       "      <td>6 GB RAM | 128 GB ROM | Expandable Upto 2 TB</td>\n",
       "      <td>16.94 cm (6.67 inch) HD+ Display</td>\n",
       "      <td>32MP Rear Camera | 8MP Front Camera</td>\n",
       "      <td>5000 mAh Battery</td>\n",
       "      <td>Dimensity 6300 Processor</td>\n",
       "    </tr>\n",
       "    <tr>\n",
       "      <th>...</th>\n",
       "      <td>...</td>\n",
       "      <td>...</td>\n",
       "      <td>...</td>\n",
       "      <td>...</td>\n",
       "      <td>...</td>\n",
       "      <td>...</td>\n",
       "      <td>...</td>\n",
       "      <td>...</td>\n",
       "      <td>...</td>\n",
       "      <td>...</td>\n",
       "    </tr>\n",
       "    <tr>\n",
       "      <th>115</th>\n",
       "      <td>Infinix Note 50s 5G+ (Titanium Grey, 256 GB)  ...</td>\n",
       "      <td>₹24,999</td>\n",
       "      <td>₹17,999</td>\n",
       "      <td>28% off</td>\n",
       "      <td>4.6</td>\n",
       "      <td>8 GB RAM | 256 GB ROM</td>\n",
       "      <td>17.22 cm (6.78 inch) Full HD+ Display</td>\n",
       "      <td>64MP + 2MP | 13MP Front Camera</td>\n",
       "      <td>5500 mAh Battery</td>\n",
       "      <td>Dimensity 7300 Ultimate Processor</td>\n",
       "    </tr>\n",
       "    <tr>\n",
       "      <th>116</th>\n",
       "      <td>realme P3 5G (Comet Grey, 128 GB)  (6 GB RAM)</td>\n",
       "      <td>₹19,999</td>\n",
       "      <td>₹15,999</td>\n",
       "      <td>20% off</td>\n",
       "      <td>4.4</td>\n",
       "      <td>6 GB RAM | 128 GB ROM | Expandable Upto 2 TB</td>\n",
       "      <td>16.94 cm (6.67 inch) Full HD+ Display</td>\n",
       "      <td>50MP + 2MP | 16MP Front Camera</td>\n",
       "      <td>6000 mAh Battery</td>\n",
       "      <td>6 Gen 4 Processor</td>\n",
       "    </tr>\n",
       "    <tr>\n",
       "      <th>117</th>\n",
       "      <td>Nothing Phone (3a) (Black, 128 GB)  (8 GB RAM)</td>\n",
       "      <td>₹27,999</td>\n",
       "      <td>₹24,999</td>\n",
       "      <td>10% off</td>\n",
       "      <td>4.5</td>\n",
       "      <td>8 GB RAM | 128 GB ROM</td>\n",
       "      <td>17.2 cm (6.77 inch) Full HD+ Display</td>\n",
       "      <td>50MP (Main) + 50MP (2X Tele Photo) + 8MP (Ultr...</td>\n",
       "      <td>5000 mAh Battery</td>\n",
       "      <td>7s Gen3 Processor</td>\n",
       "    </tr>\n",
       "    <tr>\n",
       "      <th>118</th>\n",
       "      <td>OnePlus Nord CE4 lite 5G (SUPER SILVER, 128 GB...</td>\n",
       "      <td>₹20,999</td>\n",
       "      <td>₹16,580</td>\n",
       "      <td>21% off</td>\n",
       "      <td>4.4</td>\n",
       "      <td>8 GB RAM | 128 GB ROM</td>\n",
       "      <td>16.94 cm (6.67 inch) Display</td>\n",
       "      <td>50MP Rear Camera</td>\n",
       "      <td>5500 mAh Battery</td>\n",
       "      <td>NaN</td>\n",
       "    </tr>\n",
       "    <tr>\n",
       "      <th>119</th>\n",
       "      <td>POCO C75 5G (Aqua Bliss, 64 GB)  (4 GB RAM)</td>\n",
       "      <td>₹10,999</td>\n",
       "      <td>₹7,699</td>\n",
       "      <td>30% off</td>\n",
       "      <td>4.3</td>\n",
       "      <td>4 GB RAM | 64 GB ROM | Expandable Upto 1 TB</td>\n",
       "      <td>17.48 cm (6.88 inch) HD+ Display</td>\n",
       "      <td>50MP Rear Camera | 5MP Front Camera</td>\n",
       "      <td>5160 mAh Battery</td>\n",
       "      <td>4s Gen 2 5G Processor</td>\n",
       "    </tr>\n",
       "  </tbody>\n",
       "</table>\n",
       "<p>120 rows × 10 columns</p>\n",
       "</div>"
      ],
      "text/plain": [
       "                                               Mobiles Oiginal_price  \\\n",
       "0     realme P3x 5G (Lunar Silver, 128 GB)  (6 GB RAM)       ₹16,999   \n",
       "1    CMF by Nothing Phone 2 Pro (Light Green, 128 G...       ₹22,999   \n",
       "2    Infinix Note 50s 5G+ (Burgundy Red, 128 GB)  (...       ₹21,999   \n",
       "3    realme C63 5G Charger in the Box (Starry Gold,...       ₹13,999   \n",
       "4    realme C63 5G Charger in the Box (Forest Green...       ₹13,999   \n",
       "..                                                 ...           ...   \n",
       "115  Infinix Note 50s 5G+ (Titanium Grey, 256 GB)  ...       ₹24,999   \n",
       "116      realme P3 5G (Comet Grey, 128 GB)  (6 GB RAM)       ₹19,999   \n",
       "117     Nothing Phone (3a) (Black, 128 GB)  (8 GB RAM)       ₹27,999   \n",
       "118  OnePlus Nord CE4 lite 5G (SUPER SILVER, 128 GB...       ₹20,999   \n",
       "119        POCO C75 5G (Aqua Bliss, 64 GB)  (4 GB RAM)       ₹10,999   \n",
       "\n",
       "    Deal_price Discount  Rating                                       Storage  \\\n",
       "0      ₹12,999  23% off     4.5                         6 GB RAM | 128 GB ROM   \n",
       "1      ₹18,999  17% off     3.7  8 GB RAM | 128 GB ROM | Expandable Upto 2 TB   \n",
       "2      ₹15,999  27% off     4.6                         8 GB RAM | 128 GB ROM   \n",
       "3      ₹10,999  21% off     4.5  6 GB RAM | 128 GB ROM | Expandable Upto 2 TB   \n",
       "4      ₹10,999  21% off     4.5  6 GB RAM | 128 GB ROM | Expandable Upto 2 TB   \n",
       "..         ...      ...     ...                                           ...   \n",
       "115    ₹17,999  28% off     4.6                         8 GB RAM | 256 GB ROM   \n",
       "116    ₹15,999  20% off     4.4  6 GB RAM | 128 GB ROM | Expandable Upto 2 TB   \n",
       "117    ₹24,999  10% off     4.5                         8 GB RAM | 128 GB ROM   \n",
       "118    ₹16,580  21% off     4.4                         8 GB RAM | 128 GB ROM   \n",
       "119     ₹7,699  30% off     4.3   4 GB RAM | 64 GB ROM | Expandable Upto 1 TB   \n",
       "\n",
       "                                   Display  \\\n",
       "0     17.07 cm (6.72 inch) Full HD Display   \n",
       "1              17.2 cm (6.77 inch) Display   \n",
       "2    17.22 cm (6.78 inch) Full HD+ Display   \n",
       "3         16.94 cm (6.67 inch) HD+ Display   \n",
       "4         16.94 cm (6.67 inch) HD+ Display   \n",
       "..                                     ...   \n",
       "115  17.22 cm (6.78 inch) Full HD+ Display   \n",
       "116  16.94 cm (6.67 inch) Full HD+ Display   \n",
       "117   17.2 cm (6.77 inch) Full HD+ Display   \n",
       "118           16.94 cm (6.67 inch) Display   \n",
       "119       17.48 cm (6.88 inch) HD+ Display   \n",
       "\n",
       "                                                Camera           Battery  \\\n",
       "0                  50MP Rear Camera | 8MP Front Camera  6000 mAh Battery   \n",
       "1                50MP + 50MP + 8MP | 16MP Front Camera  5000 mAh Battery   \n",
       "2                       64MP + 2MP | 13MP Front Camera  5500 mAh Battery   \n",
       "3                  32MP Rear Camera | 8MP Front Camera  5000 mAh Battery   \n",
       "4                  32MP Rear Camera | 8MP Front Camera  5000 mAh Battery   \n",
       "..                                                 ...               ...   \n",
       "115                     64MP + 2MP | 13MP Front Camera  5500 mAh Battery   \n",
       "116                     50MP + 2MP | 16MP Front Camera  6000 mAh Battery   \n",
       "117  50MP (Main) + 50MP (2X Tele Photo) + 8MP (Ultr...  5000 mAh Battery   \n",
       "118                                   50MP Rear Camera  5500 mAh Battery   \n",
       "119                50MP Rear Camera | 5MP Front Camera  5160 mAh Battery   \n",
       "\n",
       "                             Processor  \n",
       "0             Dimensity 6400 Processor  \n",
       "1      Dimensity 7300 Pro 5G Processor  \n",
       "2    Dimensity 7300 Ultimate Processor  \n",
       "3             Dimensity 6300 Processor  \n",
       "4             Dimensity 6300 Processor  \n",
       "..                                 ...  \n",
       "115  Dimensity 7300 Ultimate Processor  \n",
       "116                  6 Gen 4 Processor  \n",
       "117                  7s Gen3 Processor  \n",
       "118                                NaN  \n",
       "119              4s Gen 2 5G Processor  \n",
       "\n",
       "[120 rows x 10 columns]"
      ]
     },
     "execution_count": 197,
     "metadata": {},
     "output_type": "execute_result"
    }
   ],
   "source": [
    "df"
   ]
  },
  {
   "cell_type": "markdown",
   "id": "b3cee152",
   "metadata": {},
   "source": [
    "## Removing the null values in which all rows having null"
   ]
  },
  {
   "cell_type": "code",
   "execution_count": 198,
   "id": "9e5094e9",
   "metadata": {},
   "outputs": [],
   "source": [
    "df=df.dropna(how='all')"
   ]
  },
  {
   "cell_type": "code",
   "execution_count": 199,
   "id": "cedad57a",
   "metadata": {},
   "outputs": [
    {
     "data": {
      "text/plain": [
       "Mobiles          0\n",
       "Oiginal_price    7\n",
       "Deal_price       0\n",
       "Discount         7\n",
       "Rating           0\n",
       "Storage          0\n",
       "Display          0\n",
       "Camera           0\n",
       "Battery          0\n",
       "Processor        6\n",
       "dtype: int64"
      ]
     },
     "execution_count": 199,
     "metadata": {},
     "output_type": "execute_result"
    }
   ],
   "source": [
    "df.isna().sum()"
   ]
  },
  {
   "cell_type": "markdown",
   "id": "efe1ef81",
   "metadata": {},
   "source": [
    "## Renaming the column names"
   ]
  },
  {
   "cell_type": "code",
   "execution_count": 200,
   "id": "f6f359ac",
   "metadata": {},
   "outputs": [],
   "source": [
    "df.rename({\"Oiginal_price\":\"Original_price(₹)\"},axis=1,inplace=True)"
   ]
  },
  {
   "cell_type": "code",
   "execution_count": 201,
   "id": "bfdab234",
   "metadata": {},
   "outputs": [],
   "source": [
    "df.rename({\"Deal_price\":\"Deal_price(₹)\"},axis=1,inplace=True)"
   ]
  },
  {
   "cell_type": "code",
   "execution_count": 202,
   "id": "a31a6f98",
   "metadata": {},
   "outputs": [],
   "source": [
    "df['Original_price(₹)']=pd.to_numeric(df['Original_price(₹)'].str.strip('₹').str.replace(',',''))"
   ]
  },
  {
   "cell_type": "code",
   "execution_count": 203,
   "id": "c3f6353e",
   "metadata": {},
   "outputs": [],
   "source": [
    "df['Deal_price(₹)']=pd.to_numeric(df['Deal_price(₹)'].str.strip('₹').str.replace(',',''))"
   ]
  },
  {
   "cell_type": "code",
   "execution_count": 204,
   "id": "f88489ef",
   "metadata": {},
   "outputs": [],
   "source": [
    "df.rename({\"Discount\":\"Discount (% off)\"},axis=1,inplace=True)"
   ]
  },
  {
   "cell_type": "code",
   "execution_count": 205,
   "id": "0ffd63e4",
   "metadata": {},
   "outputs": [],
   "source": [
    "df['Discount (% off)']=df['Discount (% off)'].str.strip('% off')"
   ]
  },
  {
   "cell_type": "code",
   "execution_count": 206,
   "id": "2f44e056",
   "metadata": {},
   "outputs": [],
   "source": [
    "df.rename({\"Battery\":\"Battery (mAh)\"},axis=1,inplace=True)"
   ]
  },
  {
   "cell_type": "code",
   "execution_count": 207,
   "id": "211cdbae",
   "metadata": {},
   "outputs": [],
   "source": [
    "df['Battery (mAh)']=df['Battery (mAh)'].str.strip('mAh Battery')"
   ]
  },
  {
   "cell_type": "code",
   "execution_count": 208,
   "id": "27613bd8",
   "metadata": {},
   "outputs": [
    {
     "data": {
      "text/plain": [
       "0      6000\n",
       "1      5000\n",
       "2      5500\n",
       "3      5000\n",
       "4      5000\n",
       "       ... \n",
       "115    5500\n",
       "116    6000\n",
       "117    5000\n",
       "118    5500\n",
       "119    5160\n",
       "Name: Battery (mAh), Length: 120, dtype: object"
      ]
     },
     "execution_count": 208,
     "metadata": {},
     "output_type": "execute_result"
    }
   ],
   "source": [
    "df['Battery (mAh)']"
   ]
  },
  {
   "cell_type": "code",
   "execution_count": 209,
   "id": "7344ef2d",
   "metadata": {},
   "outputs": [
    {
     "data": {
      "text/plain": [
       "Mobiles\n",
       "CMF by Nothing Phone 2 Pro (Light Green, 128 GB)  (8 GB RAM)                                  22999.0\n",
       "Google Pixel 9A (Obsidian, 256 GB)  (8 GB RAM)                                                    NaN\n",
       "Google Pixel 9A (Porcelain, 256 GB)  (8 GB RAM)                                                   NaN\n",
       "IAIR D10 Mini Dual Sim Keypad Phone | 1800 mAH Battery & Big 1.7 Inch Display  (Navy Blue)     1549.0\n",
       "IAIR S10 Dual Sim Keypad Phone  (Dark Blue)                                                    1899.0\n",
       "Infinix Note 50s 5G+ (Burgundy Red, 128 GB)  (8 GB RAM)                                       21999.0\n",
       "Infinix Note 50s 5G+ (Burgundy Red, 256 GB)  (8 GB RAM)                                       24999.0\n",
       "Infinix Note 50s 5G+ (Marine Drift Blue, 128 GB)  (8 GB RAM)                                  21999.0\n",
       "Infinix Note 50s 5G+ (Titanium Grey, 128 GB)  (8 GB RAM)                                      21999.0\n",
       "Infinix Note 50s 5G+ (Titanium Grey, 256 GB)  (8 GB RAM)                                      24999.0\n",
       "MOTOROLA Edge 60 Stylus (PANTONE Gibraltar Sea, 256 GB)  (8 GB RAM)                           28999.0\n",
       "MOTOROLA g05 (Plum Red, 64 GB)  (4 GB RAM)                                                     9999.0\n",
       "Motorola Edge 50 Fusion (Marshmallow Blue, 128 GB)  (8 GB RAM)                                25999.0\n",
       "Motorola G85 5G (Olive Green, 128 GB)  (8 GB RAM)                                             20999.0\n",
       "Motorola g45 5G (Brilliant Green, 128 GB)  (8 GB RAM)                                         14999.0\n",
       "Nothing Phone (3a) (Black, 128 GB)  (8 GB RAM)                                                27999.0\n",
       "OnePlus Nord CE4 lite 5G (SUPER SILVER, 128 GB)  (8 GB RAM)                                   20999.0\n",
       "POCO C71 (Desert Gold, 64 GB)  (4 GB RAM)                                                      8999.0\n",
       "POCO C71 - Locked with Airtel Prepaid (Cool Blue, 64 GB)  (4 GB RAM)                           8999.0\n",
       "POCO C75 5G (Aqua Bliss, 64 GB)  (4 GB RAM)                                                   10999.0\n",
       "SAMSUNG Galaxy A35 5G (Awesome Iceblue, 128 GB)  (8 GB RAM)                                   33999.0\n",
       "SAMSUNG Galaxy A35 5G (Awesome Iceblue, 256 GB)  (8 GB RAM)                                   36999.0\n",
       "SAMSUNG Galaxy A35 5G (Awesome Lilac, 128 GB)  (8 GB RAM)                                     33999.0\n",
       "SAMSUNG Galaxy A35 5G (Awesome Lilac, 256 GB)  (8 GB RAM)                                     36999.0\n",
       "SAMSUNG Galaxy A56 5G (Awesome Olive, 128 GB)  (8 GB RAM)                                     45999.0\n",
       "SAMSUNG Galaxy F06 5G (Bahama Blue, 128 GB)  (4 GB RAM)                                       13999.0\n",
       "SAMSUNG Galaxy F06 5G (Lit Violet, 128 GB)  (4 GB RAM)                                        13999.0\n",
       "SAMSUNG Galaxy F06 5G (Lit Violet, 64 GB)  (4 GB RAM)                                         12499.0\n",
       "SAMSUNG Galaxy F16 5G (Glam Green, 128 GB)  (8 GB RAM)                                        18999.0\n",
       "SAMSUNG Galaxy S24 5G (Amber Yellow, 128 GB)  (8 GB RAM)                                      74999.0\n",
       "SAMSUNG Galaxy S24 FE 5G (Blue, 128 GB)  (8 GB RAM)                                           59999.0\n",
       "SAMSUNG Galaxy S25 5G (Silver Shadow, 256 GB)  (12 GB RAM)                                        NaN\n",
       "Tecno Pova 6 Neo 5G (Aurora Cloud, 128 GB)  (6 GB RAM)                                        15999.0\n",
       "Tecno Spark Go 1 (Startrail Black, 64 GB)  (3 GB RAM)                                          8599.0\n",
       "realme C61 (Marble Black, 128 GB)  (6 GB RAM)                                                 10999.0\n",
       "realme C61 (Safari Green, 128 GB)  (6 GB RAM)                                                 10999.0\n",
       "realme C61 (Safari Green, 64 GB)  (4 GB RAM)                                                   8999.0\n",
       "realme C63 5G Charger in the Box (Forest Green, 128 GB)  (6 GB RAM)                           13999.0\n",
       "realme C63 5G Charger in the Box (Starry Gold, 128 GB)  (6 GB RAM)                            13999.0\n",
       "realme P2 Pro 5G (Parrot Green, 128 GB)  (8 GB RAM)                                           25999.0\n",
       "realme P2 Pro 5G (Parrot Green, 256 GB)  (12 GB RAM)                                          27999.0\n",
       "realme P3 5G (Comet Grey, 128 GB)  (6 GB RAM)                                                 19999.0\n",
       "realme P3 Pro 5G (Galaxy Purple, 128 GB)  (8 GB RAM)                                          28999.0\n",
       "realme P3x 5G (Lunar Silver, 128 GB)  (6 GB RAM)                                              16999.0\n",
       "vivo T4 5G (Emerald Blaze, 128 GB)  (8 GB RAM)                                                25999.0\n",
       "vivo T4 5G (Phantom Grey, 256 GB)  (8 GB RAM)                                                 27999.0\n",
       "vivo T4x 5G (Marine Blue, 128 GB)  (8 GB RAM)                                                 19499.0\n",
       "vivo T4x 5G (Pronto Purple, 128 GB)  (6 GB RAM)                                               17999.0\n",
       "vivo T4x 5G (Pronto Purple, 128 GB)  (8 GB RAM)                                               19499.0\n",
       "Name: Original_price(₹), dtype: float64"
      ]
     },
     "execution_count": 209,
     "metadata": {},
     "output_type": "execute_result"
    }
   ],
   "source": [
    "df.groupby('Mobiles')['Original_price(₹)'].mean()"
   ]
  },
  {
   "cell_type": "code",
   "execution_count": 210,
   "id": "dd1dcd40",
   "metadata": {},
   "outputs": [
    {
     "data": {
      "text/plain": [
       "Mobiles              0\n",
       "Original_price(₹)    7\n",
       "Deal_price(₹)        0\n",
       "Discount (% off)     7\n",
       "Rating               0\n",
       "Storage              0\n",
       "Display              0\n",
       "Camera               0\n",
       "Battery (mAh)        0\n",
       "Processor            6\n",
       "dtype: int64"
      ]
     },
     "execution_count": 210,
     "metadata": {},
     "output_type": "execute_result"
    }
   ],
   "source": [
    "df.isnull().sum()"
   ]
  },
  {
   "cell_type": "code",
   "execution_count": 211,
   "id": "61fd78f7",
   "metadata": {},
   "outputs": [
    {
     "data": {
      "text/plain": [
       "array(['6 GB RAM | 128 GB ROM',\n",
       "       '8 GB RAM | 128 GB ROM | Expandable Upto 2 TB',\n",
       "       '8 GB RAM | 128 GB ROM',\n",
       "       '6 GB RAM | 128 GB ROM | Expandable Upto 2 TB',\n",
       "       '8 GB RAM | 256 GB ROM',\n",
       "       '4 GB RAM | 64 GB ROM | Expandable Upto 2 TB',\n",
       "       '8 GB RAM | 128 GB ROM | Expandable Upto 1 TB',\n",
       "       '3 GB RAM | 64 GB ROM | Expandable Upto 1 TB',\n",
       "       '4 GB RAM | 128 GB ROM | Expandable Upto 1500 GB',\n",
       "       '4 GB RAM | 64 GB ROM | Expandable Upto 1 TB',\n",
       "       '8 GB RAM | 256 GB ROM | Expandable Upto 1 TB',\n",
       "       '6 GB RAM | 128 GB ROM | Expandable Upto 1 TB',\n",
       "       '32 MB RAM | 32 MB ROM | Expandable Upto 32 MB',\n",
       "       '4 GB RAM | 64 GB ROM | Expandable Upto 1500 GB',\n",
       "       '12 GB RAM | 256 GB ROM'], dtype=object)"
      ]
     },
     "execution_count": 211,
     "metadata": {},
     "output_type": "execute_result"
    }
   ],
   "source": [
    "df['Storage'].unique()"
   ]
  },
  {
   "cell_type": "code",
   "execution_count": 212,
   "id": "aea1fd0b",
   "metadata": {},
   "outputs": [
    {
     "data": {
      "text/plain": [
       "0                          [6, GB, RAM, |, 128, GB, ROM]\n",
       "1      [8, GB, RAM, |, 128, GB, ROM, |, Expandable, U...\n",
       "2                          [8, GB, RAM, |, 128, GB, ROM]\n",
       "3      [6, GB, RAM, |, 128, GB, ROM, |, Expandable, U...\n",
       "4      [6, GB, RAM, |, 128, GB, ROM, |, Expandable, U...\n",
       "                             ...                        \n",
       "115                        [8, GB, RAM, |, 256, GB, ROM]\n",
       "116    [6, GB, RAM, |, 128, GB, ROM, |, Expandable, U...\n",
       "117                        [8, GB, RAM, |, 128, GB, ROM]\n",
       "118                        [8, GB, RAM, |, 128, GB, ROM]\n",
       "119    [4, GB, RAM, |, 64, GB, ROM, |, Expandable, Up...\n",
       "Name: Storage, Length: 120, dtype: object"
      ]
     },
     "execution_count": 212,
     "metadata": {},
     "output_type": "execute_result"
    }
   ],
   "source": [
    "df['Storage'].str.split()"
   ]
  },
  {
   "cell_type": "code",
   "execution_count": 213,
   "id": "744b542c",
   "metadata": {},
   "outputs": [],
   "source": [
    "def extract_storage_features(storage):\n",
    "    parts = storage.split('|')\n",
    "    \n",
    "    ram = rom = expandable = np.nan\n",
    "\n",
    "    if len(parts) >= 2:\n",
    "        ram = parts[0].strip().split()[0]  # e.g., '4 GB RAM' -> 4\n",
    "        rom = parts[1].strip().split()[0]  # e.g., '128 GB ROM' -> 128\n",
    "    \n",
    "    if len(parts) == 3:\n",
    "        expandable = parts[2].strip().split()[-2]  # e.g., 'Expandable Upto 1 TB' -> 1\n",
    "    \n",
    "    return pd.Series([ram, rom, expandable])\n",
    "\n",
    "df[['RAM_GB', 'ROM_GB', 'Expandable']] = df['Storage'].apply(extract_storage_features).astype(float)"
   ]
  },
  {
   "cell_type": "code",
   "execution_count": 214,
   "id": "8667da67",
   "metadata": {},
   "outputs": [],
   "source": [
    "ram_counts = df['RAM_GB'].value_counts().sort_values(ascending=False)"
   ]
  },
  {
   "cell_type": "code",
   "execution_count": 215,
   "id": "3d01f16d",
   "metadata": {},
   "outputs": [],
   "source": [
    "rom_counts = df['ROM_GB'].value_counts().sort_values(ascending=False)"
   ]
  },
  {
   "cell_type": "code",
   "execution_count": null,
   "id": "2e816b71",
   "metadata": {},
   "outputs": [],
   "source": []
  },
  {
   "cell_type": "code",
   "execution_count": 216,
   "id": "331b6312",
   "metadata": {},
   "outputs": [],
   "source": [
    "# Top storage combinations\n",
    "df['Config'] = df['RAM_GB'].astype(str) + ' GB RAM | ' + df['ROM_GB'].astype(str) + ' GB ROM'\n",
    "top_configs = df['Config'].value_counts().head(10)"
   ]
  },
  {
   "cell_type": "code",
   "execution_count": 217,
   "id": "8d16cb35",
   "metadata": {},
   "outputs": [],
   "source": [
    "df['Brand'] = df['Mobiles'].str.split().str[0]"
   ]
  },
  {
   "cell_type": "code",
   "execution_count": 218,
   "id": "da4d2f8d",
   "metadata": {},
   "outputs": [],
   "source": [
    "df['Total_Storage_GB'] = df['ROM_GB'].fillna(0)\n",
    "\n",
    "brand_storage = df.groupby('Brand')['Total_Storage_GB'].max().sort_values(ascending=False)"
   ]
  },
  {
   "cell_type": "code",
   "execution_count": 219,
   "id": "c5731cfd",
   "metadata": {},
   "outputs": [],
   "source": [
    "del df['Expandable']"
   ]
  },
  {
   "cell_type": "code",
   "execution_count": null,
   "id": "432b81b6",
   "metadata": {},
   "outputs": [],
   "source": []
  },
  {
   "cell_type": "code",
   "execution_count": 220,
   "id": "07f254a7",
   "metadata": {},
   "outputs": [
    {
     "name": "stderr",
     "output_type": "stream",
     "text": [
      "C:\\Users\\navee\\anaconda3\\Lib\\site-packages\\numpy\\lib\\nanfunctions.py:1215: RuntimeWarning: Mean of empty slice\n",
      "  return np.nanmean(a, axis, out=out, keepdims=keepdims)\n"
     ]
    }
   ],
   "source": [
    "# Step 1: Replace 0 with NaN if needed (you can skip this if only NaNs exist)\n",
    "df[['Original_price(₹)', 'Discount (% off)']] = df[['Original_price(₹)', 'Discount (% off)']].replace(0, np.nan)\n",
    "\n",
    "# Step 2: Fill missing values with Brand-wise median\n",
    "df['Original_price(₹)'] = df.groupby('Brand')['Original_price(₹)'].transform(lambda x: x.fillna(x.median()))\n",
    "df['Discount (% off)'] = df.groupby('Brand')['Discount (% off)'].transform(lambda x: x.fillna(x.median()))\n"
   ]
  },
  {
   "cell_type": "code",
   "execution_count": 221,
   "id": "2107c94c",
   "metadata": {},
   "outputs": [
    {
     "data": {
      "text/plain": [
       "Mobiles\n",
       "CMF by Nothing Phone 2 Pro (Light Green, 128 GB)  (8 GB RAM)                                   57239.0\n",
       "Google Pixel 9A (Obsidian, 256 GB)  (8 GB RAM)                                                     NaN\n",
       "Google Pixel 9A (Porcelain, 256 GB)  (8 GB RAM)                                                    NaN\n",
       "IAIR D10 Mini Dual Sim Keypad Phone | 1800 mAH Battery & Big 1.7 Inch Display  (Navy Blue)      2525.0\n",
       "IAIR S10 Dual Sim Keypad Phone  (Dark Blue)                                                       58.0\n",
       "Infinix Note 50s 5G+ (Burgundy Red, 128 GB)  (8 GB RAM)                                        90909.0\n",
       "Infinix Note 50s 5G+ (Burgundy Red, 256 GB)  (8 GB RAM)                                        94276.0\n",
       "Infinix Note 50s 5G+ (Marine Drift Blue, 128 GB)  (8 GB RAM)                                    1363.5\n",
       "Infinix Note 50s 5G+ (Titanium Grey, 128 GB)  (8 GB RAM)                                       90909.0\n",
       "Infinix Note 50s 5G+ (Titanium Grey, 256 GB)  (8 GB RAM)                                       94276.0\n",
       "MOTOROLA Edge 60 Stylus (PANTONE Gibraltar Sea, 256 GB)  (8 GB RAM)                             1010.0\n",
       "MOTOROLA g05 (Plum Red, 64 GB)  (4 GB RAM)                                                      1515.0\n",
       "Motorola Edge 50 Fusion (Marshmallow Blue, 128 GB)  (8 GB RAM)                                 77441.0\n",
       "Motorola G85 5G (Olive Green, 128 GB)  (8 GB RAM)                                              77441.0\n",
       "Motorola g45 5G (Brilliant Green, 128 GB)  (8 GB RAM)                                           1010.0\n",
       "Nothing Phone (3a) (Black, 128 GB)  (8 GB RAM)                                                 33670.0\n",
       "OnePlus Nord CE4 lite 5G (SUPER SILVER, 128 GB)  (8 GB RAM)                                    70707.0\n",
       "POCO C71 (Desert Gold, 64 GB)  (4 GB RAM)                                                      90909.0\n",
       "POCO C71 - Locked with Airtel Prepaid (Cool Blue, 64 GB)  (4 GB RAM)                          117845.0\n",
       "POCO C75 5G (Aqua Bliss, 64 GB)  (4 GB RAM)                                                   101010.0\n",
       "SAMSUNG Galaxy A35 5G (Awesome Iceblue, 128 GB)  (8 GB RAM)                                   127946.0\n",
       "SAMSUNG Galaxy A35 5G (Awesome Iceblue, 256 GB)  (8 GB RAM)                                     1868.5\n",
       "SAMSUNG Galaxy A35 5G (Awesome Lilac, 128 GB)  (8 GB RAM)                                         38.0\n",
       "SAMSUNG Galaxy A35 5G (Awesome Lilac, 256 GB)  (8 GB RAM)                                       1868.5\n",
       "SAMSUNG Galaxy A56 5G (Awesome Olive, 128 GB)  (8 GB RAM)                                        757.5\n",
       "SAMSUNG Galaxy F06 5G (Bahama Blue, 128 GB)  (4 GB RAM)                                         1969.5\n",
       "SAMSUNG Galaxy F06 5G (Lit Violet, 128 GB)  (4 GB RAM)                                        131313.0\n",
       "SAMSUNG Galaxy F06 5G (Lit Violet, 64 GB)  (4 GB RAM)                                           1818.0\n",
       "SAMSUNG Galaxy F16 5G (Glam Green, 128 GB)  (8 GB RAM)                                          1161.5\n",
       "SAMSUNG Galaxy S24 5G (Amber Yellow, 128 GB)  (8 GB RAM)                                      134680.0\n",
       "SAMSUNG Galaxy S24 FE 5G (Blue, 128 GB)  (8 GB RAM)                                             2070.5\n",
       "SAMSUNG Galaxy S25 5G (Silver Shadow, 256 GB)  (12 GB RAM)                                        38.0\n",
       "Tecno Pova 6 Neo 5G (Aurora Cloud, 128 GB)  (6 GB RAM)                                          1262.5\n",
       "Tecno Spark Go 1 (Startrail Black, 64 GB)  (3 GB RAM)                                          63973.0\n",
       "realme C61 (Marble Black, 128 GB)  (6 GB RAM)                                                   1262.5\n",
       "realme C61 (Safari Green, 128 GB)  (6 GB RAM)                                                   1262.5\n",
       "realme C61 (Safari Green, 64 GB)  (4 GB RAM)                                                     707.0\n",
       "realme C63 5G Charger in the Box (Forest Green, 128 GB)  (6 GB RAM)                            70707.0\n",
       "realme C63 5G Charger in the Box (Starry Gold, 128 GB)  (6 GB RAM)                             70707.0\n",
       "realme P2 Pro 5G (Parrot Green, 128 GB)  (8 GB RAM)                                           117845.0\n",
       "realme P2 Pro 5G (Parrot Green, 256 GB)  (12 GB RAM)                                            1666.5\n",
       "realme P3 5G (Comet Grey, 128 GB)  (6 GB RAM)                                                  67340.0\n",
       "realme P3 Pro 5G (Galaxy Purple, 128 GB)  (8 GB RAM)                                            1565.5\n",
       "realme P3x 5G (Lunar Silver, 128 GB)  (6 GB RAM)                                               77441.0\n",
       "vivo T4 5G (Emerald Blaze, 128 GB)  (8 GB RAM)                                                   757.5\n",
       "vivo T4 5G (Phantom Grey, 256 GB)  (8 GB RAM)                                                  47138.0\n",
       "vivo T4x 5G (Marine Blue, 128 GB)  (8 GB RAM)                                                   1161.5\n",
       "vivo T4x 5G (Pronto Purple, 128 GB)  (6 GB RAM)                                                74074.0\n",
       "vivo T4x 5G (Pronto Purple, 128 GB)  (8 GB RAM)                                                 1161.5\n",
       "Name: Discount (% off), dtype: float64"
      ]
     },
     "execution_count": 221,
     "metadata": {},
     "output_type": "execute_result"
    }
   ],
   "source": [
    "df.groupby('Mobiles')['Discount (% off)'].mean()"
   ]
  },
  {
   "cell_type": "markdown",
   "id": "69470dca",
   "metadata": {},
   "source": [
    "## Replacing NaN values "
   ]
  },
  {
   "cell_type": "code",
   "execution_count": 222,
   "id": "caec3096",
   "metadata": {},
   "outputs": [],
   "source": [
    "df['Original_price(₹)'].fillna(round(df['Original_price(₹)'].mean(),1),inplace=True)"
   ]
  },
  {
   "cell_type": "code",
   "execution_count": 223,
   "id": "b4b5864a",
   "metadata": {},
   "outputs": [],
   "source": [
    "df['Discount (% off)'].fillna(df['Discount (% off)'].mode()[0],inplace=True)"
   ]
  },
  {
   "cell_type": "code",
   "execution_count": 224,
   "id": "b1e29831",
   "metadata": {},
   "outputs": [
    {
     "data": {
      "text/plain": [
       "Mobiles              0\n",
       "Original_price(₹)    0\n",
       "Deal_price(₹)        0\n",
       "Discount (% off)     0\n",
       "Rating               0\n",
       "Storage              0\n",
       "Display              0\n",
       "Camera               0\n",
       "Battery (mAh)        0\n",
       "Processor            6\n",
       "RAM_GB               0\n",
       "ROM_GB               0\n",
       "Config               0\n",
       "Brand                0\n",
       "Total_Storage_GB     0\n",
       "dtype: int64"
      ]
     },
     "execution_count": 224,
     "metadata": {},
     "output_type": "execute_result"
    }
   ],
   "source": [
    "df.isnull().sum()"
   ]
  },
  {
   "cell_type": "markdown",
   "id": "ceb6bb16",
   "metadata": {},
   "source": [
    "## Validating Mobile Brands"
   ]
  },
  {
   "cell_type": "code",
   "execution_count": 225,
   "id": "183f3f8d",
   "metadata": {},
   "outputs": [
    {
     "data": {
      "text/plain": [
       "array(['realme', 'CMF', 'Infinix', 'Google', 'POCO', 'vivo', 'SAMSUNG',\n",
       "       'Motorola', 'Tecno', 'Nothing', 'OnePlus', 'IAIR', 'MOTOROLA'],\n",
       "      dtype=object)"
      ]
     },
     "execution_count": 225,
     "metadata": {},
     "output_type": "execute_result"
    }
   ],
   "source": [
    "df['Brand'].unique()"
   ]
  },
  {
   "cell_type": "code",
   "execution_count": 226,
   "id": "573958c7",
   "metadata": {},
   "outputs": [
    {
     "data": {
      "text/html": [
       "<div>\n",
       "<style scoped>\n",
       "    .dataframe tbody tr th:only-of-type {\n",
       "        vertical-align: middle;\n",
       "    }\n",
       "\n",
       "    .dataframe tbody tr th {\n",
       "        vertical-align: top;\n",
       "    }\n",
       "\n",
       "    .dataframe thead th {\n",
       "        text-align: right;\n",
       "    }\n",
       "</style>\n",
       "<table border=\"1\" class=\"dataframe\">\n",
       "  <thead>\n",
       "    <tr style=\"text-align: right;\">\n",
       "      <th></th>\n",
       "      <th>Mobiles</th>\n",
       "      <th>Original_price(₹)</th>\n",
       "      <th>Deal_price(₹)</th>\n",
       "      <th>Discount (% off)</th>\n",
       "      <th>Rating</th>\n",
       "      <th>Storage</th>\n",
       "      <th>Display</th>\n",
       "      <th>Camera</th>\n",
       "      <th>Battery (mAh)</th>\n",
       "      <th>Processor</th>\n",
       "      <th>RAM_GB</th>\n",
       "      <th>ROM_GB</th>\n",
       "      <th>Config</th>\n",
       "      <th>Brand</th>\n",
       "      <th>Total_Storage_GB</th>\n",
       "    </tr>\n",
       "  </thead>\n",
       "  <tbody>\n",
       "    <tr>\n",
       "      <th>0</th>\n",
       "      <td>realme P3x 5G (Lunar Silver, 128 GB)  (6 GB RAM)</td>\n",
       "      <td>16999.0</td>\n",
       "      <td>12999</td>\n",
       "      <td>23</td>\n",
       "      <td>4.5</td>\n",
       "      <td>6 GB RAM | 128 GB ROM</td>\n",
       "      <td>17.07 cm (6.72 inch) Full HD Display</td>\n",
       "      <td>50MP Rear Camera | 8MP Front Camera</td>\n",
       "      <td>6000</td>\n",
       "      <td>Dimensity 6400 Processor</td>\n",
       "      <td>6.0</td>\n",
       "      <td>128.0</td>\n",
       "      <td>6.0 GB RAM | 128.0 GB ROM</td>\n",
       "      <td>realme</td>\n",
       "      <td>128.0</td>\n",
       "    </tr>\n",
       "    <tr>\n",
       "      <th>1</th>\n",
       "      <td>CMF by Nothing Phone 2 Pro (Light Green, 128 G...</td>\n",
       "      <td>22999.0</td>\n",
       "      <td>18999</td>\n",
       "      <td>17</td>\n",
       "      <td>3.7</td>\n",
       "      <td>8 GB RAM | 128 GB ROM | Expandable Upto 2 TB</td>\n",
       "      <td>17.2 cm (6.77 inch) Display</td>\n",
       "      <td>50MP + 50MP + 8MP | 16MP Front Camera</td>\n",
       "      <td>5000</td>\n",
       "      <td>Dimensity 7300 Pro 5G Processor</td>\n",
       "      <td>8.0</td>\n",
       "      <td>128.0</td>\n",
       "      <td>8.0 GB RAM | 128.0 GB ROM</td>\n",
       "      <td>CMF</td>\n",
       "      <td>128.0</td>\n",
       "    </tr>\n",
       "    <tr>\n",
       "      <th>2</th>\n",
       "      <td>Infinix Note 50s 5G+ (Burgundy Red, 128 GB)  (...</td>\n",
       "      <td>21999.0</td>\n",
       "      <td>15999</td>\n",
       "      <td>27</td>\n",
       "      <td>4.6</td>\n",
       "      <td>8 GB RAM | 128 GB ROM</td>\n",
       "      <td>17.22 cm (6.78 inch) Full HD+ Display</td>\n",
       "      <td>64MP + 2MP | 13MP Front Camera</td>\n",
       "      <td>5500</td>\n",
       "      <td>Dimensity 7300 Ultimate Processor</td>\n",
       "      <td>8.0</td>\n",
       "      <td>128.0</td>\n",
       "      <td>8.0 GB RAM | 128.0 GB ROM</td>\n",
       "      <td>Infinix</td>\n",
       "      <td>128.0</td>\n",
       "    </tr>\n",
       "    <tr>\n",
       "      <th>3</th>\n",
       "      <td>realme C63 5G Charger in the Box (Starry Gold,...</td>\n",
       "      <td>13999.0</td>\n",
       "      <td>10999</td>\n",
       "      <td>21</td>\n",
       "      <td>4.5</td>\n",
       "      <td>6 GB RAM | 128 GB ROM | Expandable Upto 2 TB</td>\n",
       "      <td>16.94 cm (6.67 inch) HD+ Display</td>\n",
       "      <td>32MP Rear Camera | 8MP Front Camera</td>\n",
       "      <td>5000</td>\n",
       "      <td>Dimensity 6300 Processor</td>\n",
       "      <td>6.0</td>\n",
       "      <td>128.0</td>\n",
       "      <td>6.0 GB RAM | 128.0 GB ROM</td>\n",
       "      <td>realme</td>\n",
       "      <td>128.0</td>\n",
       "    </tr>\n",
       "    <tr>\n",
       "      <th>4</th>\n",
       "      <td>realme C63 5G Charger in the Box (Forest Green...</td>\n",
       "      <td>13999.0</td>\n",
       "      <td>10999</td>\n",
       "      <td>21</td>\n",
       "      <td>4.5</td>\n",
       "      <td>6 GB RAM | 128 GB ROM | Expandable Upto 2 TB</td>\n",
       "      <td>16.94 cm (6.67 inch) HD+ Display</td>\n",
       "      <td>32MP Rear Camera | 8MP Front Camera</td>\n",
       "      <td>5000</td>\n",
       "      <td>Dimensity 6300 Processor</td>\n",
       "      <td>6.0</td>\n",
       "      <td>128.0</td>\n",
       "      <td>6.0 GB RAM | 128.0 GB ROM</td>\n",
       "      <td>realme</td>\n",
       "      <td>128.0</td>\n",
       "    </tr>\n",
       "    <tr>\n",
       "      <th>...</th>\n",
       "      <td>...</td>\n",
       "      <td>...</td>\n",
       "      <td>...</td>\n",
       "      <td>...</td>\n",
       "      <td>...</td>\n",
       "      <td>...</td>\n",
       "      <td>...</td>\n",
       "      <td>...</td>\n",
       "      <td>...</td>\n",
       "      <td>...</td>\n",
       "      <td>...</td>\n",
       "      <td>...</td>\n",
       "      <td>...</td>\n",
       "      <td>...</td>\n",
       "      <td>...</td>\n",
       "    </tr>\n",
       "    <tr>\n",
       "      <th>115</th>\n",
       "      <td>Infinix Note 50s 5G+ (Titanium Grey, 256 GB)  ...</td>\n",
       "      <td>24999.0</td>\n",
       "      <td>17999</td>\n",
       "      <td>28</td>\n",
       "      <td>4.6</td>\n",
       "      <td>8 GB RAM | 256 GB ROM</td>\n",
       "      <td>17.22 cm (6.78 inch) Full HD+ Display</td>\n",
       "      <td>64MP + 2MP | 13MP Front Camera</td>\n",
       "      <td>5500</td>\n",
       "      <td>Dimensity 7300 Ultimate Processor</td>\n",
       "      <td>8.0</td>\n",
       "      <td>256.0</td>\n",
       "      <td>8.0 GB RAM | 256.0 GB ROM</td>\n",
       "      <td>Infinix</td>\n",
       "      <td>256.0</td>\n",
       "    </tr>\n",
       "    <tr>\n",
       "      <th>116</th>\n",
       "      <td>realme P3 5G (Comet Grey, 128 GB)  (6 GB RAM)</td>\n",
       "      <td>19999.0</td>\n",
       "      <td>15999</td>\n",
       "      <td>20</td>\n",
       "      <td>4.4</td>\n",
       "      <td>6 GB RAM | 128 GB ROM | Expandable Upto 2 TB</td>\n",
       "      <td>16.94 cm (6.67 inch) Full HD+ Display</td>\n",
       "      <td>50MP + 2MP | 16MP Front Camera</td>\n",
       "      <td>6000</td>\n",
       "      <td>6 Gen 4 Processor</td>\n",
       "      <td>6.0</td>\n",
       "      <td>128.0</td>\n",
       "      <td>6.0 GB RAM | 128.0 GB ROM</td>\n",
       "      <td>realme</td>\n",
       "      <td>128.0</td>\n",
       "    </tr>\n",
       "    <tr>\n",
       "      <th>117</th>\n",
       "      <td>Nothing Phone (3a) (Black, 128 GB)  (8 GB RAM)</td>\n",
       "      <td>27999.0</td>\n",
       "      <td>24999</td>\n",
       "      <td>10</td>\n",
       "      <td>4.5</td>\n",
       "      <td>8 GB RAM | 128 GB ROM</td>\n",
       "      <td>17.2 cm (6.77 inch) Full HD+ Display</td>\n",
       "      <td>50MP (Main) + 50MP (2X Tele Photo) + 8MP (Ultr...</td>\n",
       "      <td>5000</td>\n",
       "      <td>7s Gen3 Processor</td>\n",
       "      <td>8.0</td>\n",
       "      <td>128.0</td>\n",
       "      <td>8.0 GB RAM | 128.0 GB ROM</td>\n",
       "      <td>Nothing</td>\n",
       "      <td>128.0</td>\n",
       "    </tr>\n",
       "    <tr>\n",
       "      <th>118</th>\n",
       "      <td>OnePlus Nord CE4 lite 5G (SUPER SILVER, 128 GB...</td>\n",
       "      <td>20999.0</td>\n",
       "      <td>16580</td>\n",
       "      <td>21</td>\n",
       "      <td>4.4</td>\n",
       "      <td>8 GB RAM | 128 GB ROM</td>\n",
       "      <td>16.94 cm (6.67 inch) Display</td>\n",
       "      <td>50MP Rear Camera</td>\n",
       "      <td>5500</td>\n",
       "      <td>NaN</td>\n",
       "      <td>8.0</td>\n",
       "      <td>128.0</td>\n",
       "      <td>8.0 GB RAM | 128.0 GB ROM</td>\n",
       "      <td>OnePlus</td>\n",
       "      <td>128.0</td>\n",
       "    </tr>\n",
       "    <tr>\n",
       "      <th>119</th>\n",
       "      <td>POCO C75 5G (Aqua Bliss, 64 GB)  (4 GB RAM)</td>\n",
       "      <td>10999.0</td>\n",
       "      <td>7699</td>\n",
       "      <td>30</td>\n",
       "      <td>4.3</td>\n",
       "      <td>4 GB RAM | 64 GB ROM | Expandable Upto 1 TB</td>\n",
       "      <td>17.48 cm (6.88 inch) HD+ Display</td>\n",
       "      <td>50MP Rear Camera | 5MP Front Camera</td>\n",
       "      <td>5160</td>\n",
       "      <td>4s Gen 2 5G Processor</td>\n",
       "      <td>4.0</td>\n",
       "      <td>64.0</td>\n",
       "      <td>4.0 GB RAM | 64.0 GB ROM</td>\n",
       "      <td>POCO</td>\n",
       "      <td>64.0</td>\n",
       "    </tr>\n",
       "  </tbody>\n",
       "</table>\n",
       "<p>120 rows × 15 columns</p>\n",
       "</div>"
      ],
      "text/plain": [
       "                                               Mobiles  Original_price(₹)  \\\n",
       "0     realme P3x 5G (Lunar Silver, 128 GB)  (6 GB RAM)            16999.0   \n",
       "1    CMF by Nothing Phone 2 Pro (Light Green, 128 G...            22999.0   \n",
       "2    Infinix Note 50s 5G+ (Burgundy Red, 128 GB)  (...            21999.0   \n",
       "3    realme C63 5G Charger in the Box (Starry Gold,...            13999.0   \n",
       "4    realme C63 5G Charger in the Box (Forest Green...            13999.0   \n",
       "..                                                 ...                ...   \n",
       "115  Infinix Note 50s 5G+ (Titanium Grey, 256 GB)  ...            24999.0   \n",
       "116      realme P3 5G (Comet Grey, 128 GB)  (6 GB RAM)            19999.0   \n",
       "117     Nothing Phone (3a) (Black, 128 GB)  (8 GB RAM)            27999.0   \n",
       "118  OnePlus Nord CE4 lite 5G (SUPER SILVER, 128 GB...            20999.0   \n",
       "119        POCO C75 5G (Aqua Bliss, 64 GB)  (4 GB RAM)            10999.0   \n",
       "\n",
       "     Deal_price(₹) Discount (% off)  Rating  \\\n",
       "0            12999               23     4.5   \n",
       "1            18999               17     3.7   \n",
       "2            15999               27     4.6   \n",
       "3            10999               21     4.5   \n",
       "4            10999               21     4.5   \n",
       "..             ...              ...     ...   \n",
       "115          17999               28     4.6   \n",
       "116          15999               20     4.4   \n",
       "117          24999               10     4.5   \n",
       "118          16580               21     4.4   \n",
       "119           7699               30     4.3   \n",
       "\n",
       "                                          Storage  \\\n",
       "0                           6 GB RAM | 128 GB ROM   \n",
       "1    8 GB RAM | 128 GB ROM | Expandable Upto 2 TB   \n",
       "2                           8 GB RAM | 128 GB ROM   \n",
       "3    6 GB RAM | 128 GB ROM | Expandable Upto 2 TB   \n",
       "4    6 GB RAM | 128 GB ROM | Expandable Upto 2 TB   \n",
       "..                                            ...   \n",
       "115                         8 GB RAM | 256 GB ROM   \n",
       "116  6 GB RAM | 128 GB ROM | Expandable Upto 2 TB   \n",
       "117                         8 GB RAM | 128 GB ROM   \n",
       "118                         8 GB RAM | 128 GB ROM   \n",
       "119   4 GB RAM | 64 GB ROM | Expandable Upto 1 TB   \n",
       "\n",
       "                                   Display  \\\n",
       "0     17.07 cm (6.72 inch) Full HD Display   \n",
       "1              17.2 cm (6.77 inch) Display   \n",
       "2    17.22 cm (6.78 inch) Full HD+ Display   \n",
       "3         16.94 cm (6.67 inch) HD+ Display   \n",
       "4         16.94 cm (6.67 inch) HD+ Display   \n",
       "..                                     ...   \n",
       "115  17.22 cm (6.78 inch) Full HD+ Display   \n",
       "116  16.94 cm (6.67 inch) Full HD+ Display   \n",
       "117   17.2 cm (6.77 inch) Full HD+ Display   \n",
       "118           16.94 cm (6.67 inch) Display   \n",
       "119       17.48 cm (6.88 inch) HD+ Display   \n",
       "\n",
       "                                                Camera Battery (mAh)  \\\n",
       "0                  50MP Rear Camera | 8MP Front Camera          6000   \n",
       "1                50MP + 50MP + 8MP | 16MP Front Camera          5000   \n",
       "2                       64MP + 2MP | 13MP Front Camera          5500   \n",
       "3                  32MP Rear Camera | 8MP Front Camera          5000   \n",
       "4                  32MP Rear Camera | 8MP Front Camera          5000   \n",
       "..                                                 ...           ...   \n",
       "115                     64MP + 2MP | 13MP Front Camera          5500   \n",
       "116                     50MP + 2MP | 16MP Front Camera          6000   \n",
       "117  50MP (Main) + 50MP (2X Tele Photo) + 8MP (Ultr...          5000   \n",
       "118                                   50MP Rear Camera          5500   \n",
       "119                50MP Rear Camera | 5MP Front Camera          5160   \n",
       "\n",
       "                             Processor  RAM_GB  ROM_GB  \\\n",
       "0             Dimensity 6400 Processor     6.0   128.0   \n",
       "1      Dimensity 7300 Pro 5G Processor     8.0   128.0   \n",
       "2    Dimensity 7300 Ultimate Processor     8.0   128.0   \n",
       "3             Dimensity 6300 Processor     6.0   128.0   \n",
       "4             Dimensity 6300 Processor     6.0   128.0   \n",
       "..                                 ...     ...     ...   \n",
       "115  Dimensity 7300 Ultimate Processor     8.0   256.0   \n",
       "116                  6 Gen 4 Processor     6.0   128.0   \n",
       "117                  7s Gen3 Processor     8.0   128.0   \n",
       "118                                NaN     8.0   128.0   \n",
       "119              4s Gen 2 5G Processor     4.0    64.0   \n",
       "\n",
       "                        Config    Brand  Total_Storage_GB  \n",
       "0    6.0 GB RAM | 128.0 GB ROM   realme             128.0  \n",
       "1    8.0 GB RAM | 128.0 GB ROM      CMF             128.0  \n",
       "2    8.0 GB RAM | 128.0 GB ROM  Infinix             128.0  \n",
       "3    6.0 GB RAM | 128.0 GB ROM   realme             128.0  \n",
       "4    6.0 GB RAM | 128.0 GB ROM   realme             128.0  \n",
       "..                         ...      ...               ...  \n",
       "115  8.0 GB RAM | 256.0 GB ROM  Infinix             256.0  \n",
       "116  6.0 GB RAM | 128.0 GB ROM   realme             128.0  \n",
       "117  8.0 GB RAM | 128.0 GB ROM  Nothing             128.0  \n",
       "118  8.0 GB RAM | 128.0 GB ROM  OnePlus             128.0  \n",
       "119   4.0 GB RAM | 64.0 GB ROM     POCO              64.0  \n",
       "\n",
       "[120 rows x 15 columns]"
      ]
     },
     "execution_count": 226,
     "metadata": {},
     "output_type": "execute_result"
    }
   ],
   "source": [
    "df.replace({\"Motorola\":\"MOTOROLA\"},inplace=True)\n",
    "df"
   ]
  },
  {
   "cell_type": "code",
   "execution_count": 227,
   "id": "58c030c6",
   "metadata": {},
   "outputs": [],
   "source": [
    "brand_summary = df.groupby('Brand').agg({\n",
    "    'Mobiles': 'count',\n",
    "    'Deal_price(₹)': 'mean'\n",
    "}).rename(columns={'Mobiles': 'Total Models', 'Deal_price(₹)': 'Avg Deal Price'})\n"
   ]
  },
  {
   "cell_type": "code",
   "execution_count": 228,
   "id": "f7701a74",
   "metadata": {},
   "outputs": [
    {
     "data": {
      "text/html": [
       "<div>\n",
       "<style scoped>\n",
       "    .dataframe tbody tr th:only-of-type {\n",
       "        vertical-align: middle;\n",
       "    }\n",
       "\n",
       "    .dataframe tbody tr th {\n",
       "        vertical-align: top;\n",
       "    }\n",
       "\n",
       "    .dataframe thead th {\n",
       "        text-align: right;\n",
       "    }\n",
       "</style>\n",
       "<table border=\"1\" class=\"dataframe\">\n",
       "  <thead>\n",
       "    <tr style=\"text-align: right;\">\n",
       "      <th></th>\n",
       "      <th>Mobiles</th>\n",
       "      <th>Original_price(₹)</th>\n",
       "      <th>Deal_price(₹)</th>\n",
       "      <th>Discount (% off)</th>\n",
       "      <th>Rating</th>\n",
       "      <th>Storage</th>\n",
       "      <th>Display</th>\n",
       "      <th>Camera</th>\n",
       "      <th>Battery (mAh)</th>\n",
       "      <th>Processor</th>\n",
       "      <th>RAM_GB</th>\n",
       "      <th>ROM_GB</th>\n",
       "      <th>Config</th>\n",
       "      <th>Brand</th>\n",
       "      <th>Total_Storage_GB</th>\n",
       "    </tr>\n",
       "  </thead>\n",
       "  <tbody>\n",
       "    <tr>\n",
       "      <th>0</th>\n",
       "      <td>realme P3x 5G (Lunar Silver, 128 GB)  (6 GB RAM)</td>\n",
       "      <td>16999.0</td>\n",
       "      <td>12999</td>\n",
       "      <td>23</td>\n",
       "      <td>4.5</td>\n",
       "      <td>6 GB RAM | 128 GB ROM</td>\n",
       "      <td>17.07 cm (6.72 inch) Full HD Display</td>\n",
       "      <td>50MP Rear Camera | 8MP Front Camera</td>\n",
       "      <td>6000</td>\n",
       "      <td>Dimensity 6400 Processor</td>\n",
       "      <td>6.0</td>\n",
       "      <td>128.0</td>\n",
       "      <td>6.0 GB RAM | 128.0 GB ROM</td>\n",
       "      <td>realme</td>\n",
       "      <td>128.0</td>\n",
       "    </tr>\n",
       "    <tr>\n",
       "      <th>1</th>\n",
       "      <td>CMF by Nothing Phone 2 Pro (Light Green, 128 G...</td>\n",
       "      <td>22999.0</td>\n",
       "      <td>18999</td>\n",
       "      <td>17</td>\n",
       "      <td>3.7</td>\n",
       "      <td>8 GB RAM | 128 GB ROM | Expandable Upto 2 TB</td>\n",
       "      <td>17.2 cm (6.77 inch) Display</td>\n",
       "      <td>50MP + 50MP + 8MP | 16MP Front Camera</td>\n",
       "      <td>5000</td>\n",
       "      <td>Dimensity 7300 Pro 5G Processor</td>\n",
       "      <td>8.0</td>\n",
       "      <td>128.0</td>\n",
       "      <td>8.0 GB RAM | 128.0 GB ROM</td>\n",
       "      <td>CMF</td>\n",
       "      <td>128.0</td>\n",
       "    </tr>\n",
       "    <tr>\n",
       "      <th>2</th>\n",
       "      <td>Infinix Note 50s 5G+ (Burgundy Red, 128 GB)  (...</td>\n",
       "      <td>21999.0</td>\n",
       "      <td>15999</td>\n",
       "      <td>27</td>\n",
       "      <td>4.6</td>\n",
       "      <td>8 GB RAM | 128 GB ROM</td>\n",
       "      <td>17.22 cm (6.78 inch) Full HD+ Display</td>\n",
       "      <td>64MP + 2MP | 13MP Front Camera</td>\n",
       "      <td>5500</td>\n",
       "      <td>Dimensity 7300 Ultimate Processor</td>\n",
       "      <td>8.0</td>\n",
       "      <td>128.0</td>\n",
       "      <td>8.0 GB RAM | 128.0 GB ROM</td>\n",
       "      <td>Infinix</td>\n",
       "      <td>128.0</td>\n",
       "    </tr>\n",
       "    <tr>\n",
       "      <th>3</th>\n",
       "      <td>realme C63 5G Charger in the Box (Starry Gold,...</td>\n",
       "      <td>13999.0</td>\n",
       "      <td>10999</td>\n",
       "      <td>21</td>\n",
       "      <td>4.5</td>\n",
       "      <td>6 GB RAM | 128 GB ROM | Expandable Upto 2 TB</td>\n",
       "      <td>16.94 cm (6.67 inch) HD+ Display</td>\n",
       "      <td>32MP Rear Camera | 8MP Front Camera</td>\n",
       "      <td>5000</td>\n",
       "      <td>Dimensity 6300 Processor</td>\n",
       "      <td>6.0</td>\n",
       "      <td>128.0</td>\n",
       "      <td>6.0 GB RAM | 128.0 GB ROM</td>\n",
       "      <td>realme</td>\n",
       "      <td>128.0</td>\n",
       "    </tr>\n",
       "    <tr>\n",
       "      <th>4</th>\n",
       "      <td>realme C63 5G Charger in the Box (Forest Green...</td>\n",
       "      <td>13999.0</td>\n",
       "      <td>10999</td>\n",
       "      <td>21</td>\n",
       "      <td>4.5</td>\n",
       "      <td>6 GB RAM | 128 GB ROM | Expandable Upto 2 TB</td>\n",
       "      <td>16.94 cm (6.67 inch) HD+ Display</td>\n",
       "      <td>32MP Rear Camera | 8MP Front Camera</td>\n",
       "      <td>5000</td>\n",
       "      <td>Dimensity 6300 Processor</td>\n",
       "      <td>6.0</td>\n",
       "      <td>128.0</td>\n",
       "      <td>6.0 GB RAM | 128.0 GB ROM</td>\n",
       "      <td>realme</td>\n",
       "      <td>128.0</td>\n",
       "    </tr>\n",
       "    <tr>\n",
       "      <th>...</th>\n",
       "      <td>...</td>\n",
       "      <td>...</td>\n",
       "      <td>...</td>\n",
       "      <td>...</td>\n",
       "      <td>...</td>\n",
       "      <td>...</td>\n",
       "      <td>...</td>\n",
       "      <td>...</td>\n",
       "      <td>...</td>\n",
       "      <td>...</td>\n",
       "      <td>...</td>\n",
       "      <td>...</td>\n",
       "      <td>...</td>\n",
       "      <td>...</td>\n",
       "      <td>...</td>\n",
       "    </tr>\n",
       "    <tr>\n",
       "      <th>115</th>\n",
       "      <td>Infinix Note 50s 5G+ (Titanium Grey, 256 GB)  ...</td>\n",
       "      <td>24999.0</td>\n",
       "      <td>17999</td>\n",
       "      <td>28</td>\n",
       "      <td>4.6</td>\n",
       "      <td>8 GB RAM | 256 GB ROM</td>\n",
       "      <td>17.22 cm (6.78 inch) Full HD+ Display</td>\n",
       "      <td>64MP + 2MP | 13MP Front Camera</td>\n",
       "      <td>5500</td>\n",
       "      <td>Dimensity 7300 Ultimate Processor</td>\n",
       "      <td>8.0</td>\n",
       "      <td>256.0</td>\n",
       "      <td>8.0 GB RAM | 256.0 GB ROM</td>\n",
       "      <td>Infinix</td>\n",
       "      <td>256.0</td>\n",
       "    </tr>\n",
       "    <tr>\n",
       "      <th>116</th>\n",
       "      <td>realme P3 5G (Comet Grey, 128 GB)  (6 GB RAM)</td>\n",
       "      <td>19999.0</td>\n",
       "      <td>15999</td>\n",
       "      <td>20</td>\n",
       "      <td>4.4</td>\n",
       "      <td>6 GB RAM | 128 GB ROM | Expandable Upto 2 TB</td>\n",
       "      <td>16.94 cm (6.67 inch) Full HD+ Display</td>\n",
       "      <td>50MP + 2MP | 16MP Front Camera</td>\n",
       "      <td>6000</td>\n",
       "      <td>6 Gen 4 Processor</td>\n",
       "      <td>6.0</td>\n",
       "      <td>128.0</td>\n",
       "      <td>6.0 GB RAM | 128.0 GB ROM</td>\n",
       "      <td>realme</td>\n",
       "      <td>128.0</td>\n",
       "    </tr>\n",
       "    <tr>\n",
       "      <th>117</th>\n",
       "      <td>Nothing Phone (3a) (Black, 128 GB)  (8 GB RAM)</td>\n",
       "      <td>27999.0</td>\n",
       "      <td>24999</td>\n",
       "      <td>10</td>\n",
       "      <td>4.5</td>\n",
       "      <td>8 GB RAM | 128 GB ROM</td>\n",
       "      <td>17.2 cm (6.77 inch) Full HD+ Display</td>\n",
       "      <td>50MP (Main) + 50MP (2X Tele Photo) + 8MP (Ultr...</td>\n",
       "      <td>5000</td>\n",
       "      <td>7s Gen3 Processor</td>\n",
       "      <td>8.0</td>\n",
       "      <td>128.0</td>\n",
       "      <td>8.0 GB RAM | 128.0 GB ROM</td>\n",
       "      <td>Nothing</td>\n",
       "      <td>128.0</td>\n",
       "    </tr>\n",
       "    <tr>\n",
       "      <th>118</th>\n",
       "      <td>OnePlus Nord CE4 lite 5G (SUPER SILVER, 128 GB...</td>\n",
       "      <td>20999.0</td>\n",
       "      <td>16580</td>\n",
       "      <td>21</td>\n",
       "      <td>4.4</td>\n",
       "      <td>8 GB RAM | 128 GB ROM</td>\n",
       "      <td>16.94 cm (6.67 inch) Display</td>\n",
       "      <td>50MP Rear Camera</td>\n",
       "      <td>5500</td>\n",
       "      <td>NaN</td>\n",
       "      <td>8.0</td>\n",
       "      <td>128.0</td>\n",
       "      <td>8.0 GB RAM | 128.0 GB ROM</td>\n",
       "      <td>OnePlus</td>\n",
       "      <td>128.0</td>\n",
       "    </tr>\n",
       "    <tr>\n",
       "      <th>119</th>\n",
       "      <td>POCO C75 5G (Aqua Bliss, 64 GB)  (4 GB RAM)</td>\n",
       "      <td>10999.0</td>\n",
       "      <td>7699</td>\n",
       "      <td>30</td>\n",
       "      <td>4.3</td>\n",
       "      <td>4 GB RAM | 64 GB ROM | Expandable Upto 1 TB</td>\n",
       "      <td>17.48 cm (6.88 inch) HD+ Display</td>\n",
       "      <td>50MP Rear Camera | 5MP Front Camera</td>\n",
       "      <td>5160</td>\n",
       "      <td>4s Gen 2 5G Processor</td>\n",
       "      <td>4.0</td>\n",
       "      <td>64.0</td>\n",
       "      <td>4.0 GB RAM | 64.0 GB ROM</td>\n",
       "      <td>POCO</td>\n",
       "      <td>64.0</td>\n",
       "    </tr>\n",
       "  </tbody>\n",
       "</table>\n",
       "<p>120 rows × 15 columns</p>\n",
       "</div>"
      ],
      "text/plain": [
       "                                               Mobiles  Original_price(₹)  \\\n",
       "0     realme P3x 5G (Lunar Silver, 128 GB)  (6 GB RAM)            16999.0   \n",
       "1    CMF by Nothing Phone 2 Pro (Light Green, 128 G...            22999.0   \n",
       "2    Infinix Note 50s 5G+ (Burgundy Red, 128 GB)  (...            21999.0   \n",
       "3    realme C63 5G Charger in the Box (Starry Gold,...            13999.0   \n",
       "4    realme C63 5G Charger in the Box (Forest Green...            13999.0   \n",
       "..                                                 ...                ...   \n",
       "115  Infinix Note 50s 5G+ (Titanium Grey, 256 GB)  ...            24999.0   \n",
       "116      realme P3 5G (Comet Grey, 128 GB)  (6 GB RAM)            19999.0   \n",
       "117     Nothing Phone (3a) (Black, 128 GB)  (8 GB RAM)            27999.0   \n",
       "118  OnePlus Nord CE4 lite 5G (SUPER SILVER, 128 GB...            20999.0   \n",
       "119        POCO C75 5G (Aqua Bliss, 64 GB)  (4 GB RAM)            10999.0   \n",
       "\n",
       "     Deal_price(₹) Discount (% off)  Rating  \\\n",
       "0            12999               23     4.5   \n",
       "1            18999               17     3.7   \n",
       "2            15999               27     4.6   \n",
       "3            10999               21     4.5   \n",
       "4            10999               21     4.5   \n",
       "..             ...              ...     ...   \n",
       "115          17999               28     4.6   \n",
       "116          15999               20     4.4   \n",
       "117          24999               10     4.5   \n",
       "118          16580               21     4.4   \n",
       "119           7699               30     4.3   \n",
       "\n",
       "                                          Storage  \\\n",
       "0                           6 GB RAM | 128 GB ROM   \n",
       "1    8 GB RAM | 128 GB ROM | Expandable Upto 2 TB   \n",
       "2                           8 GB RAM | 128 GB ROM   \n",
       "3    6 GB RAM | 128 GB ROM | Expandable Upto 2 TB   \n",
       "4    6 GB RAM | 128 GB ROM | Expandable Upto 2 TB   \n",
       "..                                            ...   \n",
       "115                         8 GB RAM | 256 GB ROM   \n",
       "116  6 GB RAM | 128 GB ROM | Expandable Upto 2 TB   \n",
       "117                         8 GB RAM | 128 GB ROM   \n",
       "118                         8 GB RAM | 128 GB ROM   \n",
       "119   4 GB RAM | 64 GB ROM | Expandable Upto 1 TB   \n",
       "\n",
       "                                   Display  \\\n",
       "0     17.07 cm (6.72 inch) Full HD Display   \n",
       "1              17.2 cm (6.77 inch) Display   \n",
       "2    17.22 cm (6.78 inch) Full HD+ Display   \n",
       "3         16.94 cm (6.67 inch) HD+ Display   \n",
       "4         16.94 cm (6.67 inch) HD+ Display   \n",
       "..                                     ...   \n",
       "115  17.22 cm (6.78 inch) Full HD+ Display   \n",
       "116  16.94 cm (6.67 inch) Full HD+ Display   \n",
       "117   17.2 cm (6.77 inch) Full HD+ Display   \n",
       "118           16.94 cm (6.67 inch) Display   \n",
       "119       17.48 cm (6.88 inch) HD+ Display   \n",
       "\n",
       "                                                Camera Battery (mAh)  \\\n",
       "0                  50MP Rear Camera | 8MP Front Camera          6000   \n",
       "1                50MP + 50MP + 8MP | 16MP Front Camera          5000   \n",
       "2                       64MP + 2MP | 13MP Front Camera          5500   \n",
       "3                  32MP Rear Camera | 8MP Front Camera          5000   \n",
       "4                  32MP Rear Camera | 8MP Front Camera          5000   \n",
       "..                                                 ...           ...   \n",
       "115                     64MP + 2MP | 13MP Front Camera          5500   \n",
       "116                     50MP + 2MP | 16MP Front Camera          6000   \n",
       "117  50MP (Main) + 50MP (2X Tele Photo) + 8MP (Ultr...          5000   \n",
       "118                                   50MP Rear Camera          5500   \n",
       "119                50MP Rear Camera | 5MP Front Camera          5160   \n",
       "\n",
       "                             Processor  RAM_GB  ROM_GB  \\\n",
       "0             Dimensity 6400 Processor     6.0   128.0   \n",
       "1      Dimensity 7300 Pro 5G Processor     8.0   128.0   \n",
       "2    Dimensity 7300 Ultimate Processor     8.0   128.0   \n",
       "3             Dimensity 6300 Processor     6.0   128.0   \n",
       "4             Dimensity 6300 Processor     6.0   128.0   \n",
       "..                                 ...     ...     ...   \n",
       "115  Dimensity 7300 Ultimate Processor     8.0   256.0   \n",
       "116                  6 Gen 4 Processor     6.0   128.0   \n",
       "117                  7s Gen3 Processor     8.0   128.0   \n",
       "118                                NaN     8.0   128.0   \n",
       "119              4s Gen 2 5G Processor     4.0    64.0   \n",
       "\n",
       "                        Config    Brand  Total_Storage_GB  \n",
       "0    6.0 GB RAM | 128.0 GB ROM   realme             128.0  \n",
       "1    8.0 GB RAM | 128.0 GB ROM      CMF             128.0  \n",
       "2    8.0 GB RAM | 128.0 GB ROM  Infinix             128.0  \n",
       "3    6.0 GB RAM | 128.0 GB ROM   realme             128.0  \n",
       "4    6.0 GB RAM | 128.0 GB ROM   realme             128.0  \n",
       "..                         ...      ...               ...  \n",
       "115  8.0 GB RAM | 256.0 GB ROM  Infinix             256.0  \n",
       "116  6.0 GB RAM | 128.0 GB ROM   realme             128.0  \n",
       "117  8.0 GB RAM | 128.0 GB ROM  Nothing             128.0  \n",
       "118  8.0 GB RAM | 128.0 GB ROM  OnePlus             128.0  \n",
       "119   4.0 GB RAM | 64.0 GB ROM     POCO              64.0  \n",
       "\n",
       "[120 rows x 15 columns]"
      ]
     },
     "execution_count": 228,
     "metadata": {},
     "output_type": "execute_result"
    }
   ],
   "source": [
    "df"
   ]
  },
  {
   "cell_type": "markdown",
   "id": "098f46f5",
   "metadata": {},
   "source": [
    "## Product all Details"
   ]
  },
  {
   "cell_type": "code",
   "execution_count": 229,
   "id": "e7dafb33",
   "metadata": {},
   "outputs": [
    {
     "name": "stdout",
     "output_type": "stream",
     "text": [
      "Total Mobiles Scraped: 120\n",
      "Average Deal Price: ₹18518\n",
      "Highest Discount: 58.0%\n",
      "Most Common Storage Variant: 8 GB RAM | 128 GB ROM\n",
      "Average Rating: 4.37 stars\n",
      "Most Common Processor: Dimensity 6300 Processor\n"
     ]
    }
   ],
   "source": [
    "# Assuming df is already defined\n",
    "df['Discount (% off)'] = pd.to_numeric(df['Discount (% off)'], errors='coerce')\n",
    "\n",
    "# Optional: If you want to handle NaN values, you can drop or fill them\n",
    "df = df.dropna(subset=['Discount (% off)'])  # Drop rows where Discount is NaN\n",
    "\n",
    "\n",
    "# Sample KPI calculations\n",
    "total_mobiles = len(df)\n",
    "avg_deal_price = df['Deal_price(₹)'].mean()\n",
    "highest_discount = df['Discount (% off)'].max()\n",
    "most_common_storage = df['Storage'].mode()[0]\n",
    "avg_rating = df['Rating'].mean()\n",
    "most_common_processor = df['Processor'].mode()[0]\n",
    "\n",
    "print(f\"Total Mobiles Scraped: {total_mobiles}\")\n",
    "print(f\"Average Deal Price: ₹{avg_deal_price:.0f}\")\n",
    "print(f\"Highest Discount: {highest_discount}%\")\n",
    "print(f\"Most Common Storage Variant: {most_common_storage}\")\n",
    "print(f\"Average Rating: {avg_rating:.2f} stars\")\n",
    "print(f\"Most Common Processor: {most_common_processor}\")\n"
   ]
  },
  {
   "cell_type": "markdown",
   "id": "056d56a9",
   "metadata": {},
   "source": [
    "## Average Deal Price by Brand"
   ]
  },
  {
   "cell_type": "code",
   "execution_count": 230,
   "id": "d1bcfd2c",
   "metadata": {},
   "outputs": [
    {
     "data": {
      "image/png": "[encoded data removed]",
      "text/plain": [
       "<Figure size 1000x600 with 1 Axes>"
      ]
     },
     "metadata": {},
     "output_type": "display_data"
    }
   ],
   "source": [
    "brand_summary = brand_summary.sort_values('Avg Deal Price', ascending=False)\n",
    "\n",
    "plt.figure(figsize=(10,6))\n",
    "plt.bar(brand_summary.index, brand_summary['Avg Deal Price'], color='skyblue')\n",
    "plt.xticks(rotation=45)\n",
    "plt.ylabel('Average Deal Price (₹)')\n",
    "plt.title('Average Deal Price by Brand')\n",
    "plt.tight_layout()\n",
    "plt.show()"
   ]
  },
  {
   "cell_type": "code",
   "execution_count": null,
   "id": "ed76ec31",
   "metadata": {},
   "outputs": [],
   "source": []
  },
  {
   "cell_type": "markdown",
   "id": "98e21bd2",
   "metadata": {},
   "source": [
    "## Number of Mobiles by Brand"
   ]
  },
  {
   "cell_type": "code",
   "execution_count": 231,
   "id": "10cc2d2e",
   "metadata": {},
   "outputs": [
    {
     "data": {
      "image/png": "[encoded data removed]",
      "text/plain": [
       "<Figure size 1000x600 with 1 Axes>"
      ]
     },
     "metadata": {},
     "output_type": "display_data"
    }
   ],
   "source": [
    "plt.figure(figsize=(10,6))\n",
    "plt.bar(brand_summary.index, brand_summary['Total Models'], color='lightgreen')\n",
    "plt.xticks(rotation=45)\n",
    "plt.ylabel('Number of Models')\n",
    "plt.title('Number of Mobiles by Brand')\n",
    "plt.tight_layout()\n",
    "plt.show()\n"
   ]
  },
  {
   "cell_type": "code",
   "execution_count": 232,
   "id": "dcb7888b",
   "metadata": {},
   "outputs": [
    {
     "data": {
      "text/plain": [
       "Text(0, 0.5, 'Brand')"
      ]
     },
     "execution_count": 232,
     "metadata": {},
     "output_type": "execute_result"
    },
    {
     "data": {
      "image/png": "[encoded data removed]",
      "text/plain": [
       "<Figure size 640x480 with 1 Axes>"
      ]
     },
     "metadata": {},
     "output_type": "display_data"
    }
   ],
   "source": [
    "plt.scatter(df['Original_price(₹)'],df['Brand'])\n",
    "plt.title(\"Brands and Original prices\")\n",
    "plt.xlabel('Price')\n",
    "plt.ylabel('Brand')"
   ]
  },
  {
   "cell_type": "markdown",
   "id": "b4845ea6",
   "metadata": {},
   "source": [
    "## Top 10 Mobiles with Highest Discount"
   ]
  },
  {
   "cell_type": "code",
   "execution_count": 233,
   "id": "6f1f2d38",
   "metadata": {},
   "outputs": [
    {
     "data": {
      "image/png": "[encoded data removed]",
      "text/plain": [
       "<Figure size 1000x500 with 1 Axes>"
      ]
     },
     "metadata": {},
     "output_type": "display_data"
    }
   ],
   "source": [
    "top_discount = df.sort_values(by='Discount (% off)', ascending=False).head(10)\n",
    "\n",
    "plt.figure(figsize=(10, 5))\n",
    "plt.barh(top_discount['Mobiles'], top_discount['Discount (% off)'], color='green')\n",
    "plt.xlabel('Discount (%)')\n",
    "plt.title('Top 10 Mobiles with Highest Discount')\n",
    "plt.gca().invert_yaxis()\n",
    "plt.tight_layout()\n",
    "plt.show()\n"
   ]
  },
  {
   "cell_type": "markdown",
   "id": "2157468d",
   "metadata": {},
   "source": [
    "## Rating Distribution"
   ]
  },
  {
   "cell_type": "code",
   "execution_count": 234,
   "id": "f6713ac7",
   "metadata": {},
   "outputs": [
    {
     "data": {
      "image/png": "[encoded data removed]",
      "text/plain": [
       "<Figure size 800x400 with 1 Axes>"
      ]
     },
     "metadata": {},
     "output_type": "display_data"
    }
   ],
   "source": [
    "plt.figure(figsize=(8, 4))\n",
    "plt.hist(df['Rating'], bins=[3, 3.5, 4, 4.5, 5], color='orange', edgecolor='black')\n",
    "plt.xlabel('Rating')\n",
    "plt.ylabel('Number of Mobiles')\n",
    "plt.title('Rating Distribution')\n",
    "plt.tight_layout()\n",
    "plt.show()\n"
   ]
  },
  {
   "cell_type": "markdown",
   "id": "46a738a3",
   "metadata": {},
   "source": [
    "## Deal Price vs Rating"
   ]
  },
  {
   "cell_type": "code",
   "execution_count": 235,
   "id": "e67963b4",
   "metadata": {},
   "outputs": [
    {
     "data": {
      "image/png": "[encoded data removed]",
      "text/plain": [
       "<Figure size 800x500 with 1 Axes>"
      ]
     },
     "metadata": {},
     "output_type": "display_data"
    }
   ],
   "source": [
    "plt.figure(figsize=(8, 5))\n",
    "plt.scatter(df['Rating'], df['Deal_price(₹)'], alpha=0.7, color='purple')\n",
    "plt.xlabel('Rating')\n",
    "plt.ylabel('Deal Price (₹)')\n",
    "plt.title('Deal Price vs Rating')\n",
    "plt.tight_layout()\n",
    "plt.show()\n"
   ]
  },
  {
   "cell_type": "markdown",
   "id": "6612af9e",
   "metadata": {},
   "source": [
    "## Original vs Deal Prices by Brand"
   ]
  },
  {
   "cell_type": "code",
   "execution_count": 236,
   "id": "00f57784",
   "metadata": {},
   "outputs": [
    {
     "data": {
      "image/png": "[encoded data removed]",
      "text/plain": [
       "<Figure size 1200x600 with 1 Axes>"
      ]
     },
     "metadata": {},
     "output_type": "display_data"
    }
   ],
   "source": [
    "\n",
    "brand_grouped = df.groupby('Brand')[['Original_price(₹)', 'Deal_price(₹)']].mean().reset_index()\n",
    "\n",
    "xpos = np.arange(len(brand_grouped))\n",
    "\n",
    "\n",
    "plt.figure(figsize=(12,6))\n",
    "plt.bar(xpos, brand_grouped['Original_price(₹)'], width=0.4, label='Original Price')\n",
    "plt.bar(xpos + 0.4, brand_grouped['Deal_price(₹)'], width=0.4, label='Deal Price')\n",
    "\n",
    "plt.title('Original vs Deal Prices by Brand')\n",
    "plt.xlabel('Brand')\n",
    "plt.ylabel('Price (₹)')\n",
    "plt.xticks(xpos + 0.2, brand_grouped['Brand'], rotation=45)\n",
    "plt.legend()\n",
    "plt.tight_layout()\n",
    "plt.show()\n"
   ]
  },
  {
   "cell_type": "markdown",
   "id": "3f7b40c5",
   "metadata": {},
   "source": [
    "## Distribution of Discounts"
   ]
  },
  {
   "cell_type": "code",
   "execution_count": 238,
   "id": "902c9c8a",
   "metadata": {},
   "outputs": [
    {
     "data": {
      "image/png": "[encoded data removed]",
      "text/plain": [
       "<Figure size 1000x600 with 1 Axes>"
      ]
     },
     "metadata": {},
     "output_type": "display_data"
    }
   ],
   "source": [
    "df['Discount (% off)'] = pd.to_numeric(df['Discount (% off)'], errors='coerce')\n",
    "\n",
    "# Drop NaNs\n",
    "df = df.dropna(subset=['Discount (% off)'])\n",
    "\n",
    "# Define bins and labels\n",
    "bins = [0, 10, 20, 30, 40, 50, 60, 100]\n",
    "labels = ['0-10%', '10-20%', '20-30%', '30-40%', '40-50%', '50-60%', '60%+']\n",
    "\n",
    "# Bin the discounts\n",
    "df['Discount Range'] = pd.cut(df['Discount (% off)'], bins=bins, labels=labels, include_lowest=True)\n",
    "\n",
    "# Count occurrences in each range\n",
    "discount_dist = df['Discount Range'].value_counts().sort_index()\n",
    "\n",
    "# Plot bar graph\n",
    "plt.figure(figsize=(10,6))\n",
    "plt.bar(discount_dist.index, discount_dist.values, color='skyblue')\n",
    "plt.title('Distribution of Discounts')\n",
    "plt.xlabel('Discount Range')\n",
    "plt.ylabel('Number of Products')\n",
    "plt.xticks(rotation=45)\n",
    "plt.tight_layout()\n",
    "plt.show()\n"
   ]
  },
  {
   "cell_type": "markdown",
   "id": "4864af91",
   "metadata": {},
   "source": [
    "## Most Common Storage Variants"
   ]
  },
  {
   "cell_type": "code",
   "execution_count": 239,
   "id": "810c4b24",
   "metadata": {},
   "outputs": [
    {
     "data": {
      "image/png": "[encoded data removed]",
      "text/plain": [
       "<Figure size 800x800 with 1 Axes>"
      ]
     },
     "metadata": {},
     "output_type": "display_data"
    }
   ],
   "source": [
    "df['Storage'] = df['Storage'].astype(str).str.strip().str.upper()\n",
    "\n",
    "storage_counts = df['Storage'].value_counts()\n",
    "\n",
    "top_storage = storage_counts[:6] \n",
    "\n",
    "plt.figure(figsize=(8, 8))\n",
    "plt.pie(top_storage, labels=[f\"{label} ({count/df.shape[0]*100:.1f}%)\" for label, count in top_storage.items()],\n",
    "        autopct='%1.1f%%', startangle=140)\n",
    "\n",
    "plt.title('Most Common Storage Variants')\n",
    "plt.show()\n"
   ]
  },
  {
   "cell_type": "markdown",
   "id": "77f82ca0",
   "metadata": {},
   "source": [
    "# Conclusion\n",
    "In this project, we successfully scraped mobile phone data from an e-commerce platform and performed detailed analysis to extract key insights. We explored pricing patterns, discount distributions, popular storage variants, average ratings, and most common processor types.\n",
    "\n",
    "Visualizations like bar charts and pie charts were used to communicate trends effectively, providing a clear understanding of the competitive landscape. These insights can assist buyers in making informed decisions and help sellers strategize offerings based on market trends."
   ]
  },
  {
   "cell_type": "code",
   "execution_count": null,
   "id": "75d2c49a",
   "metadata": {},
   "outputs": [],
   "source": []
  },
  {
   "cell_type": "code",
   "execution_count": null,
   "id": "c6e6cd32",
   "metadata": {},
   "outputs": [],
   "source": []
  }
 ],
 "metadata": {
  "kernelspec": {
   "display_name": "Python 3 (ipykernel)",
   "language": "python",
   "name": "python3"
  },
  "language_info": {
   "codemirror_mode": {
    "name": "ipython",
    "version": 3
   },
   "file_extension": ".py",
   "mimetype": "text/x-python",
   "name": "python",
   "nbconvert_exporter": "python",
   "pygments_lexer": "ipython3",
   "version": "3.11.3"
  }
 },
 "nbformat": 4,
 "nbformat_minor": 5
}
